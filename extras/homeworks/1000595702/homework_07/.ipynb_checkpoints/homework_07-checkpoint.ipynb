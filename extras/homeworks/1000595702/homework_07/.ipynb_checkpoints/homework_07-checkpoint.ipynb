{
 "cells": [
  {
   "cell_type": "code",
   "execution_count": null,
   "metadata": {
    "id": "MSU-SS2Y1Sju"
   },
   "outputs": [],
   "source": [
    "import numpy as np"
   ]
  },
  {
   "cell_type": "markdown",
   "metadata": {
    "id": "hCgGdO-_5Nxz"
   },
   "source": [
    "El sistema de ecuaciones a solucionar es:\n",
    "\n",
    "$$RI=E$$\n",
    "\n",
    "$$\\begin{bmatrix}{-R_1}&{-R_2}&{-R_3}&{0}&{0}&{0}\\\\{0}&{R_2}&{0}&{-R_4}&{0}&{0}\\\\{0}&{0}&{R_3}&{0}&{-R_5}&{0}\\\\{1}&{0}&{-1}&{0}&{-1}&{0}\\\\{-1}&{1}&{0}&{1}&{0}&{0}\\\\{0}&{0}&{0}&{-1}&{1}&{1}\\end{bmatrix} \\begin{bmatrix}{I_1}\\\\{I_2}\\\\{I_3}\\\\{I_4}\\\\{I_5}\\\\{I_6}\\end{bmatrix}=\\begin{bmatrix}{-E_1}\\\\{-E_2}\\\\{E_2}\\\\{0}\\\\{0}\\\\{0}\\end{bmatrix}$$\n"
   ]
  },
  {
   "cell_type": "code",
   "execution_count": null,
   "metadata": {
    "id": "S67_ou9m2GC1"
   },
   "outputs": [],
   "source": [
    "R = np.array([[-1,-2,-3,0,0,0],[0,2,0,-4,0,0],[0,0,3,0,-5,0],[1,0,-1,0,-1,0],[-1,1,0,1,0,0],[0,0,0,-1,1,1]])\n",
    "E = np.array([[-10],[-40],[40],[0],[0],[0]])"
   ]
  },
  {
   "cell_type": "code",
   "execution_count": null,
   "metadata": {
    "colab": {
     "base_uri": "https://localhost:8080/"
    },
    "id": "ZhHbaJz26uCn",
    "outputId": "c28cb1c5-1591-4565-9290-502e947307a2"
   },
   "outputs": [
    {
     "name": "stdout",
     "output_type": "stream",
     "text": [
      "[[ 1.98019802]\n",
      " [-5.34653465]\n",
      " [ 6.23762376]\n",
      " [ 7.32673267]\n",
      " [-4.25742574]\n",
      " [11.58415842]]\n"
     ]
    }
   ],
   "source": [
    "I = np.linalg.solve(R,E)\n",
    "print(I)"
   ]
  }
 ],
 "metadata": {
  "colab": {
   "provenance": []
  },
  "kernelspec": {
   "display_name": "Python 3",
   "language": "python",
   "name": "python3"
  },
  "language_info": {
   "codemirror_mode": {
    "name": "ipython",
    "version": 3
   },
   "file_extension": ".py",
   "mimetype": "text/x-python",
   "name": "python",
   "nbconvert_exporter": "python",
   "pygments_lexer": "ipython3",
   "version": "3.7.2"
  }
 },
 "nbformat": 4,
 "nbformat_minor": 1
}
