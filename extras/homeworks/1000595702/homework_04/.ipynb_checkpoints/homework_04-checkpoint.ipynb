{
 "cells": [
  {
   "cell_type": "code",
   "execution_count": null,
   "metadata": {
    "id": "v6oHnTb-VgtZ"
   },
   "outputs": [],
   "source": [
    "def func(x):\n",
    "  return x**2+1"
   ]
  },
  {
   "cell_type": "code",
   "execution_count": null,
   "metadata": {
    "id": "vFrI4D7HQbga"
   },
   "outputs": [],
   "source": [
    "def deriv(func, a, method='central', h=1e-1):\n",
    "  if method == 'forward':\n",
    "    return (func(a + h) - func(a))/h\n",
    "  elif method == 'central':\n",
    "    return (func(a) - func(a - h))/h\n",
    "  elif method == 'backward':\n",
    "    return (func(a + h) - func(a - h))/(2*h)\n",
    "  else:\n",
    "    raise ValueError('You can only choose a method: forward, central and backward.')"
   ]
  },
  {
   "cell_type": "code",
   "execution_count": null,
   "metadata": {
    "colab": {
     "base_uri": "https://localhost:8080/"
    },
    "id": "G3aF6oDiVVCX",
    "outputId": "531b577e-da4e-4905-ec9c-9f10e9dd56a9"
   },
   "outputs": [
    {
     "data": {
      "text/plain": [
       "1.8999999999999995"
      ]
     },
     "execution_count": 41,
     "metadata": {},
     "output_type": "execute_result"
    }
   ],
   "source": [
    "deriv(func, 1)"
   ]
  }
 ],
 "metadata": {
  "colab": {
   "name": "homewoek_04.ipynb",
   "provenance": []
  },
  "kernelspec": {
   "display_name": "Python 3",
   "language": "python",
   "name": "python3"
  },
  "language_info": {
   "codemirror_mode": {
    "name": "ipython",
    "version": 3
   },
   "file_extension": ".py",
   "mimetype": "text/x-python",
   "name": "python",
   "nbconvert_exporter": "python",
   "pygments_lexer": "ipython3",
   "version": "3.7.2"
  }
 },
 "nbformat": 4,
 "nbformat_minor": 1
}
