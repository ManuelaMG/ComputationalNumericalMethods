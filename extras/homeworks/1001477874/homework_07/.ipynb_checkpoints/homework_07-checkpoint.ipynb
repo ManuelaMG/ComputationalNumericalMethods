{
 "cells": [
  {
   "cell_type": "markdown",
   "id": "bearing-relations",
   "metadata": {},
   "source": [
    "# Class exercises 2:"
   ]
  },
  {
   "cell_type": "markdown",
   "id": "protecting-bruce",
   "metadata": {},
   "source": [
    "Consider a circuit:\n",
    "<img src=\"imgs/homework_circuit.png\" width=\"700\" />"
   ]
  },
  {
   "cell_type": "markdown",
   "id": "through-dollar",
   "metadata": {},
   "source": [
    "The set of linear equations comes from the Kirchhoff's rules (in case of doubts review the literature)\n",
    "\n",
    "Find the currents $I_1 \\cdots I_6$ knowing that the \n",
    "\n",
    "Resistances are:\n",
    "\n",
    "$R_1=1 \\Omega$,\n",
    "$R_2=2 \\Omega$,\n",
    "$R_3=3 \\Omega$,\n",
    "$R_4=4 \\Omega$,\n",
    "$R_5=5 \\Omega$\n",
    "\n",
    "Voltages are:\n",
    "$E_1=10 V$,\n",
    "$E_2=40 V$\n",
    "\n",
    "use python build in functions  `np.linalg.solve(A,b)`"
   ]
  },
  {
   "cell_type": "code",
   "execution_count": 2,
   "id": "982ca414",
   "metadata": {},
   "outputs": [
    {
     "data": {
      "text/plain": [
       "array([ 1.98019802, -5.34653465,  6.23762376,  7.32673267, -4.25742574,\n",
       "       11.58415842])"
      ]
     },
     "execution_count": 2,
     "metadata": {},
     "output_type": "execute_result"
    }
   ],
   "source": [
    "import numpy as np\n",
    "A = np.array([[-1,-2,-3,0,0,0],[0,2,0,-4,0,0],[0,0,3,0,-5,0],[1,0,-1,0,-1,0],[-1,1,0,1,0,0],[0,0,0,-1,1,1]])\n",
    "B = np.array([-10,-40,40,0,0,0])\n",
    "I = np.linalg.solve(A,B)\n",
    "I"
   ]
  },
  {
   "cell_type": "code",
   "execution_count": null,
   "id": "7e732700",
   "metadata": {},
   "outputs": [],
   "source": []
  }
 ],
 "metadata": {
  "kernelspec": {
   "display_name": "Python 3",
   "language": "python",
   "name": "python3"
  },
  "language_info": {
   "codemirror_mode": {
    "name": "ipython",
    "version": 3
   },
   "file_extension": ".py",
   "mimetype": "text/x-python",
   "name": "python",
   "nbconvert_exporter": "python",
   "pygments_lexer": "ipython3",
   "version": "3.7.2"
  }
 },
 "nbformat": 4,
 "nbformat_minor": 5
}
