{
 "cells": [
  {
   "cell_type": "markdown",
   "id": "5aec7b5b",
   "metadata": {
    "id": "5aec7b5b"
   },
   "source": [
    "# Examen parcial 3  (algebra lineal)\n",
    "* Antes de enviar el archivo, $\\textbf{reiniciar y ejecutar el kernel}$ para ver que el archivo se compila sin errores\n",
    "* enviar el archivo jupyter sin anexos antes de las 10.00am del 14.09.2022 a mi dirección de correo electrónico: michal.hemmerling@udea.edu.co "
   ]
  },
  {
   "cell_type": "markdown",
   "id": "21580966",
   "metadata": {
    "id": "21580966"
   },
   "source": [
    "## Ejercicio 1.\n",
    "\n",
    "En varios casos, sistema de equaciones diferentiales lineares\n",
    "tipo \n",
    "$$\\frac{d\\textbf{x}}{dt}=\\textbf{A}\\textbf{x}$$\n",
    "con solucion:\n",
    "$$ \\textbf{x}(t) = e^{t\\textbf{A}} \\textbf{C}$$\n",
    "\n",
    "(donde $\\textbf{x}$ es un vector, $\\textbf{A}$ es matrix y $\\textbf{C}$ es vector de condiciones iniciales)\n",
    "\n",
    "se simplifica a calcular exponente de matriz: $e^{\\textbf{A}t}$!!!!\n",
    "\n",
    "$\\textbf{Como ejercicio, calcule $e^{A}$}$ definido como:\n",
    "\n",
    "$$e^A=Pe^DP^{-1}$$\n",
    "\n",
    "donde $e^D$ es\n",
    "\n",
    "$$e^D=\n",
    "\\begin{bmatrix}\n",
    "e^{\\lambda_1} & 0 & \\cdots & 0 \\\\\n",
    "0 & e^{\\lambda_2} & \\cdots & 0 \\\\\n",
    "\\vdots & \\vdots & \\ddots & \\vdots\\\\\n",
    "0 & 0 & \\cdots & e^{\\lambda_n} \\\\\n",
    "\\end{bmatrix}\n",
    "$$\n",
    "\n",
    "$P$ son eigenvectors y $P^{-1}$ es inversion de $P$\n",
    "\n",
    "#### a) encuentra $e^A$ si:\n",
    "\n",
    "$$A=\n",
    "\\begin{bmatrix}\n",
    "1 &  -1 & -1 & -1\\\\\n",
    "-1 &  2 & 0 & 0\\\\\n",
    "-1 &  3 & 3 & 0 \\\\\n",
    "-1 &  0 & 1 & 4 \\\\\n",
    "\\end{bmatrix}$$\n",
    "\n",
    "#### b) Construye una function $\\textbf{matrix_exp(A)}$ que acepta una matrix A como un argumento\n",
    "#### c) si matrix no es cuadrada: imprime \"Matrix must be square\" y sale la funcion usando: $\\textbf{return}$\n",
    "#### d) si matrix es cuadrada ($\\textbf{else:}$): calcule y imprime valor de $e^A$"
   ]
  },
  {
   "cell_type": "code",
   "execution_count": 5,
   "id": "h5NpjlRgI2P9",
   "metadata": {
    "id": "h5NpjlRgI2P9"
   },
   "outputs": [],
   "source": [
    "import numpy as np\n",
    "import scipy.linalg"
   ]
  },
  {
   "cell_type": "code",
   "execution_count": 6,
   "id": "UPlI5p7eLeDr",
   "metadata": {
    "id": "UPlI5p7eLeDr"
   },
   "outputs": [],
   "source": [
    "A = np.array([[1,-1,-1,-1],[-1,2,0,0],[-1,3,3,0],[-1,0,1,4]])"
   ]
  },
  {
   "cell_type": "code",
   "execution_count": 3,
   "id": "oNBKtKRfJIQc",
   "metadata": {
    "id": "oNBKtKRfJIQc"
   },
   "outputs": [],
   "source": [
    "def matrix_exp(A):\n",
    "\n",
    "  if np.shape(A)[0] != np.shape(A)[1]:\n",
    "    print(\"Matrix must be square\")\n",
    "\n",
    "    return\n",
    "\n",
    "  else:\n",
    "    evalues, P = np.linalg.eig(A)\n",
    "    e_D = np.diag(np.exp(evalues))\n",
    "    P_inv = np.linalg.inv(P)\n",
    "    e_A = np.matmul(P, np.matmul(e_D, P_inv))\n",
    "\n",
    "    return e_A"
   ]
  },
  {
   "cell_type": "code",
   "execution_count": 4,
   "id": "b4on9nA6KtiN",
   "metadata": {
    "colab": {
     "base_uri": "https://localhost:8080/"
    },
    "id": "b4on9nA6KtiN",
    "outputId": "c6875da5-83f2-4ed0-cfce-aebcdc22d7ce"
   },
   "outputs": [
    {
     "name": "stdout",
     "output_type": "stream",
     "text": [
      "Matrix must be square\n"
     ]
    }
   ],
   "source": [
    "M = np.array([[1,2,4],[2,5,-1]])\n",
    "matrix_exp(M)"
   ]
  },
  {
   "cell_type": "code",
   "execution_count": 8,
   "id": "S5DuUk-nLHLi",
   "metadata": {
    "colab": {
     "base_uri": "https://localhost:8080/"
    },
    "id": "S5DuUk-nLHLi",
    "outputId": "e3f83ce8-1f23-4139-a909-6855562f4bce"
   },
   "outputs": [
    {
     "data": {
      "text/plain": [
       "array([[ 23.84711784, -34.8727468 , -26.67167604, -26.67167604],\n",
       "       [-10.2695345 ,  17.71451082,   8.20107077,   8.20107077],\n",
       "       [-32.34076479,  61.38346694,  39.01966047,  18.93412354],\n",
       "       [-45.60579958,  59.63691501,  56.64141472,  76.72695165]])"
      ]
     },
     "execution_count": 8,
     "metadata": {},
     "output_type": "execute_result"
    }
   ],
   "source": [
    "e_A = matrix_exp(A)\n",
    "e_A"
   ]
  },
  {
   "cell_type": "markdown",
   "id": "dc22ph4MM1Rc",
   "metadata": {
    "id": "dc22ph4MM1Rc"
   },
   "source": [
    "Prueba con la librería:"
   ]
  },
  {
   "cell_type": "code",
   "execution_count": 9,
   "id": "bgZxaOXkL74N",
   "metadata": {
    "colab": {
     "base_uri": "https://localhost:8080/"
    },
    "id": "bgZxaOXkL74N",
    "outputId": "1aafac31-292c-4eb8-b347-441d64ceeada"
   },
   "outputs": [
    {
     "data": {
      "text/plain": [
       "array([[ 23.84711784, -34.8727468 , -26.67167604, -26.67167604],\n",
       "       [-10.2695345 ,  17.71451082,   8.20107077,   8.20107077],\n",
       "       [-32.34076479,  61.38346694,  39.01966047,  18.93412354],\n",
       "       [-45.60579958,  59.63691501,  56.64141472,  76.72695165]])"
      ]
     },
     "execution_count": 9,
     "metadata": {},
     "output_type": "execute_result"
    }
   ],
   "source": [
    "e_A_prueba = scipy.linalg.expm(A)\n",
    "e_A_prueba"
   ]
  },
  {
   "cell_type": "markdown",
   "id": "0a953839",
   "metadata": {
    "id": "0a953839"
   },
   "source": [
    "## Ejercicio 2."
   ]
  },
  {
   "cell_type": "markdown",
   "id": "c07fe99d",
   "metadata": {
    "id": "c07fe99d"
   },
   "source": [
    "Usando las leyes de circuito de Kirchhoff, es posible resolver el siguiente sistema:\n",
    "\n",
    "![](https://raw.githubusercontent.com/sbustamante/ComputationalMethods/master/material/figures/circuit.png)\n",
    "\n",
    "obteniendo las siguientes ecuaciones A,B,C: \n",
    "\n",
    "\\begin{align}\n",
    "A:&&I_A( R+4R ) - I_B( 4R ) =& E \\\\\n",
    "C:&&-I_A( 4R ) + I_B( 4R + 3R ) - I_C(3R) =& 0 \\\\\n",
    "B:&&-I_B( 3R ) + I_C(3R+2R) =& -2E\\,\n",
    "\\end{align}"
   ]
  },
  {
   "cell_type": "markdown",
   "id": "47850497",
   "metadata": {
    "id": "47850497"
   },
   "source": [
    "Encontre: $I_A, I_B, I_C$ usando: \n",
    "\n",
    "a) `scipy.linalg.solve`  \n",
    "b) `scipy.linalg.inv(A)`  \n",
    "c) `scipy.linalg.lu(A)`\n",
    "\n",
    "*podemos substituir: $x_n=\\frac{R I_n}{E}$ (n=A,B,C)"
   ]
  },
  {
   "cell_type": "markdown",
   "id": "Sg1SGp3cSEYN",
   "metadata": {
    "id": "Sg1SGp3cSEYN"
   },
   "source": [
    "El sistema de ecuaciones a solucionar es:\n",
    "\n",
    "$$IR=E$$\n",
    "\n",
    "Haciendo la sistitución sugerida se tiene que:\n",
    "\n",
    "$$\\begin{bmatrix}{5}&{-4}&{0}\\\\{-4}&{7}&{-3}\\\\{0}&{-3}&{5}\\end{bmatrix} \\begin{bmatrix}{x_A}\\\\{x_B}\\\\{x_C}\\end{bmatrix}=\\begin{bmatrix}{1}\\\\{0}\\\\{-2}\\end{bmatrix}$$\n"
   ]
  },
  {
   "cell_type": "code",
   "execution_count": 34,
   "id": "T34USM42cqXH",
   "metadata": {
    "id": "T34USM42cqXH"
   },
   "outputs": [],
   "source": [
    "from scipy.linalg import lu\n",
    "from scipy import linalg"
   ]
  },
  {
   "cell_type": "code",
   "execution_count": 42,
   "id": "db41eef5",
   "metadata": {
    "colab": {
     "base_uri": "https://localhost:8080/"
    },
    "id": "db41eef5",
    "outputId": "75994a5e-da40-4550-8d23-e571b887f81a"
   },
   "outputs": [
    {
     "data": {
      "text/plain": [
       "array([[ 0.04],\n",
       "       [-0.2 ],\n",
       "       [-0.52]])"
      ]
     },
     "execution_count": 42,
     "metadata": {},
     "output_type": "execute_result"
    }
   ],
   "source": [
    "R = np.array([[5,-4,0],[-4,7,-3],[0,-3,5]])\n",
    "E = np.array([[1],[0],[-2]])\n",
    "\n",
    "result_1method = scipy.linalg.solve(R,E)\n",
    "result_1method"
   ]
  },
  {
   "cell_type": "code",
   "execution_count": 45,
   "id": "CV3bGo6eWwUe",
   "metadata": {
    "colab": {
     "base_uri": "https://localhost:8080/"
    },
    "id": "CV3bGo6eWwUe",
    "outputId": "18b428ca-2d7f-4a10-cfed-6003d3876a63"
   },
   "outputs": [
    {
     "data": {
      "text/plain": [
       "array([[ 0.04],\n",
       "       [-0.2 ],\n",
       "       [-0.52]])"
      ]
     },
     "execution_count": 45,
     "metadata": {},
     "output_type": "execute_result"
    }
   ],
   "source": [
    "R_inv = linalg.inv(R)\n",
    "R_inv@E"
   ]
  },
  {
   "cell_type": "code",
   "execution_count": 47,
   "id": "sN8LXan3UFdB",
   "metadata": {
    "colab": {
     "base_uri": "https://localhost:8080/"
    },
    "id": "sN8LXan3UFdB",
    "outputId": "7fa1b6a3-fa39-4992-e27c-469786bbfb55"
   },
   "outputs": [
    {
     "name": "stdout",
     "output_type": "stream",
     "text": [
      "[[ 5. -4.  0.]\n",
      " [-4.  7. -3.]\n",
      " [ 0. -3.  5.]]\n"
     ]
    }
   ],
   "source": [
    "P, L, U = scipy.linalg.lu(R)\n",
    "print(P@L@U)"
   ]
  },
  {
   "cell_type": "code",
   "execution_count": 62,
   "id": "KE6-GPG9eRxV",
   "metadata": {
    "id": "KE6-GPG9eRxV"
   },
   "outputs": [],
   "source": [
    "def forward_sub(L, b):\n",
    "    \"\"\"x = forward_sub(L, b) is the solution to L x = b\n",
    "       L must be a lower-triangular matrix\n",
    "       b must be a vector of the same leading dimension as L\n",
    "    \"\"\"\n",
    "    n = L.shape[0]\n",
    "    x = np.zeros(n)\n",
    "    for i in range(n):\n",
    "        tmp = b[i].copy()\n",
    "        for j in range(i):\n",
    "            tmp -= L[i,j] * x[j]\n",
    "        x[i] = tmp / L[i,i]\n",
    "    return x"
   ]
  },
  {
   "cell_type": "code",
   "execution_count": 65,
   "id": "G97YXGLRghRp",
   "metadata": {
    "id": "G97YXGLRghRp"
   },
   "outputs": [],
   "source": [
    "def back_sub(U, b):\n",
    "    \"\"\"x = back_sub(U, b) is the solution to U x = b\n",
    "       U must be an upper-triangular matrix\n",
    "       b must be a vector of the same leading dimension as U\n",
    "    \"\"\"\n",
    "    n = U.shape[0]\n",
    "    x = np.zeros(n)\n",
    "    for i in range(n-1, -1, -1):\n",
    "        tmp = b[i].copy()\n",
    "        for j in range(i+1, n):\n",
    "            tmp -= U[i,j] * x[j]\n",
    "        x[i] = tmp / U[i,i]\n",
    "    return x"
   ]
  },
  {
   "cell_type": "code",
   "execution_count": 66,
   "id": "SSXF_fNEj3ux",
   "metadata": {
    "colab": {
     "base_uri": "https://localhost:8080/",
     "height": 312
    },
    "id": "SSXF_fNEj3ux",
    "outputId": "f469b614-a200-4272-b66b-0ab222ff4c70"
   },
   "outputs": [
    {
     "ename": "UFuncTypeError",
     "evalue": "ignored",
     "output_type": "error",
     "traceback": [
      "\u001b[0;31m---------------------------------------------------------------------------\u001b[0m",
      "\u001b[0;31mUFuncTypeError\u001b[0m                            Traceback (most recent call last)",
      "\u001b[0;32m<ipython-input-66-34302c24dd66>\u001b[0m in \u001b[0;36m<module>\u001b[0;34m\u001b[0m\n\u001b[0;32m----> 1\u001b[0;31m \u001b[0my\u001b[0m\u001b[0;34m=\u001b[0m\u001b[0mforward_sub\u001b[0m\u001b[0;34m(\u001b[0m\u001b[0mL\u001b[0m\u001b[0;34m,\u001b[0m \u001b[0mE\u001b[0m\u001b[0;34m)\u001b[0m\u001b[0;34m\u001b[0m\u001b[0;34m\u001b[0m\u001b[0m\n\u001b[0m\u001b[1;32m      2\u001b[0m \u001b[0mprint\u001b[0m\u001b[0;34m(\u001b[0m\u001b[0my\u001b[0m\u001b[0;34m)\u001b[0m\u001b[0;34m\u001b[0m\u001b[0;34m\u001b[0m\u001b[0m\n",
      "\u001b[0;32m<ipython-input-62-e93ebb5b9d74>\u001b[0m in \u001b[0;36mforward_sub\u001b[0;34m(L, E)\u001b[0m\n\u001b[1;32m      9\u001b[0m         \u001b[0mtmp\u001b[0m \u001b[0;34m=\u001b[0m \u001b[0mE\u001b[0m\u001b[0;34m[\u001b[0m\u001b[0mi\u001b[0m\u001b[0;34m]\u001b[0m\u001b[0;34m.\u001b[0m\u001b[0mcopy\u001b[0m\u001b[0;34m(\u001b[0m\u001b[0;34m)\u001b[0m\u001b[0;34m\u001b[0m\u001b[0;34m\u001b[0m\u001b[0m\n\u001b[1;32m     10\u001b[0m         \u001b[0;32mfor\u001b[0m \u001b[0mj\u001b[0m \u001b[0;32min\u001b[0m \u001b[0mrange\u001b[0m\u001b[0;34m(\u001b[0m\u001b[0mi\u001b[0m\u001b[0;34m)\u001b[0m\u001b[0;34m:\u001b[0m\u001b[0;34m\u001b[0m\u001b[0;34m\u001b[0m\u001b[0m\n\u001b[0;32m---> 11\u001b[0;31m             \u001b[0mtmp\u001b[0m \u001b[0;34m-=\u001b[0m \u001b[0mL\u001b[0m\u001b[0;34m[\u001b[0m\u001b[0mi\u001b[0m\u001b[0;34m,\u001b[0m\u001b[0mj\u001b[0m\u001b[0;34m]\u001b[0m \u001b[0;34m*\u001b[0m \u001b[0mx\u001b[0m\u001b[0;34m[\u001b[0m\u001b[0mj\u001b[0m\u001b[0;34m]\u001b[0m\u001b[0;34m\u001b[0m\u001b[0;34m\u001b[0m\u001b[0m\n\u001b[0m\u001b[1;32m     12\u001b[0m         \u001b[0mx\u001b[0m\u001b[0;34m[\u001b[0m\u001b[0mi\u001b[0m\u001b[0;34m]\u001b[0m \u001b[0;34m=\u001b[0m \u001b[0mtmp\u001b[0m \u001b[0;34m/\u001b[0m \u001b[0mL\u001b[0m\u001b[0;34m[\u001b[0m\u001b[0mi\u001b[0m\u001b[0;34m,\u001b[0m\u001b[0mi\u001b[0m\u001b[0;34m]\u001b[0m\u001b[0;34m\u001b[0m\u001b[0;34m\u001b[0m\u001b[0m\n\u001b[1;32m     13\u001b[0m     \u001b[0;32mreturn\u001b[0m \u001b[0mx\u001b[0m\u001b[0;34m\u001b[0m\u001b[0;34m\u001b[0m\u001b[0m\n",
      "\u001b[0;31mUFuncTypeError\u001b[0m: Cannot cast ufunc 'subtract' output from dtype('float64') to dtype('int64') with casting rule 'same_kind'"
     ]
    }
   ],
   "source": [
    "y=forward_sub(L, E)\n",
    "print(y)"
   ]
  },
  {
   "cell_type": "markdown",
   "id": "447d33f8",
   "metadata": {
    "id": "QJ_qAErMj6wx"
   },
   "source": [
    "# Feedback:\n",
    "```\n",
    "\n",
    "    Exercise 1.\n",
    "    Solution + presentation of the results\t            (max 5.0p):\t5.0p\n",
    "\n",
    "    Exercise 2.\n",
    "    Solution + presentation of the results\t            (max 5.0p):\t2.5p\n",
    "\n",
    "\n",
    "    - Total:                                              (max 10.0p):   10.0p\n",
    "```"
   ]
  }
 ],
 "metadata": {
  "colab": {
   "provenance": []
  },
  "kernelspec": {
   "display_name": "Python 3",
   "language": "python",
   "name": "python3"
  },
  "language_info": {
   "codemirror_mode": {
    "name": "ipython",
    "version": 3
   },
   "file_extension": ".py",
   "mimetype": "text/x-python",
   "name": "python",
   "nbconvert_exporter": "python",
   "pygments_lexer": "ipython3",
   "version": "3.7.2"
  }
 },
 "nbformat": 4,
 "nbformat_minor": 5
}
