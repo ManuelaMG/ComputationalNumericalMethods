{
 "cells": [
  {
   "cell_type": "markdown",
   "id": "5aec7b5b",
   "metadata": {
    "id": "5aec7b5b"
   },
   "source": [
    "# Examen parcial 3  (algebra lineal)\n",
    "* Antes de enviar el archivo, $\\textbf{reiniciar y ejecutar el kernel}$ para ver que el archivo se compila sin errores\n",
    "* enviar el archivo jupyter sin anexos antes de las 10.00am del 14.09.2022 a mi dirección de correo electrónico: michal.hemmerling@udea.edu.co "
   ]
  },
  {
   "cell_type": "markdown",
   "id": "87GYjiiykK8G",
   "metadata": {
    "id": "87GYjiiykK8G"
   },
   "source": [
    "#Karla Daniela Castro Mesa"
   ]
  },
  {
   "cell_type": "markdown",
   "id": "21580966",
   "metadata": {
    "id": "21580966"
   },
   "source": [
    "## Ejercicio 1.\n",
    "\n",
    "En varios casos, sistema de equaciones diferentiales lineares\n",
    "tipo \n",
    "$$\\frac{d\\textbf{x}}{dt}=\\textbf{A}\\textbf{x}$$\n",
    "con solucion:\n",
    "$$ \\textbf{x}(t) = e^{t\\textbf{A}} \\textbf{C}$$\n",
    "\n",
    "(donde $\\textbf{x}$ es un vector, $\\textbf{A}$ es matrix y $\\textbf{C}$ es vector de condiciones iniciales)\n",
    "\n",
    "se simplifica a calcular exponente de matriz: $e^{\\textbf{A}t}$!!!!\n",
    "\n",
    "$\\textbf{Como ejercicio, calcule $e^{A}$}$ definido como:\n",
    "\n",
    "$$e^A=Pe^DP^{-1}$$\n",
    "\n",
    "donde $e^D$ es\n",
    "\n",
    "$$e^D=\n",
    "\\begin{bmatrix}\n",
    "e^{\\lambda_1} & 0 & \\cdots & 0 \\\\\n",
    "0 & e^{\\lambda_2} & \\cdots & 0 \\\\\n",
    "\\vdots & \\vdots & \\ddots & \\vdots\\\\\n",
    "0 & 0 & \\cdots & e^{\\lambda_n} \\\\\n",
    "\\end{bmatrix}\n",
    "$$\n",
    "\n",
    "$P$ son eigenvectors y $P^{-1}$ es inversion de $P$\n",
    "\n",
    "#### a) encuentra $e^A$ si:\n",
    "\n",
    "$$A=\n",
    "\\begin{bmatrix}\n",
    "1 &  -1 & -1 & -1\\\\\n",
    "-1 &  2 & 0 & 0\\\\\n",
    "-1 &  3 & 3 & 0 \\\\\n",
    "-1 &  0 & 1 & 4 \\\\\n",
    "\\end{bmatrix}$$\n",
    "\n",
    "#### b) Construye una function $\\textbf{matrix_exp(A)}$ que acepta una matrix A como un argumento\n",
    "#### c) si matrix no es cuadrada: imprime \"Matrix must be square\" y sale la funcion usando: $\\textbf{return}$\n",
    "#### d) si matrix es cuadrada ($\\textbf{else:}$): calcule y imprime valor de $e^A$"
   ]
  },
  {
   "cell_type": "code",
   "execution_count": 27,
   "id": "nEnY_NHJJgel",
   "metadata": {
    "colab": {
     "base_uri": "https://localhost:8080/"
    },
    "id": "nEnY_NHJJgel",
    "outputId": "caedb030-181c-45b0-9395-ffc15f52e5ee"
   },
   "outputs": [
    {
     "name": "stdout",
     "output_type": "stream",
     "text": [
      "[[ 1 -1 -1 -1]\n",
      " [-1  2  0  0]\n",
      " [-1  3  3  0]\n",
      " [-1  0  1  4]] \n",
      "\n",
      "\n",
      "e**A es: \n",
      " [[ 2.71828183  0.36787944  0.36787944  0.36787944]\n",
      " [ 0.36787944  7.3890561   1.          1.        ]\n",
      " [ 0.36787944 20.08553692 20.08553692  1.        ]\n",
      " [ 0.36787944  1.          2.71828183 54.59815003]] \n",
      "\n"
     ]
    }
   ],
   "source": [
    "import math\n",
    "from math import e\n",
    "import numpy as np\n",
    "A= np.array([[1,-1,-1,-1],\n",
    "             [-1,2,0,0],\n",
    "             [-1,3,3,0],\n",
    "             [-1,0,1,4]])\n",
    "\n",
    "print(A,'\\n')\n",
    "print()\n",
    "print('e**A es:','\\n' ,e**A,'\\n')\n"
   ]
  },
  {
   "cell_type": "code",
   "execution_count": 28,
   "id": "4OeE9aW7eBnY",
   "metadata": {
    "id": "4OeE9aW7eBnY"
   },
   "outputs": [],
   "source": [
    "def matrix_exp(A):\n",
    "  n = len(A)\n",
    "  try:\n",
    "    detA = np.linalg.det(A)\n",
    "    print('Una matriz cuadrada: ')\n",
    "  except:\n",
    "    raise TypeError( \"Matrix must be square\" )\n",
    "    return matrix_exp(A)"
   ]
  },
  {
   "cell_type": "code",
   "execution_count": 29,
   "id": "TawKQnTCiHx1",
   "metadata": {
    "colab": {
     "base_uri": "https://localhost:8080/"
    },
    "id": "TawKQnTCiHx1",
    "outputId": "48b31259-b76b-424c-f8cd-d67b6747d028"
   },
   "outputs": [
    {
     "name": "stdout",
     "output_type": "stream",
     "text": [
      "D=\n",
      " [[4.86619826 0.         0.         0.        ]\n",
      " [0.         0.34455762 0.         0.        ]\n",
      " [0.         0.         1.78924412 0.        ]\n",
      " [0.         0.         0.         3.        ]]\n",
      "\n",
      "\n",
      "A=\n",
      " [[ 1 -1 -1 -1]\n",
      " [-1  2  0  0]\n",
      " [-1  3  3  0]\n",
      " [-1  0  1  4]]\n",
      "PDP_1=\n",
      " [[ 1.00000000e+00 -1.00000000e+00 -1.00000000e+00 -1.00000000e+00]\n",
      " [-1.00000000e+00  2.00000000e+00 -1.24594257e-15  7.43613212e-16]\n",
      " [-1.00000000e+00  3.00000000e+00  3.00000000e+00  1.28664595e-15]\n",
      " [-1.00000000e+00  2.19338133e-15  1.00000000e+00  4.00000000e+00]]\n",
      "PP_1=\n",
      " [[ 1.00000000e+00 -6.43740857e-17  4.95752280e-17  3.26885282e-17]\n",
      " [ 9.65611286e-18  1.00000000e+00 -3.25836320e-17  9.65611286e-18]\n",
      " [ 1.11022302e-16 -2.22044605e-16  1.00000000e+00  0.00000000e+00]\n",
      " [ 0.00000000e+00  0.00000000e+00  0.00000000e+00  1.00000000e+00]]\n"
     ]
    }
   ],
   "source": [
    "A=np.array([[1,-1,-1,-1],\n",
    "             [-1,2,0,0],\n",
    "             [-1,3,3,0],\n",
    "             [-1,0,1,4]])\n",
    "\n",
    "evalues, evectors = np.linalg.eig(A)\n",
    "\n",
    "P = evectors\n",
    "P_1 = np.linalg.inv(evectors)\n",
    "\n",
    "\n",
    "D=np.diag(evalues)\n",
    "\n",
    "print('D=\\n',D)\n",
    "print('\\n')\n",
    "\n",
    "print('A=\\n',A)\n",
    "\n",
    "print('PDP_1=\\n',P@D@P_1)\n",
    "\n",
    "print('PP_1=\\n',P@P_1)"
   ]
  },
  {
   "cell_type": "code",
   "execution_count": 30,
   "id": "lNdH-tX7jOhs",
   "metadata": {
    "id": "lNdH-tX7jOhs"
   },
   "outputs": [],
   "source": [
    "D=np.diag(evalues)"
   ]
  },
  {
   "cell_type": "code",
   "execution_count": 31,
   "id": "Mg3RJXP-jRBN",
   "metadata": {
    "colab": {
     "base_uri": "https://localhost:8080/"
    },
    "id": "Mg3RJXP-jRBN",
    "outputId": "e442f29f-c8b1-41c6-ce96-561c8a063409"
   },
   "outputs": [
    {
     "data": {
      "text/plain": [
       "array([[4.86619826, 0.        , 0.        , 0.        ],\n",
       "       [0.        , 0.34455762, 0.        , 0.        ],\n",
       "       [0.        , 0.        , 1.78924412, 0.        ],\n",
       "       [0.        , 0.        , 0.        , 3.        ]])"
      ]
     },
     "execution_count": 31,
     "metadata": {},
     "output_type": "execute_result"
    }
   ],
   "source": [
    "D"
   ]
  },
  {
   "cell_type": "code",
   "execution_count": 32,
   "id": "6pg9U-mSjXBv",
   "metadata": {
    "colab": {
     "base_uri": "https://localhost:8080/"
    },
    "id": "6pg9U-mSjXBv",
    "outputId": "25b70089-3ea4-4430-c691-5bfc74f7b49c"
   },
   "outputs": [
    {
     "data": {
      "text/plain": [
       "array([[-3.49561271e-01,  7.94033408e-01,  7.62229110e-02,\n",
       "         9.69367087e-16],\n",
       "       [ 1.21959906e-01,  4.79650284e-01,  3.61664456e-01,\n",
       "         3.63512658e-16],\n",
       "       [ 3.83368157e-01, -2.42866291e-01, -8.33174113e-01,\n",
       "        -7.07106781e-01],\n",
       "       [ 8.46145115e-01,  2.83659156e-01,  4.11351172e-01,\n",
       "         7.07106781e-01]])"
      ]
     },
     "execution_count": 32,
     "metadata": {},
     "output_type": "execute_result"
    }
   ],
   "source": [
    "P"
   ]
  },
  {
   "cell_type": "code",
   "execution_count": 33,
   "id": "jXvJm-nGjZVy",
   "metadata": {
    "colab": {
     "base_uri": "https://localhost:8080/"
    },
    "id": "jXvJm-nGjZVy",
    "outputId": "ac7f0689-32b5-4de2-cbf7-83044512ccfa"
   },
   "outputs": [
    {
     "data": {
      "text/plain": [
       "array([[-0.5104852 ,  0.79495719,  0.58933991,  0.58933991],\n",
       "       [ 1.16666341,  0.12636479,  0.31915793,  0.31915793],\n",
       "       [-1.37511912,  2.32933088, -0.6220131 , -0.6220131 ],\n",
       "       [ 0.94280904, -2.3570226 , -0.47140452,  0.94280904]])"
      ]
     },
     "execution_count": 33,
     "metadata": {},
     "output_type": "execute_result"
    }
   ],
   "source": [
    "P_1=np.linalg.inv(P)\n",
    "P_1"
   ]
  },
  {
   "cell_type": "code",
   "execution_count": 34,
   "id": "g7myLvDdhVfX",
   "metadata": {
    "colab": {
     "base_uri": "https://localhost:8080/"
    },
    "id": "g7myLvDdhVfX",
    "outputId": "ace66d75-a29b-45cf-e860-397a57cf99f4"
   },
   "outputs": [
    {
     "name": "stdout",
     "output_type": "stream",
     "text": [
      "A:\n",
      " [[ 1 -1 -1 -1]\n",
      " [-1  2  0  0]\n",
      " [-1  3  3  0]\n",
      " [-1  0  1  4]]\n",
      "Eigen vectors:\n",
      " [[-3.49561271e-01  7.94033408e-01  7.62229110e-02  9.69367087e-16]\n",
      " [ 1.21959906e-01  4.79650284e-01  3.61664456e-01  3.63512658e-16]\n",
      " [ 3.83368157e-01 -2.42866291e-01 -8.33174113e-01 -7.07106781e-01]\n",
      " [ 8.46145115e-01  2.83659156e-01  4.11351172e-01  7.07106781e-01]]\n",
      "Eigen values:\n",
      " [4.86619826 0.34455762 1.78924412 3.        ]\n"
     ]
    }
   ],
   "source": [
    "A = np.array([[1,-1,-1,-1],\n",
    "             [-1,2,0,0],\n",
    "             [-1,3,3,0],\n",
    "             [-1,0,1,4]])\n",
    "evalues,evectors=np.linalg.eig(A)\n",
    "print('A:\\n',A)\n",
    "print('Eigen vectors:\\n', evectors)\n",
    "print('Eigen values:\\n', evalues)"
   ]
  },
  {
   "cell_type": "code",
   "execution_count": 35,
   "id": "pOn7hy6vhmIB",
   "metadata": {
    "colab": {
     "base_uri": "https://localhost:8080/"
    },
    "id": "pOn7hy6vhmIB",
    "outputId": "b4444615-9cc9-4272-b3a3-4d4f88be2a3d"
   },
   "outputs": [
    {
     "name": "stdout",
     "output_type": "stream",
     "text": [
      "[[ 1 -1 -1 -1]\n",
      " [-1  2  0  0]\n",
      " [-1  3  3  0]\n",
      " [-1  0  1  4]]\n",
      "\n",
      "\n",
      "\n",
      "\n",
      "[4.86619826 0.34455762 1.78924412 3.        ]\n",
      "\n",
      "\n",
      "[[-3.49561271e-01  7.94033408e-01  7.62229110e-02  9.69367087e-16]\n",
      " [ 1.21959906e-01  4.79650284e-01  3.61664456e-01  3.63512658e-16]\n",
      " [ 3.83368157e-01 -2.42866291e-01 -8.33174113e-01 -7.07106781e-01]\n",
      " [ 8.46145115e-01  2.83659156e-01  4.11351172e-01  7.07106781e-01]]\n"
     ]
    }
   ],
   "source": [
    "A=np.array([[1,-1,-1,-1],\n",
    "             [-1,2,0,0],\n",
    "             [-1,3,3,0],\n",
    "             [-1,0,1,4]])\n",
    "\n",
    "evalues, evectors = np.linalg.eig(A)\n",
    "\n",
    "print(A)\n",
    "print('\\n')\n",
    "\n",
    "\n",
    "print('\\n')\n",
    "print(evalues)\n",
    "\n",
    "print('\\n')\n",
    "\n",
    "print(evectors)"
   ]
  },
  {
   "cell_type": "code",
   "execution_count": 36,
   "id": "zAagWY5ljloK",
   "metadata": {
    "id": "zAagWY5ljloK"
   },
   "outputs": [],
   "source": [
    "A=np.array([[1,-1,-1,-1],\n",
    "             [-1,2,0,0],\n",
    "             [-1,3,3,0],\n",
    "             [-1,0,1,4]])\n",
    "\n",
    "\n",
    "detA=np.linalg.det(A)\n",
    "\n",
    "evalues, evectors = np.linalg.eig(A)"
   ]
  },
  {
   "cell_type": "markdown",
   "id": "0a953839",
   "metadata": {
    "id": "0a953839"
   },
   "source": [
    "## Ejercicio 2."
   ]
  },
  {
   "cell_type": "markdown",
   "id": "c07fe99d",
   "metadata": {
    "id": "c07fe99d"
   },
   "source": [
    "Usando las leyes de circuito de Kirchhoff, es posible resolver el siguiente sistema:\n",
    "\n",
    "![](https://raw.githubusercontent.com/sbustamante/ComputationalMethods/master/material/figures/circuit.png)\n",
    "\n",
    "obteniendo las siguientes ecuaciones A,B,C: \n",
    "\n",
    "\\begin{align}\n",
    "A:&&I_A( R+4R ) - I_B( 4R ) =& E \\\\\n",
    "C:&&-I_A( 4R ) + I_B( 4R + 3R ) - I_C(3R) =& 0 \\\\\n",
    "B:&&-I_B( 3R ) + I_C(3R+2R) =& -2E\\,\n",
    "\\end{align}"
   ]
  },
  {
   "cell_type": "markdown",
   "id": "47850497",
   "metadata": {
    "id": "47850497"
   },
   "source": [
    "Encontre: $I_A, I_B, I_C$ usando: \n",
    "\n",
    "a) `scipy.linalg.solve`  \n",
    "b) `scipy.linalg.inv(A)`  \n",
    "c) `scipy.linalg.lu(A)`\n",
    "\n",
    "*podemos substituir: $x_n=\\frac{R I_n}{E}$ (n=A,B,C)"
   ]
  },
  {
   "cell_type": "code",
   "execution_count": 1,
   "id": "db41eef5",
   "metadata": {
    "colab": {
     "base_uri": "https://localhost:8080/"
    },
    "id": "db41eef5",
    "outputId": "20c5fba3-b31e-47da-a397-16d3e7650e45"
   },
   "outputs": [
    {
     "name": "stdout",
     "output_type": "stream",
     "text": [
      "Solving: Mx=b\n",
      "\n",
      "M=\n",
      " [[ 5 -4  0]\n",
      " [-4  7 -3]\n",
      " [ 0 -3  5]]\n",
      "\n",
      "b=\n",
      " [[ 1]\n",
      " [ 0]\n",
      " [-2]]\n",
      "\n",
      "[[ 0.04]\n",
      " [-0.2 ]\n",
      " [-0.52]]\n"
     ]
    }
   ],
   "source": [
    "import numpy as np\n",
    "import scipy.linalg\n",
    "\n",
    "#Punto 2A\n",
    "M= np.array([[5,-4,0],\n",
    "            [-4,7,-3],\n",
    "            [0,-3,5]])\n",
    "\n",
    "b=np.array([[1],\n",
    "            [0],\n",
    "            [-2]])\n",
    "\n",
    "print('Solving: Mx=b\\n')\n",
    "print('M=\\n',M)\n",
    "print()\n",
    "print('b=\\n',b)\n",
    "print()\n",
    "x=np.linalg.solve(M, b)\n",
    "print(x)"
   ]
  },
  {
   "cell_type": "code",
   "execution_count": 2,
   "id": "zy19pxseZ8cx",
   "metadata": {
    "colab": {
     "base_uri": "https://localhost:8080/"
    },
    "id": "zy19pxseZ8cx",
    "outputId": "9de13609-7f2b-4c70-fe83-2a5faa6507e0"
   },
   "outputs": [
    {
     "name": "stdout",
     "output_type": "stream",
     "text": [
      "\n",
      "M=\n",
      " [[ 5 -4  0]\n",
      " [-4  7 -3]\n",
      " [ 0 -3  5]]\n",
      "\n",
      "M^-1 =\n",
      " [[0.52 0.4  0.24]\n",
      " [0.4  0.5  0.3 ]\n",
      " [0.24 0.3  0.38]]\n",
      "\n",
      "M M^-1 =\n",
      " [[ 1.00000000e+00  0.00000000e+00  0.00000000e+00]\n",
      " [ 2.22044605e-16  1.00000000e+00 -1.66533454e-16]\n",
      " [ 0.00000000e+00  1.66533454e-16  1.00000000e+00]]\n"
     ]
    }
   ],
   "source": [
    "#Punto 2B\n",
    "\n",
    "import numpy as np\n",
    "\n",
    "M=np.array([[5,-4,0],\n",
    "            [-4,7,-3],\n",
    "            [0,-3,5]])\n",
    "\n",
    "M_inv=np.linalg.inv(M)\n",
    "print('\\nM=\\n',M)\n",
    "\n",
    "print('\\nM^-1 =\\n',M_inv)\n",
    "\n",
    "print('\\nM M^-1 =\\n',np.matmul(M,M_inv))"
   ]
  },
  {
   "cell_type": "code",
   "execution_count": 3,
   "id": "4fWJbm8taxBX",
   "metadata": {
    "colab": {
     "base_uri": "https://localhost:8080/"
    },
    "id": "4fWJbm8taxBX",
    "outputId": "cc11514c-790f-4527-c0c6-47cc789aee83"
   },
   "outputs": [
    {
     "name": "stdout",
     "output_type": "stream",
     "text": [
      "M=\n",
      " [[ 5 -4  0]\n",
      " [-4  7 -3]\n",
      " [ 0 -3  5]]\n",
      "\n",
      "Minv=\n",
      " [[0.52 0.4  0.24]\n",
      " [0.4  0.5  0.3 ]\n",
      " [0.24 0.3  0.38]]\n",
      "\n",
      "Minv x b=\n",
      " [[ 0.04]\n",
      " [-0.2 ]\n",
      " [-0.52]]\n"
     ]
    }
   ],
   "source": [
    "M= np.array([[5,-4,0],\n",
    "            [-4,7,-3],\n",
    "            [0,-3,5]])\n",
    "\n",
    "b=np.array([[1],\n",
    "            [0],\n",
    "            [-2]])\n",
    "\n",
    "print('M=\\n',M)\n",
    "print()\n",
    "M_inv=np.linalg.inv(M)\n",
    "print('Minv=\\n',M_inv)\n",
    "print()\n",
    "print('Minv x b=\\n',M_inv@b)"
   ]
  },
  {
   "cell_type": "code",
   "execution_count": 4,
   "id": "hhPj1HkUUa0s",
   "metadata": {
    "colab": {
     "base_uri": "https://localhost:8080/"
    },
    "id": "hhPj1HkUUa0s",
    "outputId": "6b707a45-bf96-4eef-9d17-3cfae8535903"
   },
   "outputs": [
    {
     "name": "stdout",
     "output_type": "stream",
     "text": [
      "[[ 5 -4  0]\n",
      " [-4  7 -3]\n",
      " [ 0 -3  5]]\n",
      "\n",
      "\n",
      "[[1. 0. 0.]\n",
      " [0. 1. 0.]\n",
      " [0. 0. 1.]]\n",
      "\n",
      "[[ 1.          0.          0.        ]\n",
      " [-0.8         1.          0.        ]\n",
      " [ 0.         -0.78947368  1.        ]]\n",
      "\n",
      "[[ 5.         -4.          0.        ]\n",
      " [ 0.          3.8        -3.        ]\n",
      " [ 0.          0.          2.63157895]]\n",
      "\n",
      "[[ 5. -4.  0.]\n",
      " [-4.  7. -3.]\n",
      " [ 0. -3.  5.]]\n"
     ]
    }
   ],
   "source": [
    "#Punto 2C\n",
    "import scipy.linalg\n",
    "import numpy as np\n",
    "M=np.array([[5,-4,0],\n",
    "            [-4,7,-3],\n",
    "            [0,-3,5]])\n",
    "print(M)\n",
    "print()\n",
    "P, L, U = scipy.linalg.lu(M)\n",
    "print()\n",
    "print(P)\n",
    "print()\n",
    "print(L)\n",
    "print()\n",
    "print(U)\n",
    "print()\n",
    "print(P@L@U)"
   ]
  },
  {
   "cell_type": "code",
   "execution_count": 5,
   "id": "2oJuVBX-YUZT",
   "metadata": {
    "colab": {
     "base_uri": "https://localhost:8080/"
    },
    "id": "2oJuVBX-YUZT",
    "outputId": "d1cf3f49-c78a-4a5e-d7ac-059c46f6b7dc"
   },
   "outputs": [
    {
     "name": "stdout",
     "output_type": "stream",
     "text": [
      "\n",
      "M=\n",
      " [[ 5 -4  0]\n",
      " [-4  7 -3]\n",
      " [ 0 -3  5]]\n",
      "\n",
      "P matmul A\n",
      " [[ 5. -4.  0.]\n",
      " [-4.  7. -3.]\n",
      " [ 0. -3.  5.]]\n",
      "\n",
      "L matmul U\n",
      " [[ 5. -4.  0.]\n",
      " [-4.  7. -3.]\n",
      " [ 0. -3.  5.]]\n"
     ]
    }
   ],
   "source": [
    "import scipy.linalg\n",
    "M= np.array([[5,-4,0],\n",
    "            [-4,7,-3],\n",
    "            [0,-3,5]])\n",
    "P, L, U = scipy.linalg.lu(M)\n",
    "print('\\nM=\\n',M)\n",
    "print('\\nP matmul A\\n',np.matmul(P,M))\n",
    "print('\\nL matmul U\\n',np.matmul(L,U))"
   ]
  },
  {
   "cell_type": "markdown",
   "id": "2f4d8124",
   "metadata": {
    "id": "xVJ5_ujgZtP4"
   },
   "source": [
    "# Feedback:\n",
    "```\n",
    "\n",
    "    Exercise 1.\n",
    "    Solution + presentation of the results\t            (max 5.0p):\t3.0p\n",
    "- error esta aqui: D=np.diag(evalues)\n",
    "    Exercise 2.\n",
    "    Solution + presentation of the results\t            (max 5.0p):\t4.0p\n",
    "\n",
    "\n",
    "    - Total:                                              (max 10.0p):   7.0p\n",
    "```"
   ]
  },
  {
   "cell_type": "code",
   "execution_count": null,
   "id": "be50c914",
   "metadata": {},
   "outputs": [],
   "source": []
  },
  {
   "cell_type": "code",
   "execution_count": null,
   "id": "87582f1a",
   "metadata": {},
   "outputs": [],
   "source": []
  },
  {
   "cell_type": "code",
   "execution_count": null,
   "id": "148977be",
   "metadata": {},
   "outputs": [],
   "source": []
  },
  {
   "cell_type": "code",
   "execution_count": null,
   "id": "7574d8e4",
   "metadata": {},
   "outputs": [],
   "source": []
  }
 ],
 "metadata": {
  "colab": {
   "provenance": []
  },
  "kernelspec": {
   "display_name": "Python 3",
   "language": "python",
   "name": "python3"
  },
  "language_info": {
   "codemirror_mode": {
    "name": "ipython",
    "version": 3
   },
   "file_extension": ".py",
   "mimetype": "text/x-python",
   "name": "python",
   "nbconvert_exporter": "python",
   "pygments_lexer": "ipython3",
   "version": "3.7.2"
  }
 },
 "nbformat": 4,
 "nbformat_minor": 5
}
