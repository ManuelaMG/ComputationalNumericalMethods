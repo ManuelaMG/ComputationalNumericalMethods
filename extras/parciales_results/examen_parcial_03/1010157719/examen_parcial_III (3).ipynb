{
 "cells": [
  {
   "cell_type": "markdown",
   "id": "pmd--ntGk4Aq",
   "metadata": {
    "id": "pmd--ntGk4Aq"
   },
   "source": [
    "#Santiago Herrera Guzmán\n",
    "##CC. 1010157719"
   ]
  },
  {
   "cell_type": "code",
   "execution_count": 96,
   "id": "oIke6XsMKJ5a",
   "metadata": {
    "id": "oIke6XsMKJ5a"
   },
   "outputs": [],
   "source": [
    "import numpy as np\n",
    "import matplotlib.pyplot as plt\n",
    "import scipy.linalg"
   ]
  },
  {
   "cell_type": "markdown",
   "id": "5aec7b5b",
   "metadata": {
    "id": "5aec7b5b"
   },
   "source": [
    "# Examen parcial 3  (algebra lineal)\n",
    "* Antes de enviar el archivo, $\\textbf{reiniciar y ejecutar el kernel}$ para ver que el archivo se compila sin errores\n",
    "* enviar el archivo jupyter sin anexos antes de las 10.00am del 14.09.2022 a mi dirección de correo electrónico: michal.hemmerling@udea.edu.co "
   ]
  },
  {
   "cell_type": "markdown",
   "id": "21580966",
   "metadata": {
    "id": "21580966"
   },
   "source": [
    "## Ejercicio 1.\n",
    "\n",
    "En varios casos, sistema de equaciones diferentiales lineares\n",
    "tipo \n",
    "$$\\frac{d\\textbf{x}}{dt}=\\textbf{A}\\textbf{x}$$\n",
    "con solucion:\n",
    "$$ \\textbf{x}(t) = e^{t\\textbf{A}} \\textbf{C}$$\n",
    "\n",
    "(donde $\\textbf{x}$ es un vector, $\\textbf{A}$ es matrix y $\\textbf{C}$ es vector de condiciones iniciales)\n",
    "\n",
    "se simplifica a calcular exponente de matriz: $e^{\\textbf{A}t}$!!!!\n",
    "\n",
    "$\\textbf{Como ejercicio, calcule $e^{A}$}$ definido como:\n",
    "\n",
    "$$e^A=Pe^DP^{-1}$$\n",
    "\n",
    "donde $e^D$ es\n",
    "\n",
    "$$e^D=\n",
    "\\begin{bmatrix}\n",
    "e^{\\lambda_1} & 0 & \\cdots & 0 \\\\\n",
    "0 & e^{\\lambda_2} & \\cdots & 0 \\\\\n",
    "\\vdots & \\vdots & \\ddots & \\vdots\\\\\n",
    "0 & 0 & \\cdots & e^{\\lambda_n} \\\\\n",
    "\\end{bmatrix}\n",
    "$$\n",
    "\n",
    "$P$ son eigenvectors y $P^{-1}$ es inversion de $P$\n",
    "\n",
    "#### a) encuentra $e^A$ si:\n",
    "\n",
    "$$A=\n",
    "\\begin{bmatrix}\n",
    "1 &  -1 & -1 & -1\\\\\n",
    "-1 &  2 & 0 & 0\\\\\n",
    "-1 &  3 & 3 & 0 \\\\\n",
    "-1 &  0 & 1 & 4 \\\\\n",
    "\\end{bmatrix}$$\n",
    "\n",
    "#### b) Construye una function $\\textbf{matrix_exp(A)}$ que acepta una matrix A como un argumento\n",
    "#### c) si matrix no es cuadrada: imprime \"Matrix must be square\" y sale la funcion usando: $\\textbf{return}$\n",
    "#### d) si matrix es cuadrada ($\\textbf{else:}$): calcule y imprime valor de $e^A$"
   ]
  },
  {
   "cell_type": "markdown",
   "id": "Fkh0T6QfdAiE",
   "metadata": {
    "id": "Fkh0T6QfdAiE"
   },
   "source": [
    "Para lograr ésto, primero definimos la matriz A de la siguiente forma:"
   ]
  },
  {
   "cell_type": "code",
   "execution_count": 97,
   "id": "ri3PNJpjKIPg",
   "metadata": {
    "id": "ri3PNJpjKIPg"
   },
   "outputs": [],
   "source": [
    "A=np.array([[1,-1,-1,-1],\n",
    "            [-1,2,0,0],\n",
    "            [-1,3,3,0], \n",
    "            [-1,0,1,4]])\n"
   ]
  },
  {
   "cell_type": "markdown",
   "id": "p3k9xVZodF3B",
   "metadata": {
    "id": "p3k9xVZodF3B"
   },
   "source": [
    "Ahora definimos una función que me va a devolver el valor de la ecuación que queremos, es decir:\n",
    "$$e^A  $$"
   ]
  },
  {
   "cell_type": "code",
   "execution_count": 98,
   "id": "QMxndYbFKb6A",
   "metadata": {
    "id": "QMxndYbFKb6A"
   },
   "outputs": [],
   "source": [
    "def matrix_exp(A):\n",
    "\n",
    "  if np.shape(A)[0] != np.shape(A)[1]: #Condición si la matriz no es cuadrada\n",
    "\n",
    "    return print(\"Matrix must be square\") \n",
    "\n",
    "\n",
    "  else:\n",
    "\n",
    "    evalues, evectors = np.linalg.eig(A) #Encuentro Valores propios de valores y vectores propios\n",
    "\n",
    "    P = evectors #Matriz P\n",
    "    P_inv = np.linalg.inv(P) #Matriz P invertida\n",
    "\n",
    "    e_D= np.diag(np.exp(evalues)) #Creo la matriz e^D\n",
    "    \n",
    "    return P@e_D@P_inv\n",
    "\n",
    "  \n"
   ]
  },
  {
   "cell_type": "code",
   "execution_count": 99,
   "id": "d25LCOL0MDe1",
   "metadata": {
    "colab": {
     "base_uri": "https://localhost:8080/"
    },
    "id": "d25LCOL0MDe1",
    "outputId": "855416d4-3d10-4f42-f7d2-38c3261a2545"
   },
   "outputs": [
    {
     "name": "stdout",
     "output_type": "stream",
     "text": [
      "El valor de e^A es:\n",
      "[[ 23.84711784 -34.8727468  -26.67167604 -26.67167604]\n",
      " [-10.2695345   17.71451082   8.20107077   8.20107077]\n",
      " [-32.34076479  61.38346694  39.01966047  18.93412354]\n",
      " [-45.60579958  59.63691501  56.64141472  76.72695165]]\n"
     ]
    }
   ],
   "source": [
    "print('El valor de e^A es:')\n",
    "print(matrix_exp(A))"
   ]
  },
  {
   "cell_type": "markdown",
   "id": "0a953839",
   "metadata": {
    "id": "0a953839"
   },
   "source": [
    "## Ejercicio 2."
   ]
  },
  {
   "cell_type": "markdown",
   "id": "c07fe99d",
   "metadata": {
    "id": "c07fe99d"
   },
   "source": [
    "Usando las leyes de circuito de Kirchhoff, es posible resolver el siguiente sistema:\n",
    "\n",
    "![](https://raw.githubusercontent.com/sbustamante/ComputationalMethods/master/material/figures/circuit.png)\n",
    "\n",
    "obteniendo las siguientes ecuaciones A,B,C: \n",
    "\n",
    "\\begin{align}\n",
    "A:&&I_A( R+4R ) - I_B( 4R ) =& E \\\\\n",
    "C:&&-I_A( 4R ) + I_B( 4R + 3R ) - I_C(3R) =& 0 \\\\\n",
    "B:&&-I_B( 3R ) + I_C(3R+2R) =& -2E\\,\n",
    "\\end{align}"
   ]
  },
  {
   "cell_type": "markdown",
   "id": "47850497",
   "metadata": {
    "id": "47850497"
   },
   "source": [
    "Encontre: $I_A, I_B, I_C$ usando: \n",
    "\n",
    "a) `scipy.linalg.solve`  \n",
    "b) `scipy.linalg.inv(A)`  \n",
    "c) `scipy.linalg.lu(A)`\n",
    "\n",
    "*podemos substituir: $x_n=\\frac{R I_n}{E}$ (n=A,B,C)"
   ]
  },
  {
   "cell_type": "markdown",
   "id": "ZqaI4QTihWIX",
   "metadata": {
    "id": "ZqaI4QTihWIX"
   },
   "source": [
    "Para lograr lo propuesto, vamos a usar la sustitución sugerida y el sistema queda de la siguiente forma:\n",
    "\n",
    "$$ \\begin{pmatrix}\n",
    "5 & 4 & 0 \\\\\n",
    "-4 & 7 & -3 \\\\\n",
    "0 & -3 & 5 \n",
    "\\end{pmatrix}  \\begin{pmatrix}\n",
    "I_1\\\\\n",
    "I_2\\\\\n",
    "I_3\n",
    "\\end{pmatrix} = \\begin{pmatrix}\n",
    "1\\\\\n",
    "0\\\\\n",
    "-2\n",
    "\\end{pmatrix} $$"
   ]
  },
  {
   "cell_type": "markdown",
   "id": "AarH4z9RcKEr",
   "metadata": {
    "id": "AarH4z9RcKEr"
   },
   "source": [
    "A)"
   ]
  },
  {
   "cell_type": "code",
   "execution_count": 100,
   "id": "db41eef5",
   "metadata": {
    "id": "db41eef5"
   },
   "outputs": [],
   "source": [
    "matriz = np.array([[5,-4,0],  \n",
    "            [-4,7,-3],\n",
    "            [0,-3,5]])  #Creo la matriz que usando el cambio de variable\n",
    "\n",
    "b = np.array([[1],[0],[-2]]) # Creo la matriz b con las soluciones"
   ]
  },
  {
   "cell_type": "code",
   "execution_count": 101,
   "id": "ldObwrrLRarY",
   "metadata": {
    "colab": {
     "base_uri": "https://localhost:8080/"
    },
    "id": "ldObwrrLRarY",
    "outputId": "5514c3e2-1a14-456d-9707-d82f627179ea"
   },
   "outputs": [
    {
     "name": "stdout",
     "output_type": "stream",
     "text": [
      "Solución para cada Intensidad usando función de numpy\n",
      "Variable \t Valor\n",
      "==============================\n",
      "I_1 \t\t 0.04\n",
      "I_2 \t\t -0.2\n",
      "I_3 \t\t -0.52\n"
     ]
    }
   ],
   "source": [
    "soluciones_solve = scipy.linalg.solve(matriz,b) #Solucion usando linalg.solve\n",
    "soluciones_solve \n",
    "print('Solución para cada Intensidad usando función de numpy')\n",
    "print(f'Variable \\t Valor')\n",
    "print('='*30)\n",
    "print(f'I_1 \\t\\t {round(soluciones_solve[0][0],3)}')\n",
    "print(f'I_2 \\t\\t {round(soluciones_solve[1][0],3)}')\n",
    "print(f'I_3 \\t\\t {round(soluciones_solve[2][0],3)}')"
   ]
  },
  {
   "cell_type": "markdown",
   "id": "oXsxf1UgcPyZ",
   "metadata": {
    "id": "oXsxf1UgcPyZ"
   },
   "source": [
    "B)"
   ]
  },
  {
   "cell_type": "markdown",
   "id": "s5QO4EkWi5W9",
   "metadata": {
    "id": "s5QO4EkWi5W9"
   },
   "source": [
    "Para ésto vamos a sacar la inversa de la matriz inicial y luego hacemos la siguiente operación: \n",
    "$$ I_n = A^{-1}  b_n$$"
   ]
  },
  {
   "cell_type": "code",
   "execution_count": 102,
   "id": "6fU4AZ_nRqq-",
   "metadata": {
    "id": "6fU4AZ_nRqq-"
   },
   "outputs": [],
   "source": [
    "matriz_inv = np.linalg.inv(matriz)"
   ]
  },
  {
   "cell_type": "code",
   "execution_count": 103,
   "id": "ne2xzmUtYL5O",
   "metadata": {
    "id": "ne2xzmUtYL5O"
   },
   "outputs": [],
   "source": [
    "soluciones_inv = matriz_inv@b"
   ]
  },
  {
   "cell_type": "code",
   "execution_count": 104,
   "id": "QR_XQS8xjXKu",
   "metadata": {
    "colab": {
     "base_uri": "https://localhost:8080/"
    },
    "id": "QR_XQS8xjXKu",
    "outputId": "fb392744-9492-4c57-d38c-31535d655c6b"
   },
   "outputs": [
    {
     "name": "stdout",
     "output_type": "stream",
     "text": [
      "Solución para cada Intensidad usando la inversa de la matriz\n",
      "Variable \t Valor\n",
      "==============================\n",
      "I_1 \t\t 0.04\n",
      "I_2 \t\t -0.2\n",
      "I_3 \t\t -0.52\n"
     ]
    }
   ],
   "source": [
    "print('Solución para cada Intensidad usando la inversa de la matriz')\n",
    "print(f'Variable \\t Valor')\n",
    "print('='*30)\n",
    "print(f'I_1 \\t\\t {round(soluciones_inv[0][0],3)}')\n",
    "print(f'I_2 \\t\\t {round(soluciones_inv[1][0],3)}')\n",
    "print(f'I_3 \\t\\t {round(soluciones_inv[2][0],3)}')"
   ]
  },
  {
   "cell_type": "markdown",
   "id": "A1h-T53ncSQd",
   "metadata": {
    "id": "A1h-T53ncSQd"
   },
   "source": [
    "C)"
   ]
  },
  {
   "cell_type": "markdown",
   "id": "MC5w4H0WjmSi",
   "metadata": {
    "id": "MC5w4H0WjmSi"
   },
   "source": [
    "Para hacer ésto. hacemos la siguiente descomposición:\n",
    "$$A = LU$$\n",
    "\n",
    "Y resolvemos los siguientes sistemas:\n",
    "$$U x_n = y_n$$\n",
    "\n",
    "$$L y_n = b_n$$"
   ]
  },
  {
   "cell_type": "code",
   "execution_count": 105,
   "id": "2ihtlRwHSt_x",
   "metadata": {
    "id": "2ihtlRwHSt_x"
   },
   "outputs": [],
   "source": [
    "P, L, U = scipy.linalg.lu(matriz) #Descompongo la matriz\n",
    "solucion1 = np.linalg.solve(L,b) #Hallo los valores de y\n",
    "solucion_final = np.linalg.solve(U,solucion1) #Hallo los valores de b\n"
   ]
  },
  {
   "cell_type": "code",
   "execution_count": 106,
   "id": "STK-wbeJkM0J",
   "metadata": {
    "colab": {
     "base_uri": "https://localhost:8080/"
    },
    "id": "STK-wbeJkM0J",
    "outputId": "84534e02-303a-45e8-b31e-7ca103c2082b"
   },
   "outputs": [
    {
     "name": "stdout",
     "output_type": "stream",
     "text": [
      "Solución para cada Intensidad usando la matriz diagonal\n",
      "Variable \t Valor\n",
      "==============================\n",
      "I_1 \t\t 0.04\n",
      "I_2 \t\t -0.2\n",
      "I_3 \t\t -0.52\n"
     ]
    }
   ],
   "source": [
    "print('Solución para cada Intensidad usando la matriz diagonal')\n",
    "print(f'Variable \\t Valor')\n",
    "print('='*30)\n",
    "print(f'I_1 \\t\\t {round(solucion_final[0][0],3)}')\n",
    "print(f'I_2 \\t\\t {round(solucion_final[1][0],3)}')\n",
    "print(f'I_3 \\t\\t {round(solucion_final[2][0],3)}')"
   ]
  },
  {
   "cell_type": "markdown",
   "id": "62bc4407",
   "metadata": {
    "id": "2PdK1HcWkcyB"
   },
   "source": [
    "# Feedback:\n",
    "```\n",
    "\n",
    "    Exercise 1.\n",
    "    Solution + presentation of the results\t            (max 5.0p):\t5.0p\n",
    "\n",
    "    Exercise 2.\n",
    "    Solution + presentation of the results\t            (max 5.0p):\t5.0p\n",
    "\n",
    "\n",
    "    - Total:                                              (max 10.0p):   10.0p\n",
    "```"
   ]
  },
  {
   "cell_type": "code",
   "execution_count": null,
   "id": "521acada",
   "metadata": {},
   "outputs": [],
   "source": []
  }
 ],
 "metadata": {
  "colab": {
   "provenance": []
  },
  "kernelspec": {
   "display_name": "Python 3",
   "language": "python",
   "name": "python3"
  },
  "language_info": {
   "codemirror_mode": {
    "name": "ipython",
    "version": 3
   },
   "file_extension": ".py",
   "mimetype": "text/x-python",
   "name": "python",
   "nbconvert_exporter": "python",
   "pygments_lexer": "ipython3",
   "version": "3.7.2"
  }
 },
 "nbformat": 4,
 "nbformat_minor": 5
}
