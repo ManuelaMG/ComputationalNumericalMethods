{
 "cells": [
  {
   "cell_type": "markdown",
   "id": "5aec7b5b",
   "metadata": {
    "id": "5aec7b5b"
   },
   "source": [
    "# Examen parcial 3  (algebra lineal)\n",
    "* Antes de enviar el archivo, $\\textbf{reiniciar y ejecutar el kernel}$ para ver que el archivo se compila sin errores\n",
    "* enviar el archivo jupyter sin anexos antes de las 10.00am del 14.09.2022 a mi dirección de correo electrónico: michal.hemmerling@udea.edu.co "
   ]
  },
  {
   "cell_type": "markdown",
   "id": "21580966",
   "metadata": {
    "id": "21580966"
   },
   "source": [
    "## Ejercicio 1.\n",
    "\n",
    "En varios casos, resultan sistemas de ecuaciones diferenciales lineales del\n",
    "tipo \n",
    "$$\\frac{d\\vec{x}}{dt}=\\textbf{A}\\vec{x}$$\n",
    "con solucion:\n",
    "$$ \\vec{x}(t) = e^{t\\textbf{A}} \\vec{C}$$\n",
    "\n",
    "(donde $\\vec{x}$ es un vector, $\\textbf{A}$ es matrix y $\\vec{C}$ es vector de condiciones iniciales)\n",
    "\n",
    "se reduce a calcular exponente de matriz: $e^{\\textbf{A}t}$!!!!\n",
    "\n",
    "$\\textbf{Como ejercicio, calcule $e^{A}$}$ definido como:\n",
    "\n",
    "$$e^A=Pe^DP^{-1}$$\n",
    "\n",
    "donde $e^D$ es\n",
    "\n",
    "$$e^D=\n",
    "\\begin{bmatrix}\n",
    "e^{\\lambda_1} & 0 & \\cdots & 0 \\\\\n",
    "0 & e^{\\lambda_2} & \\cdots & 0 \\\\\n",
    "\\vdots & \\vdots & \\ddots & \\vdots\\\\\n",
    "0 & 0 & \\cdots & e^{\\lambda_n} \\\\\n",
    "\\end{bmatrix}\n",
    "$$\n",
    "\n",
    "$P$ son la matriz con columnas de eigenvectores y $P^{-1}$ es la inversa de $P$\n",
    "\n",
    "#### a) encuentra $e^A$ si:\n",
    "\n",
    "$$A=\n",
    "\\begin{bmatrix}\n",
    "1 &  -1 & -1 & -1\\\\\n",
    "-1 &  2 & 0 & 0\\\\\n",
    "-1 &  3 & 3 & 0 \\\\\n",
    "-1 &  0 & 1 & 4 \\\\\n",
    "\\end{bmatrix}$$\n",
    "\n",
    "#### b) Construye una función $\\textbf{matrix_exp(A)}$ que acepta una matriz $A$ como un argumento\n",
    "#### c) si la matriz no es cuadrada: imprime \"Matrix must be square\" y sale la funcion usando: $\\textbf{return}$\n",
    "#### d) si matrix es cuadrada ($\\textbf{else:}$): calcule y imprime valor de $e^A$"
   ]
  },
  {
   "cell_type": "code",
   "execution_count": 17,
   "id": "swW4FBq4MN2Q",
   "metadata": {
    "id": "swW4FBq4MN2Q"
   },
   "outputs": [],
   "source": [
    "import numpy as np"
   ]
  },
  {
   "cell_type": "code",
   "execution_count": 18,
   "id": "wfPtJPgBKjXy",
   "metadata": {
    "colab": {
     "base_uri": "https://localhost:8080/"
    },
    "id": "wfPtJPgBKjXy",
    "outputId": "22b73b64-0d43-4a4f-e836-379c462e4528"
   },
   "outputs": [
    {
     "name": "stdout",
     "output_type": "stream",
     "text": [
      "[[ 1 -1 -1 -1]\n",
      " [-1  2  0  0]\n",
      " [-1  3  3  0]\n",
      " [-1  0  1  4]]\n"
     ]
    }
   ],
   "source": [
    "#Primeramente ingresamos la matriz A\n",
    "\n",
    "A=np.array([[1,-1,-1,-1,],[-1,2,0,0],[-1,3,3,0],[-1,0,1,4]])\n",
    "\n",
    "print(A)\n"
   ]
  },
  {
   "cell_type": "markdown",
   "id": "LkFWEPeSMISZ",
   "metadata": {
    "id": "LkFWEPeSMISZ"
   },
   "source": [
    "Inicialmente, verifico que haya quedado bien ingresada y algo muy importante! Que sea diagonalizable, puesto que en otro caso se requieren procedimientos adicionales. La manera más sencilla de identificar una matriz diagonalizable, es observando directamente sus valores propios. \n",
    "Puesto que los he de calcular, en caso de que la diagonalización exista, la determinaré de una vez"
   ]
  },
  {
   "cell_type": "code",
   "execution_count": 80,
   "id": "qmryvrlgMZkI",
   "metadata": {
    "colab": {
     "base_uri": "https://localhost:8080/"
    },
    "id": "qmryvrlgMZkI",
    "outputId": "903cbb68-81dd-4838-dc5a-4199ccea6203"
   },
   "outputs": [
    {
     "name": "stdout",
     "output_type": "stream",
     "text": [
      "[[4.86619826 0.         0.         0.        ]\n",
      " [0.         0.34455762 0.         0.        ]\n",
      " [0.         0.         1.78924412 0.        ]\n",
      " [0.         0.         0.         3.        ]]\n",
      "[[-3.49561271e-01  7.94033408e-01  7.62229110e-02  9.69367087e-16]\n",
      " [ 1.21959906e-01  4.79650284e-01  3.61664456e-01  3.63512658e-16]\n",
      " [ 3.83368157e-01 -2.42866291e-01 -8.33174113e-01 -7.07106781e-01]\n",
      " [ 8.46145115e-01  2.83659156e-01  4.11351172e-01  7.07106781e-01]]\n"
     ]
    }
   ],
   "source": [
    "eigen, P = np.linalg.eig(A)\n",
    "\n",
    "P_1=np.linalg.inv(A)\n",
    "D=np.diag(eigen)\n",
    "\n",
    "print(D)\n"
   ]
  },
  {
   "cell_type": "markdown",
   "id": "E7lmXX_tPINr",
   "metadata": {
    "id": "E7lmXX_tPINr"
   },
   "source": [
    "Al parecer hoy me ha acompañado la suerte, los valores propios son distintos, por lo tanto efectivamente la matriz es diagonalizable. "
   ]
  },
  {
   "cell_type": "code",
   "execution_count": 81,
   "id": "PR1MUA0yjNXu",
   "metadata": {
    "colab": {
     "base_uri": "https://localhost:8080/"
    },
    "id": "PR1MUA0yjNXu",
    "outputId": "86645457-e400-442b-80b6-af26bfddb859"
   },
   "outputs": [
    {
     "name": "stdout",
     "output_type": "stream",
     "text": [
      "[[-4.2319188  -0.46038542 -1.01251924 -1.0579797 ]\n",
      " [ 1.51536977 -0.0514982   0.59454444  0.37884244]\n",
      " [ 3.87585322  0.92285184  0.64882271  0.43863322]\n",
      " [12.43314357  1.50017262  3.17684509  3.63861598]]\n"
     ]
    }
   ],
   "source": [
    "#Sin embargo, algo hace meditar y es lo siguiente\n",
    "\n",
    "print(P@D@P_1)"
   ]
  },
  {
   "cell_type": "markdown",
   "id": "XMiMU0KXjWCU",
   "metadata": {
    "id": "XMiMU0KXjWCU"
   },
   "source": [
    "Tal como se puede ver, hay una cantidad notable de error de redondeo computacional en esta representación de la matriz. \n",
    "No lo incluí aquí, pero al verificar si los vectores propios satisfacen la definición, se obtienen ceros de un orden O(e-16) por lo cual confio en el cálculo, sin embargo, parece que este error se propaga un poco rápido con la multiplicación de las matrices. "
   ]
  },
  {
   "cell_type": "markdown",
   "id": "L47tcv0gPwYD",
   "metadata": {
    "id": "L47tcv0gPwYD"
   },
   "source": [
    "Por ahora continuaré. \n",
    "Sea E la matriz $e^{A}$, procedemos a calcularla tal como"
   ]
  },
  {
   "cell_type": "code",
   "execution_count": 82,
   "id": "q5ZdtS1LPYQd",
   "metadata": {
    "colab": {
     "base_uri": "https://localhost:8080/"
    },
    "id": "q5ZdtS1LPYQd",
    "outputId": "612e20e1-01b4-4521-e876-1fee706d46f3"
   },
   "outputs": [
    {
     "name": "stdout",
     "output_type": "stream",
     "text": [
      "[[-117.56427563  -14.65711145  -29.13423993  -29.26089514]\n",
      " [  45.53374839    5.00934822   12.22521271   11.62425576]\n",
      " [ 116.85167253   14.77125023   28.60316209   25.48909523]\n",
      " [ 310.16544162   39.77171808   77.66231842   81.47730411]]\n"
     ]
    }
   ],
   "source": [
    "E=P @ np.exp(D) @ P_1\n",
    "\n",
    "print(E)"
   ]
  },
  {
   "cell_type": "markdown",
   "id": "VnKGw8cHk0MQ",
   "metadata": {
    "id": "VnKGw8cHk0MQ"
   },
   "source": [
    "Esta es la matriz exponencial buscada. "
   ]
  },
  {
   "cell_type": "markdown",
   "id": "g5Jq3LHtQIjt",
   "metadata": {
    "id": "g5Jq3LHtQIjt"
   },
   "source": [
    "Construimos ahora la función solicitada"
   ]
  },
  {
   "cell_type": "code",
   "execution_count": 83,
   "id": "TmC4yPRPQLOE",
   "metadata": {
    "colab": {
     "base_uri": "https://localhost:8080/",
     "height": 130
    },
    "id": "TmC4yPRPQLOE",
    "outputId": "9ccd6317-718b-4b1a-dd21-80c52ff1c493"
   },
   "outputs": [
    {
     "ename": "SyntaxError",
     "evalue": "ignored",
     "output_type": "error",
     "traceback": [
      "\u001b[0;36m  File \u001b[0;32m\"<ipython-input-83-5d84b7626221>\"\u001b[0;36m, line \u001b[0;32m6\u001b[0m\n\u001b[0;31m    if mt.abs(mt.floor((np.sqrt(A.shape())))!=0.0:\u001b[0m\n\u001b[0m                                                 ^\u001b[0m\n\u001b[0;31mSyntaxError\u001b[0m\u001b[0;31m:\u001b[0m invalid syntax\n"
     ]
    }
   ],
   "source": [
    "import math as mt\n",
    "\n",
    "print(A.shape())\n",
    "\n",
    "def matrix_exp(A):\n",
    "  if (mt.abs(mt.floor((np.sqrt(A.shape())))!=0.0):\n",
    "    print(\"Matrix must be square. Reconsider your entry values\")\n",
    "  else:\n",
    "\n",
    "    eigen, P = np.linalg.eig(A)\n",
    "\n",
    "    P_1=np.linalg.inv(A)\n",
    "    D=np.diag(eigen)\n",
    "\n",
    "    E=P @ np.exp(D) @ P_1\n",
    "\n",
    "    return E"
   ]
  },
  {
   "cell_type": "code",
   "execution_count": null,
   "id": "gpCOaXOLPvTs",
   "metadata": {
    "id": "gpCOaXOLPvTs"
   },
   "outputs": [],
   "source": []
  },
  {
   "cell_type": "markdown",
   "id": "0a953839",
   "metadata": {
    "id": "0a953839"
   },
   "source": [
    "## Ejercicio 2."
   ]
  },
  {
   "cell_type": "markdown",
   "id": "c07fe99d",
   "metadata": {
    "id": "c07fe99d"
   },
   "source": [
    "Usando las leyes de circuito de Kirchhoff, es posible resolver el siguiente sistema:\n",
    "\n",
    "![](https://raw.githubusercontent.com/sbustamante/ComputationalMethods/master/material/figures/circuit.png)\n",
    "\n",
    "obteniendo las siguientes ecuaciones A,B,C: \n",
    "\n",
    "\\begin{align}\n",
    "A:&&I_A( R+4R ) - I_B( 4R ) =& E \\\\\n",
    "C:&&-I_A( 4R ) + I_B( 4R + 3R ) - I_C(3R) =& 0 \\\\\n",
    "B:&&-I_B( 3R ) + I_C(3R+2R) =& -2E\\,\n",
    "\\end{align}"
   ]
  },
  {
   "cell_type": "markdown",
   "id": "47850497",
   "metadata": {
    "id": "47850497"
   },
   "source": [
    "Encontre: $I_A, I_B, I_C$ usando: \n",
    "\n",
    "a) `scipy.linalg.solve`  \n",
    "b) `scipy.linalg.inv(A)`  \n",
    "c) `scipy.linalg.lu(A)`\n",
    "\n",
    "*podemos substituir: $x_n=\\frac{R I_n}{E}$ (n=A,B,C)"
   ]
  },
  {
   "cell_type": "markdown",
   "id": "mzDx_7MlRWlG",
   "metadata": {
    "id": "mzDx_7MlRWlG"
   },
   "source": [
    "En primer lugar  tómese la matriz de coeficientes del sistema\n",
    "\n",
    "\\begin{equation}\n",
    "Z= \\begin{bmatrix}\n",
    "5 & -4 & 0\\\\\n",
    "-4 & 7 & -3\\\\\n",
    "0 & -3 & 5\n",
    "\\end{bmatrix} R\n",
    "\\end{equation}\n",
    "\n",
    "y el vector de términos independientes\n",
    "\n",
    "\\begin{equation}\n",
    "V_{0}= \\begin{bmatrix}\n",
    "1 \\\\\n",
    "0 \\\\\n",
    "-2 \n",
    "\\end{bmatrix} E\n",
    "\\end{equation}\n"
   ]
  },
  {
   "cell_type": "code",
   "execution_count": 49,
   "id": "P40ZuWcuRa2Q",
   "metadata": {
    "id": "P40ZuWcuRa2Q"
   },
   "outputs": [],
   "source": [
    "B=np.array([[5,-4,0],[-4,7,-3],[0,-3,5]])\n",
    "\n",
    "b=np.array([[1],[0],[-2]])"
   ]
  },
  {
   "cell_type": "markdown",
   "id": "XGiAjl3JS4VM",
   "metadata": {
    "id": "XGiAjl3JS4VM"
   },
   "source": [
    "La solución puede obtenerse de diversas maneras, la primera es por eliminación gaussiana. \n",
    "\n",
    "Sea $I$ el vector asociado a las corrientes\n",
    "El sistema de ecuaciones del circuito puede escribirse en forma matricial como\n",
    "\n",
    "$$Z I = V_{0}$$\n",
    "\n",
    "\\begin{equation}\n",
    "Z= R\\begin{bmatrix}\n",
    "5 & -4 & 0\\\\\n",
    "-4 & 7 & -3\\\\\n",
    "0 & -3 & 5\n",
    "\\end{bmatrix}  I =\n",
    "V_{0}= \\begin{bmatrix}\n",
    "1 \\\\\n",
    "0 \\\\\n",
    "-2 \n",
    "\\end{bmatrix} E\n",
    "\\end{equation}\n",
    "\n",
    "\\begin{equation}\n",
    "\\begin{bmatrix}\n",
    "5 & -4 & 0\\\\\n",
    "-4 & 7 & -3\\\\\n",
    "0 & -3 & 5\n",
    "\\end{bmatrix}  I =\n",
    "\\begin{bmatrix}\n",
    "1 \\\\\n",
    "0 \\\\\n",
    "-2 \n",
    "\\end{bmatrix} \\frac{E}{R} \n",
    "\\end{equation}\n",
    "\n",
    "\n",
    "$$B I = \\left(\\frac{E}{R}\\right) b $$\n",
    "\n",
    "\n",
    "Aplicar eliminación gaussiana consiste en multiplicar ambos lados de la igualdad por matrices elementales adecuadas (que corresponden a operaciones por renglón) dando una solución de la forma\n",
    "\n",
    "$[Z|V_{0}] = $ \n",
    "$[E_{1}Z|E_{1}V_{0}] = [E_{n}...E_{1}Z|E_{n}...E_{1}V_{0}]$\n",
    "\n",
    "hasta que la matriz\n",
    "\n",
    "$E_{n}...E_{1}Z$ se encuentre en su forma escalonada reducida. Si esto se logra, la matriz\n",
    "\n",
    "$I=E_{n}...E_{1}V_{0}$ es la solución del sistema. \n",
    "\n",
    "**Nótese que aquí $I$ denota un vector de corrientes, no la matriz identidad.** "
   ]
  },
  {
   "cell_type": "code",
   "execution_count": 50,
   "id": "W7iJ-mhKbNME",
   "metadata": {
    "id": "W7iJ-mhKbNME"
   },
   "outputs": [],
   "source": [
    "%matplotlib inline\n",
    "import sympy as sym"
   ]
  },
  {
   "cell_type": "code",
   "execution_count": 60,
   "id": "MgKEYwqmU7RE",
   "metadata": {
    "colab": {
     "base_uri": "https://localhost:8080/"
    },
    "id": "MgKEYwqmU7RE",
    "outputId": "8b08a034-da6d-41d7-ccac-add30d06dcc3"
   },
   "outputs": [
    {
     "name": "stdout",
     "output_type": "stream",
     "text": [
      "[[ 0.04]\n",
      " [-0.2 ]\n",
      " [-0.52]]\n",
      "La solución al sistema es de la forma \n",
      "\n",
      "[[0.0400000000000001*E/R]\n",
      " [-0.2*E/R]\n",
      " [-0.52*E/R]] 3\n"
     ]
    }
   ],
   "source": [
    "I_gauss=np.linalg.solve(B,b)\n",
    "print(I_gauss)\n",
    "\n",
    "E,R=sym.symbols(\"E,R\")\n",
    "\n",
    "print(\"La solución al sistema es de la forma \\n\")\n",
    "print((I_gauss)*E/R,3)"
   ]
  },
  {
   "cell_type": "markdown",
   "id": "vFTsBLhVVjVk",
   "metadata": {
    "id": "vFTsBLhVVjVk"
   },
   "source": [
    "Una manera alternativa de obtener esta misma solución, es calculando la matriz inversa de la matriz de coeficientes. En primer lugar verificamos si ésta existe. "
   ]
  },
  {
   "cell_type": "code",
   "execution_count": 61,
   "id": "ou5bFg_KVkar",
   "metadata": {
    "colab": {
     "base_uri": "https://localhost:8080/"
    },
    "id": "ou5bFg_KVkar",
    "outputId": "533cdfce-5962-4276-a58e-5a8f32a47f78"
   },
   "outputs": [
    {
     "name": "stdout",
     "output_type": "stream",
     "text": [
      "La matriz es invertible, proceda.\n"
     ]
    }
   ],
   "source": [
    "detZ = np.linalg.det(B)\n",
    "\n",
    "if (detZ!=0.0):\n",
    "  print(\"La matriz es invertible, proceda.\")\n",
    "else:\n",
    "  print(\"Toda esperanza se ha perdido. Deberá usar un método distinto. \")"
   ]
  },
  {
   "cell_type": "markdown",
   "id": "kG5fPfSRV-ek",
   "metadata": {
    "id": "kG5fPfSRV-ek"
   },
   "source": [
    "Confio en mi código, así que procederé. \n",
    "\n",
    "Cuando la matriz del sistema es invertible, tenemos\n",
    "\n",
    "\n",
    "$Z I = V_{0}$\n",
    "\n",
    "\n",
    "$Z^{-1}Z I=I = Z^{-1}V_{0}$\n",
    "\n",
    "$I = Z^{-1}V_{0}$\n",
    "\n",
    "es entonces la solución al sistema. "
   ]
  },
  {
   "cell_type": "code",
   "execution_count": 62,
   "id": "zdtfNtvHWAv8",
   "metadata": {
    "colab": {
     "base_uri": "https://localhost:8080/"
    },
    "id": "zdtfNtvHWAv8",
    "outputId": "c6d41e2a-9731-4818-c56b-56a4c1a9c523"
   },
   "outputs": [
    {
     "name": "stdout",
     "output_type": "stream",
     "text": [
      "[[ 0.04]\n",
      " [-0.2 ]\n",
      " [-0.52]]\n",
      "La solución al sistema es de la forma \n",
      "\n",
      "[[0.04*E/R]\n",
      " [-0.2*E/R]\n",
      " [-0.52*E/R]]\n"
     ]
    }
   ],
   "source": [
    "B_1=np.linalg.inv(B)\n",
    "\n",
    "I_inverse=B_1@b\n",
    "print(I_inverse)\n",
    "print(\"La solución al sistema es de la forma \\n\")\n",
    "print((I_inverse)*E/R)\n"
   ]
  },
  {
   "cell_type": "markdown",
   "id": "5FTPXDXmW5KF",
   "metadata": {
    "id": "5FTPXDXmW5KF"
   },
   "source": [
    "Respuesta que coincide con el otro método, tal como debería ser. "
   ]
  },
  {
   "cell_type": "markdown",
   "id": "7arcB_hsW_6G",
   "metadata": {
    "id": "7arcB_hsW_6G"
   },
   "source": [
    "Por último, procedemos con el último de los métodos, obteniendo una factoriación LU para la matriz de coeficientes del sistema"
   ]
  },
  {
   "cell_type": "code",
   "execution_count": 63,
   "id": "9EVQVsaGXRF4",
   "metadata": {
    "id": "9EVQVsaGXRF4"
   },
   "outputs": [],
   "source": [
    "#necesito en este caso una función de Scipy\n",
    "import scipy.linalg as la\n",
    "\n",
    "Q, L, U = la.lu(B)\n",
    "\n"
   ]
  },
  {
   "cell_type": "markdown",
   "id": "RJ33vknfcpvt",
   "metadata": {
    "id": "RJ33vknfcpvt"
   },
   "source": [
    "Junto con estas matrices tenemos de nuevo\n",
    "\n",
    "$$A I = \\left(\\frac{E}{R}\\right) b $$\n",
    "\n",
    "$$ P L U I = \\left(\\frac{E}{R}\\right) b $$\n",
    "\n",
    "Sea $UI = y$\n",
    "\n",
    "Resolvemos para $PL y= \\left(\\frac{E}{R}\\right) b$"
   ]
  },
  {
   "cell_type": "code",
   "execution_count": 64,
   "id": "i2KULhiWdFDd",
   "metadata": {
    "id": "i2KULhiWdFDd"
   },
   "outputs": [],
   "source": [
    "y=np.linalg.inv(Q) @  np.linalg.inv(L) @ b"
   ]
  },
  {
   "cell_type": "markdown",
   "id": "gzwB17D1eLg_",
   "metadata": {
    "id": "gzwB17D1eLg_"
   },
   "source": [
    "Y ahora, se retorna de la sustitución"
   ]
  },
  {
   "cell_type": "code",
   "execution_count": 65,
   "id": "tbHld330eS-S",
   "metadata": {
    "colab": {
     "base_uri": "https://localhost:8080/"
    },
    "id": "tbHld330eS-S",
    "outputId": "52c634b5-96a9-4d57-fca2-67619640378f"
   },
   "outputs": [
    {
     "name": "stdout",
     "output_type": "stream",
     "text": [
      "[[ 0.04]\n",
      " [-0.2 ]\n",
      " [-0.52]]\n",
      "La solución al sistema es de la forma \n",
      "\n",
      "[[0.0400000000000001*E/R]\n",
      " [-0.2*E/R]\n",
      " [-0.52*E/R]]\n"
     ]
    }
   ],
   "source": [
    "I_plu=np.linalg.inv(U) @ y\n",
    "print(I_plu)\n",
    "print(\"La solución al sistema es de la forma \\n\")\n",
    "print((I_plu)*E/R)"
   ]
  },
  {
   "cell_type": "markdown",
   "id": "37a5d03b",
   "metadata": {},
   "source": [
    "# Feedback:\n",
    "```\n",
    "\n",
    "    Exercise 1.\n",
    "    Solution + presentation of the results\t            (max 5.0p):\t2.0p\n",
    "- error esta aqui: D=np.diag(eigen)\n",
    "    Exercise 2.\n",
    "    Solution + presentation of the results\t            (max 5.0p):\t5.0p\n",
    "\n",
    "\n",
    "    - Total:                                              (max 10.0p):   7.0p\n",
    "```"
   ]
  },
  {
   "cell_type": "code",
   "execution_count": null,
   "id": "b9034020",
   "metadata": {},
   "outputs": [],
   "source": []
  }
 ],
 "metadata": {
  "colab": {
   "provenance": []
  },
  "kernelspec": {
   "display_name": "Python 3",
   "language": "python",
   "name": "python3"
  },
  "language_info": {
   "codemirror_mode": {
    "name": "ipython",
    "version": 3
   },
   "file_extension": ".py",
   "mimetype": "text/x-python",
   "name": "python",
   "nbconvert_exporter": "python",
   "pygments_lexer": "ipython3",
   "version": "3.7.2"
  }
 },
 "nbformat": 4,
 "nbformat_minor": 5
}
