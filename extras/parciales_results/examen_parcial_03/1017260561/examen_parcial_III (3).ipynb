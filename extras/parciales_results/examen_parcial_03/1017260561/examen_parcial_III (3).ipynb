{
 "cells": [
  {
   "cell_type": "markdown",
   "id": "77NfqBFpIqu8",
   "metadata": {
    "id": "77NfqBFpIqu8"
   },
   "source": [
    "#Manuela Montoya González"
   ]
  },
  {
   "cell_type": "markdown",
   "id": "5aec7b5b",
   "metadata": {
    "id": "5aec7b5b"
   },
   "source": [
    "# Examen parcial 3  (algebra lineal)\n",
    "* Antes de enviar el archivo, $\\textbf{reiniciar y ejecutar el kernel}$ para ver que el archivo se compila sin errores\n",
    "* enviar el archivo jupyter sin anexos antes de las 10.00am del 14.09.2022 a mi dirección de correo electrónico: michal.hemmerling@udea.edu.co "
   ]
  },
  {
   "cell_type": "markdown",
   "id": "21580966",
   "metadata": {
    "id": "21580966"
   },
   "source": [
    "## Ejercicio 1.\n",
    "\n",
    "En varios casos, sistema de equaciones diferentiales lineares\n",
    "tipo \n",
    "$$\\frac{d\\textbf{x}}{dt}=\\textbf{A}\\textbf{x}$$\n",
    "con solucion:\n",
    "$$ \\textbf{x}(t) = e^{t\\textbf{A}} \\textbf{C}$$\n",
    "\n",
    "(donde $\\textbf{x}$ es un vector, $\\textbf{A}$ es matrix y $\\textbf{C}$ es vector de condiciones iniciales)\n",
    "\n",
    "se simplifica a calcular exponente de matriz: $e^{\\textbf{A}t}$!!!!\n",
    "\n",
    "$\\textbf{Como ejercicio, calcule $e^{A}$}$ definido como:\n",
    "\n",
    "$$e^A=Pe^DP^{-1}$$\n",
    "\n",
    "donde $e^D$ es\n",
    "\n",
    "$$e^D=\n",
    "\\begin{bmatrix}\n",
    "e^{\\lambda_1} & 0 & \\cdots & 0 \\\\\n",
    "0 & e^{\\lambda_2} & \\cdots & 0 \\\\\n",
    "\\vdots & \\vdots & \\ddots & \\vdots\\\\\n",
    "0 & 0 & \\cdots & e^{\\lambda_n} \\\\\n",
    "\\end{bmatrix}\n",
    "$$\n",
    "\n",
    "$P$ son eigenvectors y $P^{-1}$ es inversion de $P$\n",
    "\n",
    "#### a) encuentra $e^A$ si:\n",
    "\n",
    "$$A=\n",
    "\\begin{bmatrix}\n",
    "1 &  -1 & -1 & -1\\\\\n",
    "-1 &  2 & 0 & 0\\\\\n",
    "-1 &  3 & 3 & 0 \\\\\n",
    "-1 &  0 & 1 & 4 \\\\\n",
    "\\end{bmatrix}$$\n",
    "\n",
    "#### b) Construye una function $\\textbf{matrix_exp(A)}$ que acepta una matrix A como un argumento\n",
    "#### c) si matrix no es cuadrada: imprime \"Matrix must be square\" y sale la funcion usando: $\\textbf{return}$\n",
    "#### d) si matrix es cuadrada ($\\textbf{else:}$): calcule y imprime valor de $e^A$"
   ]
  },
  {
   "cell_type": "code",
   "execution_count": 16,
   "id": "db41eef5",
   "metadata": {
    "colab": {
     "base_uri": "https://localhost:8080/"
    },
    "id": "db41eef5",
    "outputId": "47ae4dcf-1e3d-4cfd-bf43-eda00c36e56a"
   },
   "outputs": [
    {
     "name": "stdout",
     "output_type": "stream",
     "text": [
      "[[ 1 -1 -1 -1]\n",
      " [-1  2  0  0]\n",
      " [-1  3  3  0]\n",
      " [-1  0  1  4]] \n",
      "\n",
      "el valor de e**A es: \n",
      " [[ 2.71828183  0.36787944  0.36787944  0.36787944]\n",
      " [ 0.36787944  7.3890561   1.          1.        ]\n",
      " [ 0.36787944 20.08553692 20.08553692  1.        ]\n",
      " [ 0.36787944  1.          2.71828183 54.59815003]] \n",
      "\n"
     ]
    }
   ],
   "source": [
    "#Primero busquemos eA\n",
    "import numpy as np\n",
    "import math\n",
    "from math import e\n",
    "\n",
    "A = np.array([[1,-1,-1,-1],[-1,2,0,0],[-1,3,3,0],[-1,0,1,4]])\n",
    "print(A,'\\n')\n",
    "print('el valor de e**A es:','\\n' ,e**A,'\\n')\n",
    "#Punto b),c),d)\n",
    "def matrix_exp(A):\n",
    "  n = len(A)\n",
    "  try:\n",
    "    detA = np.linalg.det(A)\n",
    "    print('Es una matriz cuadrada...continuemos')\n",
    "  except:\n",
    "    raise TypeError( \"Matrix must be square\" )\n",
    "    return matrix_exp(A)\n",
    "\n",
    "  evalues, evectors = np.linalg.eig(A)\n",
    "  P = evectors\n",
    "  P_1 = np.linalg.inv(P)\n",
    "  D=np.diag(evalues)\n",
    "\n",
    "\n",
    "  Dinv=np.linalg.inv(D)\n",
    "\n",
    "  print('si es la inversa debe generar identidad:','\\n',np.matmul(Dinv,D))\n",
    "\n",
    "  print('matriz P:','\\n',P,'\\n')\n",
    "  print('matriz D:','\\n',D,'\\n')\n",
    "  print('matriz P_1:','\\n',P_1,'\\n')\n",
    "  print('matriz e**D:','\\n',e**D,'\\n')\n",
    "  print('su valor de e**A es:','\\n')\n",
    "  valorD = e**D\n",
    "  return (P@D@P_1)"
   ]
  },
  {
   "cell_type": "code",
   "execution_count": 14,
   "id": "i1h5xjF2Pat-",
   "metadata": {
    "colab": {
     "base_uri": "https://localhost:8080/"
    },
    "id": "i1h5xjF2Pat-",
    "outputId": "d447ded9-dd73-4643-db6e-a9516a283810"
   },
   "outputs": [
    {
     "name": "stdout",
     "output_type": "stream",
     "text": [
      "Es una matriz cuadrada...continuemos\n",
      "si es la inversa debe generar identidad: \n",
      " [[1. 0. 0. 0.]\n",
      " [0. 1. 0. 0.]\n",
      " [0. 0. 1. 0.]\n",
      " [0. 0. 0. 1.]]\n",
      "matriz P: \n",
      " [[-3.49561271e-01  7.94033408e-01  7.62229110e-02  9.69367087e-16]\n",
      " [ 1.21959906e-01  4.79650284e-01  3.61664456e-01  3.63512658e-16]\n",
      " [ 3.83368157e-01 -2.42866291e-01 -8.33174113e-01 -7.07106781e-01]\n",
      " [ 8.46145115e-01  2.83659156e-01  4.11351172e-01  7.07106781e-01]] \n",
      "\n",
      "matriz D: \n",
      " [[129.82641157   0.           0.           0.        ]\n",
      " [  0.           1.41136542   0.           0.        ]\n",
      " [  0.           0.           5.98492686   0.        ]\n",
      " [  0.           0.           0.          20.08553692]] \n",
      "\n",
      "matriz P_1: \n",
      " [[-0.5104852   0.79495719  0.58933991  0.58933991]\n",
      " [ 1.16666341  0.12636479  0.31915793  0.31915793]\n",
      " [-1.37511912  2.32933088 -0.6220131  -0.6220131 ]\n",
      " [ 0.94280904 -2.3570226  -0.47140452  0.94280904]] \n",
      "\n",
      "matriz e**D: \n",
      " [[2.41487218e+56 1.00000000e+00 1.00000000e+00 1.00000000e+00]\n",
      " [1.00000000e+00 4.10155192e+00 1.00000000e+00 1.00000000e+00]\n",
      " [1.00000000e+00 1.00000000e+00 3.97393456e+02 1.00000000e+00]\n",
      " [1.00000000e+00 1.00000000e+00 1.00000000e+00 5.28491311e+08]] \n",
      "\n",
      "su valor de e**A es: \n",
      "\n"
     ]
    },
    {
     "data": {
      "text/plain": [
       "array([[ 23.84711784, -34.8727468 , -26.67167604, -26.67167604],\n",
       "       [-10.2695345 ,  17.71451082,   8.20107077,   8.20107077],\n",
       "       [-32.34076479,  61.38346694,  39.01966047,  18.93412354],\n",
       "       [-45.60579958,  59.63691501,  56.64141472,  76.72695165]])"
      ]
     },
     "execution_count": 14,
     "metadata": {},
     "output_type": "execute_result"
    }
   ],
   "source": [
    "matrix_exp(A)"
   ]
  },
  {
   "cell_type": "code",
   "execution_count": 15,
   "id": "4904fd0f",
   "metadata": {},
   "outputs": [
    {
     "name": "stdout",
     "output_type": "stream",
     "text": [
      "[[ 23.84711784 -34.8727468  -26.67167604 -26.67167604]\n",
      " [-10.2695345   17.71451082   8.20107077   8.20107077]\n",
      " [-32.34076479  61.38346694  39.01966047  18.93412354]\n",
      " [-45.60579958  59.63691501  56.64141472  76.72695165]]\n"
     ]
    }
   ],
   "source": [
    "import scipy.linalg\n",
    "print(scipy.linalg.expm(A))"
   ]
  },
  {
   "cell_type": "markdown",
   "id": "0a953839",
   "metadata": {
    "id": "0a953839"
   },
   "source": [
    "## Ejercicio 2."
   ]
  },
  {
   "cell_type": "markdown",
   "id": "c07fe99d",
   "metadata": {
    "id": "c07fe99d"
   },
   "source": [
    "Usando las leyes de circuito de Kirchhoff, es posible resolver el siguiente sistema:\n",
    "\n",
    "![](https://raw.githubusercontent.com/sbustamante/ComputationalMethods/master/material/figures/circuit.png)\n",
    "\n",
    "obteniendo las siguientes ecuaciones A,B,C: \n",
    "\n",
    "\\begin{align}\n",
    "A:&&I_A( R+4R ) - I_B( 4R ) =& E \\\\\n",
    "C:&&-I_A( 4R ) + I_B( 4R + 3R ) - I_C(3R) =& 0 \\\\\n",
    "B:&&-I_B( 3R ) + I_C(3R+2R) =& -2E\\,\n",
    "\\end{align}"
   ]
  },
  {
   "cell_type": "markdown",
   "id": "47850497",
   "metadata": {
    "id": "47850497"
   },
   "source": [
    "Encontre: $I_A, I_B, I_C$ usando: \n",
    "\n",
    "a) `scipy.linalg.solve`  \n",
    "b) `scipy.linalg.inv(A)`  \n",
    "c) `scipy.linalg.lu(A)`\n",
    "\n",
    "*podemos substituir: $x_n=\\frac{R I_n}{E}$ (n=A,B,C)"
   ]
  },
  {
   "cell_type": "code",
   "execution_count": 141,
   "id": "rGCw6L93a3-d",
   "metadata": {
    "colab": {
     "base_uri": "https://localhost:8080/"
    },
    "id": "rGCw6L93a3-d",
    "outputId": "1ffb039d-9a50-4106-de40-728d2718015d"
   },
   "outputs": [
    {
     "name": "stdout",
     "output_type": "stream",
     "text": [
      "[[ 0.04]\n",
      " [-0.2 ]\n",
      " [-0.52]]\n"
     ]
    }
   ],
   "source": [
    "#punto 2, a)\n",
    "import numpy as np\n",
    "import scipy.linalg\n",
    "#matriz hallada de las ecuaciones\n",
    "Ma= np.array([[5,-4,0],\n",
    "            [-4,7,-3],\n",
    "            [0,-3,5]])\n",
    "\n",
    "b=np.array([[1],\n",
    "            [0],\n",
    "            [-2]])\n",
    "solve = np.linalg.solve(Ma, b)\n",
    "print(solve)"
   ]
  },
  {
   "cell_type": "code",
   "execution_count": 152,
   "id": "sRrRN6QadVVU",
   "metadata": {
    "colab": {
     "base_uri": "https://localhost:8080/"
    },
    "id": "sRrRN6QadVVU",
    "outputId": "9f44e3f8-7baa-481d-d819-617f481c52df"
   },
   "outputs": [
    {
     "name": "stdout",
     "output_type": "stream",
     "text": [
      "matriz: \n",
      " [[ 5 -4  0]\n",
      " [-4  7 -3]\n",
      " [ 0 -3  5]] \n",
      "\n",
      "matriz invertida: \n",
      " [[0.52 0.4  0.24]\n",
      " [0.4  0.5  0.3 ]\n",
      " [0.24 0.3  0.38]] \n",
      "\n",
      "si es correcta debe generar la identidad: \n",
      " [[ 1.00000000e+00  0.00000000e+00  0.00000000e+00]\n",
      " [ 2.22044605e-16  1.00000000e+00 -1.66533454e-16]\n",
      " [ 0.00000000e+00  1.66533454e-16  1.00000000e+00]] \n",
      "\n",
      "resultado: \n",
      " [[ 0.04]\n",
      " [-0.2 ]\n",
      " [-0.52]]\n"
     ]
    }
   ],
   "source": [
    "#punto b)\n",
    "Minv = np.linalg.inv(Ma)\n",
    "print('matriz:','\\n',Ma,'\\n')\n",
    "print('matriz invertida:','\\n',Minv,'\\n')\n",
    "\n",
    "print('si es correcta debe generar la identidad:','\\n',Ma@Minv,'\\n')\n",
    "print('resultado:','\\n',Minv@b)"
   ]
  },
  {
   "cell_type": "code",
   "execution_count": 154,
   "id": "eULT3II9dhZP",
   "metadata": {
    "colab": {
     "base_uri": "https://localhost:8080/"
    },
    "id": "eULT3II9dhZP",
    "outputId": "52b9194c-c386-413d-e628-76d25f80b396"
   },
   "outputs": [
    {
     "name": "stdout",
     "output_type": "stream",
     "text": [
      "[[ 5. -4.  0.]\n",
      " [-4.  7. -3.]\n",
      " [ 0. -3.  5.]] \n",
      "\n",
      "Matriz por P: \n",
      " [[ 5. -4.  0.]\n",
      " [-4.  7. -3.]\n",
      " [ 0. -3.  5.]] \n",
      "\n",
      "L por U: \n",
      " [[ 5. -4.  0.]\n",
      " [-4.  7. -3.]\n",
      " [ 0. -3.  5.]] \n",
      "\n"
     ]
    }
   ],
   "source": [
    "#Punto c)\n",
    "import scipy.linalg\n",
    "import numpy as np\n",
    "\n",
    "P, L, U = scipy.linalg.lu(Ma)\n",
    "print(P@L@U,'\\n')\n",
    "print('Matriz por P:','\\n', Ma@P,'\\n')\n",
    "print('L por U:','\\n',L@U,'\\n')"
   ]
  },
  {
   "cell_type": "code",
   "execution_count": 157,
   "id": "KXe_DwQ6jDWT",
   "metadata": {
    "id": "KXe_DwQ6jDWT"
   },
   "outputs": [],
   "source": [
    "import numpy as np\n",
    "def forward_sub(L, b):\n",
    "    n = L.shape[0]\n",
    "    x = np.zeros(n)\n",
    "    for i in range(n):\n",
    "        tmp = b[i].copy()\n",
    "        for j in range(i):\n",
    "            tmp -= L[i,j] * x[j]\n",
    "        x[i] = tmp / L[i,i]\n",
    "    return x\n",
    "\n",
    "import numpy as np\n",
    "def back_sub(U, b):\n",
    "    n = U.shape[0]\n",
    "    x = np.zeros(n)\n",
    "    for i in range(n-1, -1, -1):\n",
    "        tmp = b[i].copy()\n",
    "        for j in range(i+1, n):\n",
    "            tmp -= U[i,j] * x[j]\n",
    "        x[i] = tmp / U[i,i]\n",
    "    return x"
   ]
  },
  {
   "cell_type": "code",
   "execution_count": null,
   "id": "YJVicaFClV1f",
   "metadata": {
    "id": "YJVicaFClV1f"
   },
   "outputs": [],
   "source": [
    "x = back_sub(U, b)\n",
    "print(x)"
   ]
  },
  {
   "cell_type": "markdown",
   "id": "4ba8a6d2",
   "metadata": {
    "id": "RU8Pu6U1k5YB"
   },
   "source": [
    "# Feedback:\n",
    "```\n",
    "\n",
    "    Exercise 1.\n",
    "    Solution + presentation of the results\t            (max 5.0p):\t3.0p\n",
    "- error esta aqui: D=np.diag(evalues)\n",
    "    Exercise 2.\n",
    "    Solution + presentation of the results\t            (max 5.0p):\t5.0p\n",
    "\n",
    "\n",
    "    - Total:                                              (max 10.0p):   8.0p\n",
    "```"
   ]
  },
  {
   "cell_type": "code",
   "execution_count": null,
   "id": "f6f449d6",
   "metadata": {},
   "outputs": [],
   "source": []
  }
 ],
 "metadata": {
  "colab": {
   "provenance": []
  },
  "kernelspec": {
   "display_name": "Python 3",
   "language": "python",
   "name": "python3"
  },
  "language_info": {
   "codemirror_mode": {
    "name": "ipython",
    "version": 3
   },
   "file_extension": ".py",
   "mimetype": "text/x-python",
   "name": "python",
   "nbconvert_exporter": "python",
   "pygments_lexer": "ipython3",
   "version": "3.7.2"
  }
 },
 "nbformat": 4,
 "nbformat_minor": 5
}
