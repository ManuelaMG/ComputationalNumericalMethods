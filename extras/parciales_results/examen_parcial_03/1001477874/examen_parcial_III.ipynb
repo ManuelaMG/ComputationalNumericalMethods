{
 "cells": [
  {
   "cell_type": "markdown",
   "id": "5aec7b5b",
   "metadata": {},
   "source": [
    "# Examen parcial 3  (algebra lineal)\n",
    "* Antes de enviar el archivo, $\\textbf{reiniciar y ejecutar el kernel}$ para ver que el archivo se compila sin errores\n",
    "* enviar el archivo jupyter sin anexos antes de las 10.00am del 14.09.2022 a mi dirección de correo electrónico: michal.hemmerling@udea.edu.co "
   ]
  },
  {
   "cell_type": "markdown",
   "id": "21580966",
   "metadata": {},
   "source": [
    "## Ejercicio 1.\n",
    "\n",
    "En varios casos, sistema de equaciones diferentiales lineares\n",
    "tipo \n",
    "$$\\frac{d\\textbf{x}}{dt}=\\textbf{A}\\textbf{x}$$\n",
    "con solucion:\n",
    "$$ \\textbf{x}(t) = e^{t\\textbf{A}} \\textbf{C}$$\n",
    "\n",
    "(donde $\\textbf{x}$ es un vector, $\\textbf{A}$ es matrix y $\\textbf{C}$ es vector de condiciones iniciales)\n",
    "\n",
    "se simplifica a calcular exponente de matriz: $e^{\\textbf{A}t}$!!!!\n",
    "\n",
    "$\\textbf{Como ejercicio, calcule $e^{A}$}$ definido como:\n",
    "\n",
    "$$e^A=Pe^DP^{-1}$$\n",
    "\n",
    "donde $e^D$ es\n",
    "\n",
    "$$e^D=\n",
    "\\begin{bmatrix}\n",
    "e^{\\lambda_1} & 0 & \\cdots & 0 \\\\\n",
    "0 & e^{\\lambda_2} & \\cdots & 0 \\\\\n",
    "\\vdots & \\vdots & \\ddots & \\vdots\\\\\n",
    "0 & 0 & \\cdots & e^{\\lambda_n} \\\\\n",
    "\\end{bmatrix}\n",
    "$$\n",
    "\n",
    "$P$ son eigenvectors y $P^{-1}$ es inversion de $P$\n",
    "\n",
    "#### a) encuentra $e^A$ si:\n",
    "\n",
    "$$A=\n",
    "\\begin{bmatrix}\n",
    "1 &  -1 & -1 & -1\\\\\n",
    "-1 &  2 & 0 & 0\\\\\n",
    "-1 &  3 & 3 & 0 \\\\\n",
    "-1 &  0 & 1 & 4 \\\\\n",
    "\\end{bmatrix}$$\n",
    "\n",
    "#### b) Construye una function $\\textbf{matrix_exp(A)}$ que acepta una matrix A como un argumento\n",
    "#### c) si matrix no es cuadrada: imprime \"Matrix must be square\" y sale la funcion usando: $\\textbf{return}$\n",
    "#### d) si matrix es cuadrada ($\\textbf{else:}$): calcule y imprime valor de $e^A$"
   ]
  },
  {
   "cell_type": "code",
   "execution_count": 2,
   "id": "4ad20d0d",
   "metadata": {},
   "outputs": [
    {
     "data": {
      "text/plain": [
       "array([[ 23.84711784, -34.8727468 , -26.67167604, -26.67167604],\n",
       "       [-10.2695345 ,  17.71451082,   8.20107077,   8.20107077],\n",
       "       [-32.34076479,  61.38346694,  39.01966047,  18.93412354],\n",
       "       [-45.60579958,  59.63691501,  56.64141472,  76.72695165]])"
      ]
     },
     "execution_count": 2,
     "metadata": {},
     "output_type": "execute_result"
    }
   ],
   "source": [
    "import numpy as np\n",
    "A = np.array([[1,-1,-1,-1],[-1,2,0,0],[-1,3,3,0],[-1,0,1,4]])\n",
    "evalues, evectors = np.linalg.eig(A)\n",
    "P = evectors\n",
    "Pinv=np.linalg.inv(P)\n",
    "D = np.zeros((4,4))\n",
    "for i in range(4):\n",
    "    D[i,i] = np.exp(evalues[i])\n",
    "eA = P@D@Pinv\n",
    "eA"
   ]
  },
  {
   "cell_type": "code",
   "execution_count": 6,
   "id": "f2d6dd1a",
   "metadata": {},
   "outputs": [
    {
     "name": "stdout",
     "output_type": "stream",
     "text": [
      "Matrix must be square\n"
     ]
    },
    {
     "data": {
      "text/plain": [
       "array([[ 217.10043954,  509.86426626,  835.31014706],\n",
       "       [ 216.96510426,  509.99960155,  835.31014706],\n",
       "       [ 329.06060458,  784.68625816, 1283.83813717]])"
      ]
     },
     "execution_count": 6,
     "metadata": {},
     "output_type": "execute_result"
    }
   ],
   "source": [
    "def matrix_exp(A):\n",
    "    B = np.copy(A)\n",
    "    R,C = B.shape\n",
    "    if R != C:\n",
    "        return print(\"Matrix must be square\")\n",
    "    else: \n",
    "        evalues, evectors = np.linalg.eig(B)\n",
    "        P = evectors\n",
    "        Pinv=np.linalg.inv(P)\n",
    "        D = np.zeros((R,C))\n",
    "        for i in range(R):\n",
    "            D[i,i] = np.exp(evalues[i])\n",
    "        eA = P@D@Pinv\n",
    "        return eA\n",
    "A1 = np.array([[1,-1,-1],[-1,2,0],[-1,3,3],[-1,0,1]])\n",
    "matrix_exp(A1)\n",
    "A2 =np.array([[2,1,3],[4,-1,3],[-1,5,5]])\n",
    "matrix_exp(A2)"
   ]
  },
  {
   "cell_type": "markdown",
   "id": "0a953839",
   "metadata": {},
   "source": [
    "## Ejercicio 2."
   ]
  },
  {
   "cell_type": "markdown",
   "id": "c07fe99d",
   "metadata": {},
   "source": [
    "Usando las leyes de circuito de Kirchhoff, es posible resolver el siguiente sistema:\n",
    "\n",
    "![](https://raw.githubusercontent.com/sbustamante/ComputationalMethods/master/material/figures/circuit.png)\n",
    "\n",
    "obteniendo las siguientes ecuaciones A,B,C: \n",
    "\n",
    "\\begin{align}\n",
    "A:&&I_A( R+4R ) - I_B( 4R ) =& E \\\\\n",
    "C:&&-I_A( 4R ) + I_B( 4R + 3R ) - I_C(3R) =& 0 \\\\\n",
    "B:&&-I_B( 3R ) + I_C(3R+2R) =& -2E\\,\n",
    "\\end{align}"
   ]
  },
  {
   "cell_type": "markdown",
   "id": "47850497",
   "metadata": {},
   "source": [
    "Encontre: $I_A, I_B, I_C$ usando: \n",
    "\n",
    "a) `scipy.linalg.solve`  \n",
    "b) `scipy.linalg.inv(A)`  \n",
    "c) `scipy.linalg.lu(A)`\n",
    "\n",
    "*podemos substituir: $x_n=\\frac{R I_n}{E}$ (n=A,B,C)"
   ]
  },
  {
   "cell_type": "code",
   "execution_count": 3,
   "id": "db41eef5",
   "metadata": {},
   "outputs": [
    {
     "data": {
      "text/plain": [
       "array([ 0.04, -0.2 , -0.52])"
      ]
     },
     "execution_count": 3,
     "metadata": {},
     "output_type": "execute_result"
    }
   ],
   "source": [
    "import scipy.linalg\n",
    "R = 1\n",
    "E = 1\n",
    "S = np.array([[5*R,-4*R,0],[-4*R,7*R,-3*R],[0,-3*R,5*R]])\n",
    "B = np.array([E,0,-2*E])\n",
    "\n",
    "x1 = scipy.linalg.solve(S,B)\n",
    "x1"
   ]
  },
  {
   "cell_type": "code",
   "execution_count": 4,
   "id": "37a26654",
   "metadata": {},
   "outputs": [
    {
     "data": {
      "text/plain": [
       "array([ 0.04, -0.2 , -0.52])"
      ]
     },
     "execution_count": 4,
     "metadata": {},
     "output_type": "execute_result"
    }
   ],
   "source": [
    "S_inv = scipy.linalg.inv(S)\n",
    "x2 = S_inv@B\n",
    "x2"
   ]
  },
  {
   "cell_type": "code",
   "execution_count": 5,
   "id": "01cea759",
   "metadata": {},
   "outputs": [
    {
     "data": {
      "text/plain": [
       "array([ 0.04, -0.2 , -0.52])"
      ]
     },
     "execution_count": 5,
     "metadata": {},
     "output_type": "execute_result"
    }
   ],
   "source": [
    "from scipy.linalg import lu_factor, lu_solve\n",
    "lu, piv = lu_factor(S)\n",
    "x3 = lu_solve((lu, piv), B)\n",
    "x3"
   ]
  },
  {
   "cell_type": "markdown",
   "id": "a0254cb4",
   "metadata": {},
   "source": [
    "# Feedback:\n",
    "```\n",
    "\n",
    "    Exercise 1.\n",
    "    Solution + presentation of the results\t            (max 5.0p):\t5.0p\n",
    "\n",
    "    Exercise 2.\n",
    "    Solution + presentation of the results\t            (max 5.0p):\t5.0p\n",
    "\n",
    "\n",
    "    - Total:                                              (max 10.0p):   10.0p\n",
    "```"
   ]
  },
  {
   "cell_type": "code",
   "execution_count": null,
   "id": "ba9b4254",
   "metadata": {},
   "outputs": [],
   "source": []
  }
 ],
 "metadata": {
  "kernelspec": {
   "display_name": "Python 3",
   "language": "python",
   "name": "python3"
  },
  "language_info": {
   "codemirror_mode": {
    "name": "ipython",
    "version": 3
   },
   "file_extension": ".py",
   "mimetype": "text/x-python",
   "name": "python",
   "nbconvert_exporter": "python",
   "pygments_lexer": "ipython3",
   "version": "3.7.2"
  }
 },
 "nbformat": 4,
 "nbformat_minor": 5
}
