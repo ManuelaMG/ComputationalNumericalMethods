{
 "cells": [
  {
   "cell_type": "markdown",
   "id": "5aec7b5b",
   "metadata": {
    "id": "5aec7b5b"
   },
   "source": [
    "# Examen parcial 3  (algebra lineal)\n",
    "* Antes de enviar el archivo, $\\textbf{reiniciar y ejecutar el kernel}$ para ver que el archivo se compila sin errores\n",
    "* enviar el archivo jupyter sin anexos antes de las 10.00am del 14.09.2022 a mi dirección de correo electrónico: michal.hemmerling@udea.edu.co "
   ]
  },
  {
   "cell_type": "markdown",
   "id": "21580966",
   "metadata": {
    "id": "21580966"
   },
   "source": [
    "## Ejercicio 1.\n",
    "\n",
    "En varios casos, sistema de equaciones diferentiales lineares\n",
    "tipo \n",
    "$$\\frac{d\\textbf{x}}{dt}=\\textbf{A}\\textbf{x}$$\n",
    "con solucion:\n",
    "$$ \\textbf{x}(t) = e^{t\\textbf{A}} \\textbf{C}$$\n",
    "\n",
    "(donde $\\textbf{x}$ es un vector, $\\textbf{A}$ es matrix y $\\textbf{C}$ es vector de condiciones iniciales)\n",
    "\n",
    "se simplifica a calcular exponente de matriz: $e^{\\textbf{A}t}$!!!!\n",
    "\n",
    "$\\textbf{Como ejercicio, calcule $e^{A}$}$ definido como:\n",
    "\n",
    "$$e^A=Pe^DP^{-1}$$\n",
    "\n",
    "donde $e^D$ es\n",
    "\n",
    "$$e^D=\n",
    "\\begin{bmatrix}\n",
    "e^{\\lambda_1} & 0 & \\cdots & 0 \\\\\n",
    "0 & e^{\\lambda_2} & \\cdots & 0 \\\\\n",
    "\\vdots & \\vdots & \\ddots & \\vdots\\\\\n",
    "0 & 0 & \\cdots & e^{\\lambda_n} \\\\\n",
    "\\end{bmatrix}\n",
    "$$\n",
    "\n",
    "$P$ son eigenvectors y $P^{-1}$ es inversion de $P$\n",
    "\n",
    "#### a) encuentra $e^A$ si:\n",
    "\n",
    "$$A=\n",
    "\\begin{bmatrix}\n",
    "1 &  -1 & -1 & -1\\\\\n",
    "-1 &  2 & 0 & 0\\\\\n",
    "-1 &  3 & 3 & 0 \\\\\n",
    "-1 &  0 & 1 & 4 \\\\\n",
    "\\end{bmatrix}$$\n",
    "\n",
    "#### b) Construye una function $\\textbf{matrix_exp(A)}$ que acepta una matrix A como un argumento\n",
    "#### c) si matrix no es cuadrada: imprime \"Matrix must be square\" y sale la funcion usando: $\\textbf{return}$\n",
    "#### d) si matrix es cuadrada ($\\textbf{else:}$): calcule y imprime valor de $e^A$"
   ]
  },
  {
   "cell_type": "code",
   "execution_count": 1,
   "id": "hPedb_VnJ5Ji",
   "metadata": {
    "id": "hPedb_VnJ5Ji"
   },
   "outputs": [],
   "source": [
    "import numpy as np"
   ]
  },
  {
   "cell_type": "code",
   "execution_count": 2,
   "id": "MOMd1XScKrYw",
   "metadata": {
    "colab": {
     "base_uri": "https://localhost:8080/"
    },
    "id": "MOMd1XScKrYw",
    "outputId": "ddae17e1-7a58-457b-abb8-df5d4425f16f"
   },
   "outputs": [
    {
     "name": "stdout",
     "output_type": "stream",
     "text": [
      "A \n",
      " [[ 1 -1 -1 -1]\n",
      " [-1  2  0  0]\n",
      " [-1  3  3  0]\n",
      " [-1  0  1  4]]\n"
     ]
    }
   ],
   "source": [
    "A = np.array([[1,-1,-1,-1],[-1,2,0,0],[-1,3,3,0],[-1,0,1,4]])\n",
    "print('A \\n',A)"
   ]
  },
  {
   "cell_type": "code",
   "execution_count": 3,
   "id": "Yf5_i7UxJ7bE",
   "metadata": {
    "colab": {
     "base_uri": "https://localhost:8080/"
    },
    "id": "Yf5_i7UxJ7bE",
    "outputId": "70606c18-b8b1-4bd0-8aa5-f42ae62eb039"
   },
   "outputs": [
    {
     "name": "stdout",
     "output_type": "stream",
     "text": [
      "Valores propios \n",
      " [4.86619826 0.34455762 1.78924412 3.        ]\n",
      "\n",
      "P \n",
      " [[-3.49561271e-01  7.94033408e-01  7.62229110e-02  9.69367087e-16]\n",
      " [ 1.21959906e-01  4.79650284e-01  3.61664456e-01  3.63512658e-16]\n",
      " [ 3.83368157e-01 -2.42866291e-01 -8.33174113e-01 -7.07106781e-01]\n",
      " [ 8.46145115e-01  2.83659156e-01  4.11351172e-01  7.07106781e-01]]\n",
      "\n",
      "D \n",
      " [[4.86619826 0.         0.         0.        ]\n",
      " [0.         0.34455762 0.         0.        ]\n",
      " [0.         0.         1.78924412 0.        ]\n",
      " [0.         0.         0.         3.        ]]\n",
      "\n",
      "Inversa de P \n",
      " [[-0.5104852   0.79495719  0.58933991  0.58933991]\n",
      " [ 1.16666341  0.12636479  0.31915793  0.31915793]\n",
      " [-1.37511912  2.32933088 -0.6220131  -0.6220131 ]\n",
      " [ 0.94280904 -2.3570226  -0.47140452  0.94280904]]\n"
     ]
    }
   ],
   "source": [
    "valores,vectores = np.linalg.eig(A)\n",
    "P = vectores\n",
    "print('Valores propios \\n',valores)\n",
    "print()\n",
    "print('P \\n',P)\n",
    "print()\n",
    "D = np.diag(valores)\n",
    "print('D \\n',D)\n",
    "P_inv = np.linalg.inv(P)\n",
    "print()\n",
    "print('Inversa de P \\n',P_inv)"
   ]
  },
  {
   "cell_type": "code",
   "execution_count": 4,
   "id": "x7dnuMFfUgNC",
   "metadata": {
    "colab": {
     "base_uri": "https://localhost:8080/"
    },
    "id": "x7dnuMFfUgNC",
    "outputId": "9508f398-a742-45d8-fec1-8ecd0369e656"
   },
   "outputs": [
    {
     "name": "stdout",
     "output_type": "stream",
     "text": [
      "e^D \n",
      " [[129.82641157   0.           0.           0.        ]\n",
      " [  0.           1.41136542   0.           0.        ]\n",
      " [  0.           0.           5.98492686   0.        ]\n",
      " [  0.           0.           0.          20.08553692]]\n"
     ]
    }
   ],
   "source": [
    "# Creando e^D\n",
    "Me = np.zeros((4,4))\n",
    "for i in range(4):\n",
    "  Me[i,i] = np.exp(1)\n",
    "\n",
    "e = np.zeros((4,4))\n",
    "for j in range(4):\n",
    "  e[j,j] = Me[j,j]**D[j,j]\n",
    "print('e^D \\n',e) "
   ]
  },
  {
   "cell_type": "markdown",
   "id": "gEtLmIyCWWgs",
   "metadata": {
    "id": "gEtLmIyCWWgs"
   },
   "source": [
    "a)"
   ]
  },
  {
   "cell_type": "code",
   "execution_count": 5,
   "id": "nj0ebiGpVccS",
   "metadata": {
    "colab": {
     "base_uri": "https://localhost:8080/"
    },
    "id": "nj0ebiGpVccS",
    "outputId": "806d6463-4312-49a0-d58c-25ec9588d885"
   },
   "outputs": [
    {
     "name": "stdout",
     "output_type": "stream",
     "text": [
      "e^A \n",
      " [[ 23.84711784 -34.8727468  -26.67167604 -26.67167604]\n",
      " [-10.2695345   17.71451082   8.20107077   8.20107077]\n",
      " [-32.34076479  61.38346694  39.01966047  18.93412354]\n",
      " [-45.60579958  59.63691501  56.64141472  76.72695165]]\n"
     ]
    }
   ],
   "source": [
    "# Calculando e^A\n",
    "e_expA = P@e@P_inv\n",
    "print('e^A \\n',e_expA)"
   ]
  },
  {
   "cell_type": "code",
   "execution_count": 6,
   "id": "O8y7KEeRWbbd",
   "metadata": {
    "id": "O8y7KEeRWbbd"
   },
   "outputs": [],
   "source": [
    "def matrix_exp(A):\n",
    "  B = np.copy(A)\n",
    "  n = len(B)\n",
    "  if n != len(B[0]):\n",
    "    print(\"Matrix must be square\" )\n",
    "  \n",
    "  else:\n",
    "    valores,vectores = np.linalg.eig(B)\n",
    "    P = vectores\n",
    "    D = np.diag(valores)\n",
    "    P_inv = np.linalg.inv(P)\n",
    "    Me = np.zeros((n,n))\n",
    "    for i in range(n):\n",
    "      Me[i,i] = np.exp(1)\n",
    "\n",
    "    e = np.zeros((n,n))\n",
    "    for j in range(n):\n",
    "      e[j,j] = Me[j,j]**D[j,j]\n",
    "\n",
    "    e_expA = P@e@P_inv\n",
    "    \n",
    "  return e_expA\n"
   ]
  },
  {
   "cell_type": "code",
   "execution_count": 7,
   "id": "mlW2duKuacIQ",
   "metadata": {
    "colab": {
     "base_uri": "https://localhost:8080/"
    },
    "id": "mlW2duKuacIQ",
    "outputId": "97ccef1b-6833-4f7b-8204-93f6bba582ed"
   },
   "outputs": [
    {
     "name": "stdout",
     "output_type": "stream",
     "text": [
      "[[ 23.84711784 -34.8727468  -26.67167604 -26.67167604]\n",
      " [-10.2695345   17.71451082   8.20107077   8.20107077]\n",
      " [-32.34076479  61.38346694  39.01966047  18.93412354]\n",
      " [-45.60579958  59.63691501  56.64141472  76.72695165]]\n"
     ]
    }
   ],
   "source": [
    "# Probando con matriz cuadrada\n",
    "e_A = matrix_exp(A)\n",
    "print(e_A)"
   ]
  },
  {
   "cell_type": "code",
   "execution_count": 8,
   "id": "EMv23CNQbOYX",
   "metadata": {
    "colab": {
     "base_uri": "https://localhost:8080/",
     "height": 304
    },
    "id": "EMv23CNQbOYX",
    "outputId": "34869d25-495f-4daf-bd28-aeb7b3843163"
   },
   "outputs": [
    {
     "name": "stdout",
     "output_type": "stream",
     "text": [
      "Matrix must be square\n"
     ]
    },
    {
     "ename": "UnboundLocalError",
     "evalue": "ignored",
     "output_type": "error",
     "traceback": [
      "\u001b[0;31m---------------------------------------------------------------------------\u001b[0m",
      "\u001b[0;31mUnboundLocalError\u001b[0m                         Traceback (most recent call last)",
      "\u001b[0;32m<ipython-input-8-a153b2747e40>\u001b[0m in \u001b[0;36m<module>\u001b[0;34m\u001b[0m\n\u001b[1;32m      1\u001b[0m \u001b[0;31m# Probando con matriz no cuadrada\u001b[0m\u001b[0;34m\u001b[0m\u001b[0;34m\u001b[0m\u001b[0;34m\u001b[0m\u001b[0m\n\u001b[1;32m      2\u001b[0m \u001b[0mC\u001b[0m \u001b[0;34m=\u001b[0m \u001b[0mnp\u001b[0m\u001b[0;34m.\u001b[0m\u001b[0marray\u001b[0m\u001b[0;34m(\u001b[0m\u001b[0;34m[\u001b[0m\u001b[0;34m[\u001b[0m\u001b[0;36m1\u001b[0m\u001b[0;34m,\u001b[0m\u001b[0;36m2\u001b[0m\u001b[0;34m,\u001b[0m\u001b[0;36m3\u001b[0m\u001b[0;34m]\u001b[0m\u001b[0;34m,\u001b[0m\u001b[0;34m[\u001b[0m\u001b[0;36m2\u001b[0m\u001b[0;34m,\u001b[0m\u001b[0;36m0\u001b[0m\u001b[0;34m,\u001b[0m\u001b[0;36m1\u001b[0m\u001b[0;34m]\u001b[0m\u001b[0;34m]\u001b[0m\u001b[0;34m)\u001b[0m\u001b[0;34m\u001b[0m\u001b[0;34m\u001b[0m\u001b[0m\n\u001b[0;32m----> 3\u001b[0;31m \u001b[0me_A1\u001b[0m \u001b[0;34m=\u001b[0m \u001b[0mmatrix_exp\u001b[0m\u001b[0;34m(\u001b[0m\u001b[0mC\u001b[0m\u001b[0;34m)\u001b[0m\u001b[0;34m\u001b[0m\u001b[0;34m\u001b[0m\u001b[0m\n\u001b[0m",
      "\u001b[0;32m<ipython-input-6-a059e29aaeef>\u001b[0m in \u001b[0;36mmatrix_exp\u001b[0;34m(A)\u001b[0m\n\u001b[1;32m     20\u001b[0m     \u001b[0me_expA\u001b[0m \u001b[0;34m=\u001b[0m \u001b[0mP\u001b[0m\u001b[0;34m@\u001b[0m\u001b[0me\u001b[0m\u001b[0;34m@\u001b[0m\u001b[0mP_inv\u001b[0m\u001b[0;34m\u001b[0m\u001b[0;34m\u001b[0m\u001b[0m\n\u001b[1;32m     21\u001b[0m \u001b[0;34m\u001b[0m\u001b[0m\n\u001b[0;32m---> 22\u001b[0;31m   \u001b[0;32mreturn\u001b[0m \u001b[0me_expA\u001b[0m\u001b[0;34m\u001b[0m\u001b[0;34m\u001b[0m\u001b[0m\n\u001b[0m",
      "\u001b[0;31mUnboundLocalError\u001b[0m: local variable 'e_expA' referenced before assignment"
     ]
    }
   ],
   "source": [
    "# Probando con matriz no cuadrada\n",
    "C = np.array([[1,2,3],[2,0,1]])\n",
    "e_A1 = matrix_exp(C)"
   ]
  },
  {
   "cell_type": "markdown",
   "id": "0a953839",
   "metadata": {
    "id": "0a953839"
   },
   "source": [
    "## Ejercicio 2."
   ]
  },
  {
   "cell_type": "markdown",
   "id": "c07fe99d",
   "metadata": {
    "id": "c07fe99d"
   },
   "source": [
    "Usando las leyes de circuito de Kirchhoff, es posible resolver el siguiente sistema:\n",
    "\n",
    "![](https://raw.githubusercontent.com/sbustamante/ComputationalMethods/master/material/figures/circuit.png)\n",
    "\n",
    "obteniendo las siguientes ecuaciones A,B,C: \n",
    "\n",
    "\\begin{align}\n",
    "A:&&I_A( R+4R ) - I_B( 4R ) =& E \\\\\n",
    "C:&&-I_A( 4R ) + I_B( 4R + 3R ) - I_C(3R) =& 0 \\\\\n",
    "B:&&-I_B( 3R ) + I_C(3R+2R) =& -2E\\,\n",
    "\\end{align}"
   ]
  },
  {
   "cell_type": "markdown",
   "id": "47850497",
   "metadata": {
    "id": "47850497"
   },
   "source": [
    "Encontre: $I_A, I_B, I_C$ usando: \n",
    "\n",
    "a) `scipy.linalg.solve`  \n",
    "b) `scipy.linalg.inv(A)`  \n",
    "c) `scipy.linalg.lu(A)`\n",
    "\n",
    "*podemos substituir: $x_n=\\frac{R I_n}{E}$ (n=A,B,C)"
   ]
  },
  {
   "cell_type": "code",
   "execution_count": 9,
   "id": "9DSnlRDljpZP",
   "metadata": {
    "id": "9DSnlRDljpZP"
   },
   "outputs": [],
   "source": [
    "import scipy.linalg"
   ]
  },
  {
   "cell_type": "code",
   "execution_count": 10,
   "id": "db41eef5",
   "metadata": {
    "colab": {
     "base_uri": "https://localhost:8080/"
    },
    "id": "db41eef5",
    "outputId": "44ac3413-1f26-4a91-ff4c-700d9c985c74"
   },
   "outputs": [
    {
     "name": "stdout",
     "output_type": "stream",
     "text": [
      "M \n",
      " [[ 5 -4  0]\n",
      " [-4  7 -3]\n",
      " [ 0 -3  5]]\n",
      "\n",
      "M aumentada \n",
      " [[ 5 -4  0  1]\n",
      " [-4  7 -3  0]\n",
      " [ 0 -3  5 -2]]\n",
      "\n",
      "b \n",
      " [[ 1]\n",
      " [ 0]\n",
      " [-2]]\n"
     ]
    }
   ],
   "source": [
    "# Luego de sustituir se llega al siguiente sistema de ecuaciones en forma matricial\n",
    "\n",
    "M = np.array([[5,-4,0],[-4,7,-3],[0,-3,5]])\n",
    "M_aumentada = np.array([[5,-4,0,1],[-4,7,-3,0],[0,-3,5,-2]])\n",
    "b = np.array([[1],[0],[-2]])\n",
    "print('M \\n',M)\n",
    "print()\n",
    "print('M aumentada \\n',M_aumentada)\n",
    "print()\n",
    "print('b \\n',b)\n"
   ]
  },
  {
   "cell_type": "code",
   "execution_count": 11,
   "id": "5_m70Pycjt1_",
   "metadata": {
    "colab": {
     "base_uri": "https://localhost:8080/"
    },
    "id": "5_m70Pycjt1_",
    "outputId": "4eaeb7f5-0953-4fc8-ab87-fb8a6ab52c3c"
   },
   "outputs": [
    {
     "name": "stdout",
     "output_type": "stream",
     "text": [
      "Sol1 \n",
      " [[ 0.04]\n",
      " [-0.2 ]\n",
      " [-0.52]]\n"
     ]
    }
   ],
   "source": [
    "Sol1 = np.linalg.solve(M,b)\n",
    "print('Sol1 \\n',Sol1)"
   ]
  },
  {
   "cell_type": "code",
   "execution_count": 12,
   "id": "iwRUVm8GkQP2",
   "metadata": {
    "colab": {
     "base_uri": "https://localhost:8080/"
    },
    "id": "iwRUVm8GkQP2",
    "outputId": "72d2e4e1-503f-4c11-c1fc-f0a7f955a2e9"
   },
   "outputs": [
    {
     "name": "stdout",
     "output_type": "stream",
     "text": [
      "Inversa de M \n",
      " [[0.52 0.4  0.24]\n",
      " [0.4  0.5  0.3 ]\n",
      " [0.24 0.3  0.38]]\n",
      "\n",
      "Sol2 \n",
      " [[ 0.04]\n",
      " [-0.2 ]\n",
      " [-0.52]]\n"
     ]
    }
   ],
   "source": [
    "inv_M = np.linalg.inv(M)\n",
    "print('Inversa de M \\n',inv_M)\n",
    "Sol2 = inv_M@b\n",
    "print()\n",
    "print('Sol2 \\n',Sol2)"
   ]
  },
  {
   "cell_type": "code",
   "execution_count": null,
   "id": "7a57636f",
   "metadata": {},
   "outputs": [],
   "source": []
  },
  {
   "cell_type": "markdown",
   "id": "dee09f44",
   "metadata": {},
   "source": [
    "# Feedback:\n",
    "```\n",
    "\n",
    "    Exercise 1.\n",
    "    Solution + presentation of the results\t            (max 5.0p):\t5.0p\n",
    "- error esta aqui: D=np.diag(evalues)\n",
    "    Exercise 2.\n",
    "    Solution + presentation of the results\t            (max 5.0p):\t4.0p\n",
    "\n",
    "\n",
    "    - Total:                                              (max 10.0p):   9.0p\n",
    "```"
   ]
  },
  {
   "cell_type": "code",
   "execution_count": null,
   "id": "15c8e7a9",
   "metadata": {},
   "outputs": [],
   "source": []
  }
 ],
 "metadata": {
  "colab": {
   "collapsed_sections": [],
   "provenance": []
  },
  "kernelspec": {
   "display_name": "Python 3",
   "language": "python",
   "name": "python3"
  },
  "language_info": {
   "codemirror_mode": {
    "name": "ipython",
    "version": 3
   },
   "file_extension": ".py",
   "mimetype": "text/x-python",
   "name": "python",
   "nbconvert_exporter": "python",
   "pygments_lexer": "ipython3",
   "version": "3.7.2"
  }
 },
 "nbformat": 4,
 "nbformat_minor": 5
}
