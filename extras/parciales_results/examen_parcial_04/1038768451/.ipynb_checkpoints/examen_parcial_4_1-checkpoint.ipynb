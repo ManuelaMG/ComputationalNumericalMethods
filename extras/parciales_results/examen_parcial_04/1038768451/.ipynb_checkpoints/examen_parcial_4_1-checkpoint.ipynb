{
 "cells": [
  {
   "cell_type": "markdown",
   "id": "impossible-command",
   "metadata": {
    "id": "impossible-command"
   },
   "source": [
    "# Examen parcial 4  $\\color{red}{\\text{(10p max)}}$ (Equaciones diferenciales)\n",
    "* Antes de enviar el archivo, $\\textbf{reiniciar y ejecutar el kernel}$ y ver que el archivo se compila sin errores\n",
    "* enviar el archivo jupyter sin anexos antes de las 10.20am del 30.09.2022 a mi dirección de correo electrónico: michal.hemmerling@udea.edu.co "
   ]
  },
  {
   "cell_type": "markdown",
   "id": "focused-michigan",
   "metadata": {
    "id": "focused-michigan"
   },
   "source": [
    "## Ejercicio 1. $\\color{red}{\\text{(3p)}}$ Equaciones diferenciales - problema de valor de limite (boundary value problem).\n",
    "\n",
    "Transporte de calor en un objeto puede ser escrito usando segunda orden equacion diferencial:\n",
    "$$\\frac{d^2T}{dx^2}=0.01T-0.2$$\n",
    "a) Usando `scipy.integrate.solve_bvp` resolver este equacion diferencial cumpliendo siguientes condiciones de limite:\n",
    "\n",
    "T(x=0)=40  \n",
    "T(x=10)=200\n",
    "\n",
    "b) Hace grafico de T(x) vs x (con etiquietas y legend) "
   ]
  },
  {
   "cell_type": "markdown",
   "id": "kXvknfwpikDE",
   "metadata": {
    "id": "kXvknfwpikDE"
   },
   "source": [
    "Reduciendo a primer orden tenemos:\n",
    "\n",
    "$$\\frac{dT}{dx}=z$$\n",
    "\n",
    "$$\\frac{dz}{dx}=0.01T-0.2$$\n",
    "\n"
   ]
  },
  {
   "cell_type": "code",
   "execution_count": 1,
   "id": "Ib8Yz9mwibsg",
   "metadata": {
    "id": "Ib8Yz9mwibsg"
   },
   "outputs": [],
   "source": [
    "import numpy as np\n",
    "import matplotlib.pyplot as plt\n",
    "from scipy.integrate import solve_bvp"
   ]
  },
  {
   "cell_type": "markdown",
   "id": "RoqvJtbRkzH0",
   "metadata": {
    "id": "RoqvJtbRkzH0"
   },
   "source": [
    "##a)"
   ]
  },
  {
   "cell_type": "code",
   "execution_count": 2,
   "id": "Y8P0v2SVi4sq",
   "metadata": {
    "id": "Y8P0v2SVi4sq"
   },
   "outputs": [],
   "source": [
    "# Condiciones de frontera\n",
    "T1 = 40\n",
    "T2 = 200\n",
    "x1 = 0\n",
    "x2 = 10\n",
    "\n",
    "x = np.linspace(x1,x2,101)"
   ]
  },
  {
   "cell_type": "code",
   "execution_count": 3,
   "id": "XD5THY8ni8ma",
   "metadata": {
    "id": "XD5THY8ni8ma"
   },
   "outputs": [],
   "source": [
    "def derivadas(x,y):\n",
    "  return np.vstack((y[1],np.full_like(x,0.01*y[1]-0.2))) # Esto nos devuelve las dos ecuaciones diferenciales\n",
    "\n",
    "def bc(ya,yb):\n",
    "  return np.array([ya[0]-T1,yb[0]-T2]) # Matriz de residuales"
   ]
  },
  {
   "cell_type": "code",
   "execution_count": 4,
   "id": "2842PfEHjAwo",
   "metadata": {
    "id": "2842PfEHjAwo"
   },
   "outputs": [],
   "source": [
    "y0 = np.zeros((2,x.size)) # Tamaño de matriz y"
   ]
  },
  {
   "cell_type": "code",
   "execution_count": 5,
   "id": "b0a43uoEjEd9",
   "metadata": {
    "id": "b0a43uoEjEd9"
   },
   "outputs": [],
   "source": [
    "solucion = solve_bvp(derivadas,bc,x,y0)"
   ]
  },
  {
   "cell_type": "code",
   "execution_count": 6,
   "id": "8BgGyYSvjFXo",
   "metadata": {
    "colab": {
     "base_uri": "https://localhost:8080/"
    },
    "id": "8BgGyYSvjFXo",
    "outputId": "856c6726-cacd-453b-88e7-5b65d295a1ee"
   },
   "outputs": [
    {
     "name": "stdout",
     "output_type": "stream",
     "text": [
      "T(x) \n",
      " [ 40.          41.61947649  43.23857227  44.85728696  46.47562017\n",
      "  48.09357152  49.71114063  51.32832712  52.94513061  54.5615507\n",
      "  56.17758703  57.7932392   59.40850682  61.02338953  62.63788692\n",
      "  64.25199862  65.86572424  67.47906339  69.09201568  70.70458074\n",
      "  72.31675816  73.92854757  75.53994857  77.15096078  78.76158381\n",
      "  80.37181727  81.98166076  83.5911139   85.2001763   86.80884757\n",
      "  88.41712732  90.02501514  91.63251066  93.23961348  94.8463232\n",
      "  96.45263944  98.05856179  99.66408988 101.26922329 102.87396164\n",
      " 104.47830453 106.08225156 107.68580234 109.28895648 110.89171357\n",
      " 112.49407322 114.09603503 115.6975986  117.29876353 118.89952944\n",
      " 120.4998959  122.09986254 123.69942894 125.29859471 126.89735944\n",
      " 128.49572274 130.0936842  131.69124341 133.28839999 134.88515352\n",
      " 136.48150361 138.07744984 139.67299182 141.26812913 142.86286138\n",
      " 144.45718816 146.05110907 147.64462369 149.23773162 150.83043246\n",
      " 152.42272579 154.01461122 155.60608832 157.1971567  158.78781594\n",
      " 160.37806564 161.96790538 163.55733476 165.14635336 166.73496077\n",
      " 168.32315658 169.91094039 171.49831177 173.08527031 174.67181561\n",
      " 176.25794725 177.84366481 179.42896788 181.01385605 182.5983289\n",
      " 184.18238601 185.76602697 187.34925137 188.93205878 190.51444879\n",
      " 192.09642098 193.67797493 195.25911023 196.83982645 198.42012318\n",
      " 200.        ]\n"
     ]
    }
   ],
   "source": [
    "T = solucion.y[0]\n",
    "dTdx = solucion.y[1]\n",
    "x = solucion.x\n",
    "print('T(x) \\n',T)"
   ]
  },
  {
   "cell_type": "markdown",
   "id": "sedpf5Ndl9hd",
   "metadata": {
    "id": "sedpf5Ndl9hd"
   },
   "source": [
    "##b)"
   ]
  },
  {
   "cell_type": "code",
   "execution_count": 7,
   "id": "IE_Rm5ypjMuq",
   "metadata": {
    "colab": {
     "base_uri": "https://localhost:8080/",
     "height": 421
    },
    "id": "IE_Rm5ypjMuq",
    "outputId": "c6ad6aad-1024-49fd-caa9-5050e21c66c2"
   },
   "outputs": [
    {
     "data": {
      "text/plain": [
       "Text(0.5, 1.0, 'Temperatura vs x')"
      ]
     },
     "execution_count": 7,
     "metadata": {},
     "output_type": "execute_result"
    },
    {
     "data": {
      "image/png": "[encoded data removed]",
      "text/plain": [
       "<Figure size 576x432 with 1 Axes>"
      ]
     },
     "metadata": {
      "needs_background": "light"
     },
     "output_type": "display_data"
    }
   ],
   "source": [
    "fig,ax=plt.subplots(1,1,figsize=(8,6))\n",
    "ax.plot(x,T,'-r',label='Incremento de la temperatura')\n",
    "ax.legend()\n",
    "ax.grid('True')\n",
    "ax.set_xlabel('x')\n",
    "ax.set_ylabel('Temperatura')\n",
    "ax.set_title('Temperatura vs x')"
   ]
  },
  {
   "cell_type": "markdown",
   "id": "eQTnWuVnl6_-",
   "metadata": {
    "id": "eQTnWuVnl6_-"
   },
   "source": [
    "\n",
    "\n",
    "---\n",
    "\n",
    "\n",
    "\n",
    "---\n",
    "\n"
   ]
  },
  {
   "cell_type": "markdown",
   "id": "sized-liberty",
   "metadata": {
    "id": "sized-liberty"
   },
   "source": [
    "## Ejercicio 2.  $\\color{red}{\\text{(4p)}}$ Ecuaciones diferenciales - problema de valor inicial (initial value problem).\n",
    "\n",
    "La ley de Newton del enfriamiento tiene forma de ecuación diferencial\n",
    "\n",
    "$$\\frac{dy}{dt}=k(y-T_{amb}) $$\n",
    "\n",
    "\n",
    "donde:\n",
    "* y es la temperatura actual de un objeto\n",
    "* t es tiempo\n",
    "* k es un valor constante de enfriamiento\n",
    "* $T_{amb}$ es la temperatura del ambiente\n",
    "\n",
    "Digamos que una taza de café tiene una temperatura inicial de 90 centígrados y la temperatura ambiente es de 25 centígrados.\n",
    "\n",
    "a) usando `scipy.integrate.solve_ivp` resolver ecuación diferencial:\n",
    "\n",
    "* para el rango t: t=[0:60], [minutos] (use 100 puntos)\n",
    "* asumir k=-0.06\n",
    "\n",
    "b) Hace grafico de $y(t)$ vs $t$ (con leyenda)\n",
    "* si le gusta tomar café cuando está a más de 70 grados, ¿cuál es el tiempo máximo que puede esperar antes de beber el café (puede obtener índices usando `np.argwhere` para obtener un rango de temperatura más preciso)"
   ]
  },
  {
   "cell_type": "code",
   "execution_count": 8,
   "id": "xFPVhIkGmC2B",
   "metadata": {
    "id": "xFPVhIkGmC2B"
   },
   "outputs": [],
   "source": [
    "from scipy.integrate import solve_ivp"
   ]
  },
  {
   "cell_type": "markdown",
   "id": "ipNeHe-bmj_X",
   "metadata": {
    "id": "ipNeHe-bmj_X"
   },
   "source": [
    "##a)"
   ]
  },
  {
   "cell_type": "code",
   "execution_count": 9,
   "id": "F76DGgjlmVeV",
   "metadata": {
    "id": "F76DGgjlmVeV"
   },
   "outputs": [],
   "source": [
    "def ecuacion(t,y,k,Ta):\n",
    "  return k*(y-Ta) # Miembro derecho de la ecuación"
   ]
  },
  {
   "cell_type": "code",
   "execution_count": 10,
   "id": "rCMoXFMSmaG5",
   "metadata": {
    "id": "rCMoXFMSmaG5"
   },
   "outputs": [],
   "source": [
    "# Valores de entrada\n",
    "t_span = (0.0,60.0)\n",
    "t_eval = np.linspace(0.0,60.0,101)\n",
    "y0 = [90.0]"
   ]
  },
  {
   "cell_type": "code",
   "execution_count": 11,
   "id": "pr0qZgkOmdDh",
   "metadata": {
    "id": "pr0qZgkOmdDh"
   },
   "outputs": [],
   "source": [
    "# Datos del problema\n",
    "k = -0.06\n",
    "Ta = 25.0"
   ]
  },
  {
   "cell_type": "code",
   "execution_count": 12,
   "id": "u9Ymp2bpmf5S",
   "metadata": {
    "colab": {
     "base_uri": "https://localhost:8080/"
    },
    "id": "u9Ymp2bpmf5S",
    "outputId": "207ca0af-34f1-4c7e-ede2-9d05e4226644"
   },
   "outputs": [
    {
     "name": "stdout",
     "output_type": "stream",
     "text": [
      "y(t) \n",
      " [90.         87.70161882 85.48450788 83.34579376 81.28232832 79.28994421\n",
      " 77.36641287 75.50977149 73.71808033 71.98942264 70.32190473 68.71365594\n",
      " 67.16282863 65.6675982  64.22616308 62.83674473 61.49758765 60.20695935\n",
      " 58.96315041 57.7644744  56.60926795 55.49589071 54.42272537 53.38817764\n",
      " 52.39067627 51.42867305 50.50064278 49.60508331 48.74051551 47.9054833\n",
      " 47.09855361 46.31831641 45.56420134 44.83618917 44.13351773 43.4554338\n",
      " 42.80119474 42.17006844 41.56133338 40.9742786  40.40820367 39.86241876\n",
      " 39.33624458 38.82901241 38.34006408 37.86875199 37.4144391  36.97649893\n",
      " 36.55431556 36.14728363 35.75480835 35.37630548 35.01120134 34.65893283\n",
      " 34.31894739 33.99070304 33.67366833 33.36732241 33.07130186 32.78543536\n",
      " 32.50944306 32.24304726 31.98597322 31.73794909 31.49870602 31.26797803\n",
      " 31.04550213 30.83101823 30.6242692  30.42500084 30.23296189 30.047904\n",
      " 29.8695818  29.69775282 29.53217755 29.3726194  29.21884474 29.07062284\n",
      " 28.92772595 28.78992921 28.65701074 28.52875156 28.40493566 28.28534995\n",
      " 28.16978426 28.05803139 27.94993948 27.84562012 27.74498467 27.64790707\n",
      " 27.55426457 27.46393767 27.3768102  27.29276922 27.21170513 27.13351159\n",
      " 27.05808553 26.98532721 26.91514013 26.84743109 26.7821102 ]\n"
     ]
    }
   ],
   "source": [
    "solucion = solve_ivp(ecuacion,t_span,y0,t_eval=t_eval,args=(k,Ta))\n",
    "tsol = solucion.t\n",
    "ysol = solucion.y[0]\n",
    "print('y(t) \\n',ysol)"
   ]
  },
  {
   "cell_type": "markdown",
   "id": "GQJJWBfqnsTM",
   "metadata": {
    "id": "GQJJWBfqnsTM"
   },
   "source": [
    "##b)"
   ]
  },
  {
   "cell_type": "code",
   "execution_count": 13,
   "id": "vnPiAzjanuh2",
   "metadata": {
    "colab": {
     "base_uri": "https://localhost:8080/",
     "height": 421
    },
    "id": "vnPiAzjanuh2",
    "outputId": "521de3ca-1151-47cb-9c93-43c5c2a2cbe0"
   },
   "outputs": [
    {
     "data": {
      "text/plain": [
       "Text(0.5, 1.0, 'Ley de enfriamiento de Newton')"
      ]
     },
     "execution_count": 13,
     "metadata": {},
     "output_type": "execute_result"
    },
    {
     "data": {
      "image/png": "[encoded data removed]",
      "text/plain": [
       "<Figure size 576x432 with 1 Axes>"
      ]
     },
     "metadata": {
      "needs_background": "light"
     },
     "output_type": "display_data"
    }
   ],
   "source": [
    "fig,ax=plt.subplots(1,1,figsize=(8,6))\n",
    "ax.plot(tsol,ysol,color='green',label='Decaimiento de la temperatura')\n",
    "ax.grid('True')\n",
    "ax.set_xlabel('Tiempo')\n",
    "ax.set_ylabel('Temperatura')\n",
    "ax.legend()\n",
    "plt.title('Ley de enfriamiento de Newton')"
   ]
  },
  {
   "cell_type": "code",
   "execution_count": 14,
   "id": "ThPn9evioMfV",
   "metadata": {
    "colab": {
     "base_uri": "https://localhost:8080/"
    },
    "id": "ThPn9evioMfV",
    "outputId": "a7a78ce9-8e83-4bd0-ea80-35c60efb9562"
   },
   "outputs": [
    {
     "name": "stdout",
     "output_type": "stream",
     "text": [
      "\n",
      "Puede beber el café a más de 70 grados hasta t =  6.0 minutos\n"
     ]
    }
   ],
   "source": [
    "index = np.argwhere(ysol>70) # Devuelve los índices para los cuales T es mayor que 70 grados\n",
    "index\n",
    "print()\n",
    "print('Puede beber el café a más de 70 grados hasta t = ',tsol[10],'minutos')"
   ]
  },
  {
   "cell_type": "markdown",
   "id": "growing-acceptance",
   "metadata": {
    "id": "growing-acceptance"
   },
   "source": [
    "## Ejercicio 3.  $\\color{red}{\\text{(3p)}}$ Equaciones diferenciales - problema de valor de limite (boundary value problem).\n",
    "\n",
    "Los organizadores de un espectáculo de fuegos artificiales quieren que los fuegos exploten a 40 metros sobre el suelo 5 segundos después del lanzamiento. Encuentra la velocidad inicial del cohete. \n",
    "\n",
    "a) usar ecuacion diferencial segunda orden:\n",
    "\n",
    "$$\\frac{d^2y}{dt^2}= −g $$\n",
    "\n",
    "donde $y$ es altitud de cohete y,   \n",
    "\n",
    "b) hacer plot $y(t)$ vs $t$\n"
   ]
  },
  {
   "cell_type": "markdown",
   "id": "jpWNON3_ovoo",
   "metadata": {
    "id": "jpWNON3_ovoo"
   },
   "source": [
    "Reducimos la EDO a primer orden:\n",
    "\n",
    "$$\\frac{dy}{dt}=v$$\n",
    ".\n",
    "$$\\frac{dv}{dt}=-g$$\n",
    "\n",
    "Tenemos las siguientes conddiciones de frontera:\n",
    "\n",
    "$$y(0)=0;y(5)=40$$"
   ]
  },
  {
   "cell_type": "markdown",
   "id": "B_sVWjv1o-nV",
   "metadata": {
    "id": "B_sVWjv1o-nV"
   },
   "source": [
    "##a)"
   ]
  },
  {
   "cell_type": "code",
   "execution_count": 15,
   "id": "m4U1CU8Eo9xb",
   "metadata": {
    "id": "m4U1CU8Eo9xb"
   },
   "outputs": [],
   "source": [
    "# Condiciones de frontera\n",
    "g = -9.81\n",
    "y1 = 0\n",
    "y2 = 40\n",
    "\n",
    "L = 5\n",
    "puntos = 101\n",
    "\n",
    "t = np.linspace(0,L,puntos)"
   ]
  },
  {
   "cell_type": "code",
   "execution_count": 16,
   "id": "sESjkJKupDpW",
   "metadata": {
    "id": "sESjkJKupDpW"
   },
   "outputs": [],
   "source": [
    "def odes(t,y):\n",
    "  return np.vstack((y[1],np.full_like(t,g))) # Devuelve los miembros derechos e las odes\n",
    "\n",
    "def bc(ya,yb):\n",
    "  return np.array([ya[0]-y1,yb[0]-y2]) # Matriz de residuales"
   ]
  },
  {
   "cell_type": "code",
   "execution_count": 17,
   "id": "jRr2xACCpG64",
   "metadata": {
    "id": "jRr2xACCpG64"
   },
   "outputs": [],
   "source": [
    "y0 = np.zeros((2,t.size)) # Tamaño de y"
   ]
  },
  {
   "cell_type": "code",
   "execution_count": 18,
   "id": "gZQGzzWzpJZg",
   "metadata": {
    "id": "gZQGzzWzpJZg"
   },
   "outputs": [],
   "source": [
    "sol = solve_bvp(odes,bc,t,y0)"
   ]
  },
  {
   "cell_type": "code",
   "execution_count": 19,
   "id": "7MpCYL0SpMZZ",
   "metadata": {
    "colab": {
     "base_uri": "https://localhost:8080/"
    },
    "id": "7MpCYL0SpMZZ",
    "outputId": "98d8e24c-693a-43d7-cbbd-7bc49c97427c"
   },
   "outputs": [
    {
     "name": "stdout",
     "output_type": "stream",
     "text": [
      "La velocidaad de lanzamiento es: 32.52499999999999  m/s\n"
     ]
    }
   ],
   "source": [
    "y = sol.y[0]\n",
    "dydt = sol.y[1]\n",
    "print('La velocidaad de lanzamiento es:',dydt[0],' m/s')"
   ]
  },
  {
   "cell_type": "markdown",
   "id": "gfyaK2tvsJ0p",
   "metadata": {
    "id": "gfyaK2tvsJ0p"
   },
   "source": [
    "##b)"
   ]
  },
  {
   "cell_type": "code",
   "execution_count": 20,
   "id": "0Bi15WG-sLsV",
   "metadata": {
    "colab": {
     "base_uri": "https://localhost:8080/",
     "height": 421
    },
    "id": "0Bi15WG-sLsV",
    "outputId": "1e19ab80-34eb-4b9e-9fd7-133ea6238912"
   },
   "outputs": [
    {
     "data": {
      "text/plain": [
       "Text(0.5, 1.0, 'Lanzamiento de un cohete')"
      ]
     },
     "execution_count": 20,
     "metadata": {},
     "output_type": "execute_result"
    },
    {
     "data": {
      "image/png": "[encoded data removed]",
      "text/plain": [
       "<Figure size 576x432 with 1 Axes>"
      ]
     },
     "metadata": {
      "needs_background": "light"
     },
     "output_type": "display_data"
    }
   ],
   "source": [
    "fig,ax=plt.subplots(1,1,figsize=(8,6))\n",
    "ax.plot(sol.x,y,color='black',label='Posicion vs tiempo')\n",
    "ax.grid('True')\n",
    "ax.legend()\n",
    "ax.set_xlabel('Tiempo')\n",
    "ax.set_ylabel('Posición')\n",
    "ax.set_title('Lanzamiento de un cohete')"
   ]
  },
  {
   "cell_type": "markdown",
   "id": "insured-suspect",
   "metadata": {
    "id": "insured-suspect"
   },
   "source": [
    "## Ejercicio 4 Ecuaciones diferenciales acopladas - problema de valor inicial `scipy.integrate.solve_ivp` $\\color{red}{\\text{(10p)}}$ o `otros metodos`  $\\color{red}{\\text{(7p)}}$\n",
    "\n",
    "Las ecuaciones de Lotka-Volterra, también conocidas como ecuaciones depredador-presa, son un par de ecuaciones de primer orden, no lineales, ecuaciones diferenciales utilizadas con frecuencia para describir la dinámica de los sistemas biológicos en los que interactúan dos especies, uno como depredador y el otro como presa. Las poblaciones cambian a través del tiempo de acuerdo con el par de ecuaciones. "
   ]
  },
  {
   "cell_type": "markdown",
   "id": "interesting-luxury",
   "metadata": {
    "id": "interesting-luxury"
   },
   "source": [
    "$$\\frac{dx}{dt}=x(\\color{red}{\\alpha}-\\color{red}{\\beta} y)$$\n",
    "$$\\frac{dy}{dt}=-y(\\color{red}{\\gamma}-\\color{red}{\\delta} x)$$"
   ]
  },
  {
   "cell_type": "markdown",
   "id": "compliant-potato",
   "metadata": {
    "id": "compliant-potato"
   },
   "source": [
    "Esa ecuación describiría la evolución de la población de conejos y zorros (condiciones perfectas)\n",
    "\n",
    "* x - numbero de conejos  \n",
    "* y - numbero de zorros\n",
    "\n",
    "* $\\color{red}{\\alpha, \\beta, \\gamma, \\delta }$ son parámetros que describen la interacción de las dos especies\n",
    "\n",
    "* $\\frac{dx}{dt}, \\frac{dy}{dt}$ representan las tasas de crecimiento de las dos poblaciones a lo largo del tiempo\n",
    "\n",
    "* $t$ es tiempo"
   ]
  },
  {
   "cell_type": "markdown",
   "id": "auburn-charlotte",
   "metadata": {
    "id": "auburn-charlotte"
   },
   "source": [
    "![](https://raw.githubusercontent.com/mhemmg/ComputationalNumericalMethods/master/extras/additional_materials/examen_parcial_IV/rabbits_foxes.png)"
   ]
  },
  {
   "cell_type": "markdown",
   "id": "wrapped-edmonton",
   "metadata": {
    "id": "wrapped-edmonton"
   },
   "source": [
    "a) solucionar los ecuaciones diferenciales usando `scipy.integrate.solve_ivp` o `scipy.integrate.odeint`\n",
    "asumir: \n",
    "* $\\alpha, \\beta, \\gamma, \\delta = 1$\n",
    "* $x_{ini}=4$\n",
    "* $y_{ini}=2$\n",
    "* $t=0:30$ (unidades arbitrarias, asumir meses)\n",
    "\n",
    "b) hacer plot $x$ vs. $t$ , $y$ vs. $t$   \n",
    "c) hacer plot $x vs y$  \n",
    "d) comentar sobre los dos plots  "
   ]
  },
  {
   "cell_type": "markdown",
   "id": "faZ68vlzvZAh",
   "metadata": {
    "id": "faZ68vlzvZAh"
   },
   "source": [
    "##a)"
   ]
  },
  {
   "cell_type": "code",
   "execution_count": 21,
   "id": "xAaeDXsEtyy8",
   "metadata": {
    "id": "xAaeDXsEtyy8"
   },
   "outputs": [],
   "source": [
    "def edos(t,ci,alfa,beta,gamma,delta):\n",
    "  x, y = ci[0], ci[1]  # Guarda las condiciones iniciales de cada variable\n",
    "\n",
    "  edo1 = x*(alfa - beta*y)\n",
    "  edo2 = -y*(gamma - delta*x)\n",
    "\n",
    "  return [edo1,edo2] # Devuelve los miembros derechos de las edos"
   ]
  },
  {
   "cell_type": "code",
   "execution_count": 22,
   "id": "S7gjq7Umt4-j",
   "metadata": {
    "id": "S7gjq7Umt4-j"
   },
   "outputs": [],
   "source": [
    "# Parámetros de entrada\n",
    "alfa = 1.0\n",
    "beta = 1.0\n",
    "gamma = 1.0\n",
    "delta = 1.0\n",
    "\n",
    "t_span = (0.0,30.0) # Tiempo en meses\n",
    "\n",
    "ci = [4.0,2.0] # Condiciones iniciales"
   ]
  },
  {
   "cell_type": "code",
   "execution_count": 23,
   "id": "2Xikcqk7t8G8",
   "metadata": {
    "id": "2Xikcqk7t8G8"
   },
   "outputs": [],
   "source": [
    "sol = solve_ivp(edos,t_span,ci,args=(alfa,beta,gamma,delta))"
   ]
  },
  {
   "cell_type": "code",
   "execution_count": 24,
   "id": "EdQEqcR0t-Xz",
   "metadata": {
    "colab": {
     "base_uri": "https://localhost:8080/"
    },
    "id": "EdQEqcR0t-Xz",
    "outputId": "4e6e7e99-b85e-4cb1-e577-f19f1f37c5ff"
   },
   "outputs": [
    {
     "name": "stdout",
     "output_type": "stream",
     "text": [
      "x(t) \n",
      " [4.         3.65947802 1.3999562  0.3987012  0.16014209 0.08282845\n",
      " 0.05668028 0.06183896 0.11126911 0.25659437 0.82006631 2.00108068\n",
      " 3.60481599 4.03017575 2.16631169 0.77695455 0.28490895 0.1362371\n",
      " 0.07013991 0.05496179 0.06912184 0.13119563 0.32351989 1.03347299\n",
      " 2.36977609 4.41246039 4.24206032 3.38461732 1.30455916 0.41066988\n",
      " 0.16364526 0.08422794 0.0561345  0.06010597 0.10739854 0.24513434\n",
      " 0.76586293 1.91633885 3.49180017 4.17592317 2.17460303 0.69298452\n",
      " 0.25665253 0.12547475 0.0654147  0.05407843 0.07390761 0.1447706\n",
      " 0.19847608]\n",
      "\n",
      "y(t) \n",
      " [2.         2.45757678 4.32268186 4.01098382 3.08347612 2.13563554\n",
      " 1.2252281  0.61242764 0.24888565 0.10848616 0.05678329 0.07733965\n",
      " 0.25522327 2.0042439  3.91715989 4.39636964 3.7315092  2.88800495\n",
      " 1.84311964 1.06454864 0.47917815 0.20411666 0.08949716 0.05519526\n",
      " 0.09532122 0.86081857 1.63065783 2.80454488 4.3808247  4.05281819\n",
      " 3.13101103 2.1903841  1.24995901 0.63344154 0.25486531 0.11100687\n",
      " 0.05678548 0.07282267 0.22509408 1.8015867  3.92993064 4.37444867\n",
      " 3.64605987 2.79860901 1.7253355  0.98912375 0.41844993 0.1808743\n",
      " 0.13265792]\n"
     ]
    }
   ],
   "source": [
    "print('x(t) \\n',sol.y[0])\n",
    "print()\n",
    "print('y(t) \\n',sol.y[1])"
   ]
  },
  {
   "cell_type": "markdown",
   "id": "6m8Hf3lyvepf",
   "metadata": {
    "id": "6m8Hf3lyvepf"
   },
   "source": [
    "##b)"
   ]
  },
  {
   "cell_type": "code",
   "execution_count": 25,
   "id": "B0tNcScyvgZ_",
   "metadata": {
    "colab": {
     "base_uri": "https://localhost:8080/",
     "height": 405
    },
    "id": "B0tNcScyvgZ_",
    "outputId": "b9b21a4e-7f47-499e-b265-59073612c42a"
   },
   "outputs": [
    {
     "data": {
      "text/plain": [
       "Text(0, 0.5, '# conejos/zorros')"
      ]
     },
     "execution_count": 25,
     "metadata": {},
     "output_type": "execute_result"
    },
    {
     "data": {
      "image/png": "[encoded data removed]",
      "text/plain": [
       "<Figure size 576x432 with 1 Axes>"
      ]
     },
     "metadata": {
      "needs_background": "light"
     },
     "output_type": "display_data"
    }
   ],
   "source": [
    "fig,ax=plt.subplots(1,1,figsize=(8,6))\n",
    "ax.plot(sol.t,sol.y[0],color='red',label='Población de conejos')\n",
    "ax.plot(sol.t,sol.y[1],color='green',label='Población de zorros')\n",
    "ax.grid('True')\n",
    "ax.legend()\n",
    "ax.set_xlabel('Tiempo [meses]')\n",
    "ax.set_ylabel('# conejos/zorros')"
   ]
  },
  {
   "cell_type": "markdown",
   "id": "4s9yZ8vpvt2X",
   "metadata": {
    "id": "4s9yZ8vpvt2X"
   },
   "source": [
    "##c)"
   ]
  },
  {
   "cell_type": "code",
   "execution_count": 26,
   "id": "ry0pEhATvveo",
   "metadata": {
    "colab": {
     "base_uri": "https://localhost:8080/",
     "height": 421
    },
    "id": "ry0pEhATvveo",
    "outputId": "165a191c-038c-433b-f4d1-ae41a4363f68"
   },
   "outputs": [
    {
     "data": {
      "text/plain": [
       "Text(0.5, 1.0, 'conejos vs zorros')"
      ]
     },
     "execution_count": 26,
     "metadata": {},
     "output_type": "execute_result"
    },
    {
     "data": {
      "image/png": "[encoded data removed]",
      "text/plain": [
       "<Figure size 576x432 with 1 Axes>"
      ]
     },
     "metadata": {
      "needs_background": "light"
     },
     "output_type": "display_data"
    }
   ],
   "source": [
    "fig,ax=plt.subplots(1,1,figsize=(8,6))\n",
    "ax.plot(sol.y[1],sol.y[0],color='magenta',label='Evolución de las poblaciones')\n",
    "ax.grid('True')\n",
    "ax.legend()\n",
    "ax.set_xlabel('# zorros')\n",
    "ax.set_ylabel('# conejos')\n",
    "ax.set_title('conejos vs zorros')"
   ]
  },
  {
   "cell_type": "markdown",
   "id": "9ORmy1GuwCQA",
   "metadata": {
    "id": "9ORmy1GuwCQA"
   },
   "source": [
    "##d)\n",
    "\n",
    "En el primer plot se puede observar que cuando el número de conejos es alto la población de zorros empieza a incrementar, debido a este incremento en el número de zorros los conejos alcanzan su pico de población y empiezan a disminuir, por consecuencia, el número de zorros tambien empieza a caer debido a que escasean las presas.\n",
    "\n",
    "En el segundo plot se observa que cuando hay pocos zorros el número de conejos aumenta muy rápido, debido a esto incrementa el número de zorros, pero cuando los conejos empiezan a ser depredados comienzan a disminuir (parte superior del gráfico), cuando las presas están casi extintas los zorros empiezan a morir y su población decrece (parte inferor del gráfico). Este comportamiento es cíclico, por ello la gráfica se repite varias veces a traves del tiempo."
   ]
  },
  {
   "cell_type": "code",
   "execution_count": null,
   "id": "38723da6",
   "metadata": {},
   "outputs": [],
   "source": []
  }
 ],
 "metadata": {
  "colab": {
   "collapsed_sections": [],
   "provenance": []
  },
  "kernelspec": {
   "display_name": "Python 3",
   "language": "python",
   "name": "python3"
  },
  "language_info": {
   "codemirror_mode": {
    "name": "ipython",
    "version": 3
   },
   "file_extension": ".py",
   "mimetype": "text/x-python",
   "name": "python",
   "nbconvert_exporter": "python",
   "pygments_lexer": "ipython3",
   "version": "3.7.2"
  }
 },
 "nbformat": 4,
 "nbformat_minor": 5
}
