{
 "cells": [
  {
   "cell_type": "markdown",
   "id": "LHLARdM_iFgs",
   "metadata": {
    "id": "LHLARdM_iFgs"
   },
   "source": [
    "##Manuela Montoya Gonzalez"
   ]
  },
  {
   "cell_type": "markdown",
   "id": "impossible-command",
   "metadata": {
    "id": "impossible-command"
   },
   "source": [
    "# Examen parcial 4  $\\color{red}{\\text{(10p max)}}$ (Equaciones diferenciales)\n",
    "* Antes de enviar el archivo, $\\textbf{reiniciar y ejecutar el kernel}$ y ver que el archivo se compila sin errores\n",
    "* enviar el archivo jupyter sin anexos antes de las 10.20am del 30.09.2022 a mi dirección de correo electrónico: michal.hemmerling@udea.edu.co "
   ]
  },
  {
   "cell_type": "markdown",
   "id": "focused-michigan",
   "metadata": {
    "id": "focused-michigan"
   },
   "source": [
    "## Ejercicio 1. $\\color{red}{\\text{(3p)}}$ Equaciones diferenciales - problema de valor de limite (boundary value problem).\n",
    "\n",
    "Transporte de calor en un objeto puede ser escrito usando segunda orden equacion diferencial:\n",
    "$$\\frac{d^2T}{dx^2}=0.01T-0.2$$\n",
    "a) Usando `scipy.integrate.solve_bvp` resolver este equacion diferencial cumpliendo siguientes condiciones de limite:\n",
    "\n",
    "T(x=0)=40  \n",
    "T(x=10)=200\n",
    "\n",
    "b) Hace grafico de T(x) vs x (con etiquietas y legend) "
   ]
  },
  {
   "cell_type": "code",
   "execution_count": null,
   "id": "pYmovdJiif7B",
   "metadata": {
    "colab": {
     "base_uri": "https://localhost:8080/",
     "height": 1000
    },
    "id": "pYmovdJiif7B",
    "outputId": "02f23fd4-bb0f-4807-cf06-dbbe9fdb20f5"
   },
   "outputs": [
    {
     "name": "stdout",
     "output_type": "stream",
     "text": [
      "<class 'scipy.integrate._bvp.BVPResult'>\n",
      "[ 0.   0.1  0.2  0.3  0.4  0.5  0.6  0.7  0.8  0.9  1.   1.1  1.2  1.3\n",
      "  1.4  1.5  1.6  1.7  1.8  1.9  2.   2.1  2.2  2.3  2.4  2.5  2.6  2.7\n",
      "  2.8  2.9  3.   3.1  3.2  3.3  3.4  3.5  3.6  3.7  3.8  3.9  4.   4.1\n",
      "  4.2  4.3  4.4  4.5  4.6  4.7  4.8  4.9  5.   5.1  5.2  5.3  5.4  5.5\n",
      "  5.6  5.7  5.8  5.9  6.   6.1  6.2  6.3  6.4  6.5  6.6  6.7  6.8  6.9\n",
      "  7.   7.1  7.2  7.3  7.4  7.5  7.6  7.7  7.8  7.9  8.   8.1  8.2  8.3\n",
      "  8.4  8.5  8.6  8.7  8.8  8.9  9.   9.1  9.2  9.3  9.4  9.5  9.6  9.7\n",
      "  9.8  9.9 10. ]\n",
      "[ 40.          41.61947649  43.23857227  44.85728696  46.47562017\n",
      "  48.09357152  49.71114063  51.32832712  52.94513061  54.5615507\n",
      "  56.17758703  57.7932392   59.40850682  61.02338953  62.63788692\n",
      "  64.25199862  65.86572424  67.47906339  69.09201568  70.70458074\n",
      "  72.31675816  73.92854757  75.53994857  77.15096078  78.76158381\n",
      "  80.37181727  81.98166076  83.5911139   85.2001763   86.80884757\n",
      "  88.41712732  90.02501514  91.63251066  93.23961348  94.8463232\n",
      "  96.45263944  98.05856179  99.66408988 101.26922329 102.87396164\n",
      " 104.47830453 106.08225156 107.68580234 109.28895648 110.89171357\n",
      " 112.49407322 114.09603503 115.6975986  117.29876353 118.89952944\n",
      " 120.4998959  122.09986254 123.69942894 125.29859471 126.89735944\n",
      " 128.49572274 130.0936842  131.69124341 133.28839999 134.88515352\n",
      " 136.48150361 138.07744984 139.67299182 141.26812913 142.86286138\n",
      " 144.45718816 146.05110907 147.64462369 149.23773162 150.83043246\n",
      " 152.42272579 154.01461122 155.60608832 157.1971567  158.78781594\n",
      " 160.37806564 161.96790538 163.55733476 165.14635336 166.73496077\n",
      " 168.32315658 169.91094039 171.49831177 173.08527031 174.67181561\n",
      " 176.25794725 177.84366481 179.42896788 181.01385605 182.5983289\n",
      " 184.18238601 185.76602697 187.34925137 188.93205878 190.51444879\n",
      " 192.09642098 193.67797493 195.25911023 196.83982645 198.42012318\n",
      " 200.        ]\n",
      "[16.19666724 16.192862   16.18905296 16.18524011 16.18142344 16.17760295\n",
      " 16.17377864 16.16995051 16.16611854 16.16228274 16.15844311 16.15459963\n",
      " 16.1507523  16.14690113 16.1430461  16.13918722 16.13532448 16.13145787\n",
      " 16.12758739 16.12371304 16.11983481 16.11595271 16.11206672 16.10817684\n",
      " 16.10428307 16.1003854  16.09648384 16.09257837 16.08866899 16.08475571\n",
      " 16.0808385  16.07691738 16.07299233 16.06906336 16.06513046 16.06119362\n",
      " 16.05725284 16.05330813 16.04935946 16.04540684 16.04145027 16.03748974\n",
      " 16.03352525 16.02955679 16.02558436 16.02160796 16.01762757 16.01364321\n",
      " 16.00965486 16.00566252 16.00166618 15.99766585 15.99366151 15.98965317\n",
      " 15.98564081 15.98162445 15.97760406 15.97357965 15.96955122 15.96551875\n",
      " 15.96148225 15.95744172 15.95339714 15.94934851 15.94529583 15.9412391\n",
      " 15.93717831 15.93311345 15.92904453 15.92497154 15.92089447 15.91681333\n",
      " 15.9127281  15.90863878 15.90454537 15.90044787 15.89634627 15.89224056\n",
      " 15.88813075 15.88401682 15.87989878 15.87577661 15.87165033 15.86751991\n",
      " 15.86338537 15.85924668 15.85510386 15.85095689 15.84680577 15.8426505\n",
      " 15.83849107 15.83432748 15.83015972 15.82598779 15.82181169 15.81763142\n",
      " 15.81344695 15.80925831 15.80506547 15.80086844 15.7966672 ]\n",
      "excelente,la integracion termino con exito\n",
      "The algorithm converged to the desired accuracy.\n"
     ]
    },
    {
     "data": {
      "text/plain": [
       "<matplotlib.legend.Legend at 0x7f146fb00850>"
      ]
     },
     "execution_count": 67,
     "metadata": {},
     "output_type": "execute_result"
    },
    {
     "data": {
      "image/png": "[encoded data removed]",
      "text/plain": [
       "<Figure size 432x288 with 1 Axes>"
      ]
     },
     "metadata": {
      "needs_background": "light"
     },
     "output_type": "display_data"
    }
   ],
   "source": [
    "from scipy.integrate import solve_bvp\n",
    "import numpy as np\n",
    "import matplotlib.pyplot as plt\n",
    "\n",
    "#Condiciones iniciales\n",
    "tinii = 40\n",
    "tfinn = 200\n",
    "xinii = 0\n",
    "xfinn = 10\n",
    "\n",
    "#Definimos la funcion\n",
    "def fun(x, y):\n",
    "  return np.vstack((y[1], np.full_like(x, 0.01*y[1] - 0.2)))\n",
    "\n",
    "def fun1(yini,yfin):\n",
    "  return np.array([yini[0] - tinii,yfin[0] - tfinn])\n",
    "\n",
    "x01 = np.linspace(xinii,xfinn,101)\n",
    "y01 = np.zeros((2,x01.size))\n",
    "\n",
    "solu = solve_bvp(fun,fun1,x01,y01)\n",
    "\n",
    "print(type(solu))\n",
    "print(solu.x)\n",
    "print(solu.y[0])\n",
    "print(solu.y[1])\n",
    "if solu.success == True:\n",
    "  print('excelente,la integracion termino con exito')\n",
    "\n",
    "#punto b) plot x vs t\n",
    "#Graficamos\n",
    "fig,ax = plt.subplots(1,1)\n",
    "print(solu.message)\n",
    "ax.plot(solu.x,solu.y[0],'--m',label = 'scipy.integrate.solve_ivp')\n",
    "ax.plot(solu.x,solu.y[1],'--b',label = 'scipy.integrate.solve_ivp')\n",
    "ax.set_xlabel('T')\n",
    "ax.set_ylabel('x')\n",
    "ax.legend()"
   ]
  },
  {
   "cell_type": "markdown",
   "id": "sized-liberty",
   "metadata": {
    "id": "sized-liberty"
   },
   "source": [
    "## Ejercicio 2.  $\\color{red}{\\text{(4p)}}$ Ecuaciones diferenciales - problema de valor inicial (initial value problem).\n",
    "\n",
    "La ley de Newton del enfriamiento tiene forma de ecuación diferencial\n",
    "\n",
    "$$\\frac{dy}{dt}=k(y-T_{amb}) $$\n",
    "\n",
    "\n",
    "donde:\n",
    "* y es la temperatura actual de un objeto\n",
    "* t es tiempo\n",
    "* k es un valor constante de enfriamiento\n",
    "* $T_{amb}$ es la temperatura del ambiente\n",
    "\n",
    "Digamos que una taza de café tiene una temperatura inicial de 90 centígrados y la temperatura ambiente es de 25 centígrados.\n",
    "\n",
    "a) usando `scipy.integrate.solve_ivp` resolver ecuación diferencial:\n",
    "\n",
    "* para el rango t: t=[0:60], [minutos] (use 100 puntos)\n",
    "* asumir k=-0.06\n",
    "\n",
    "b) Hace grafico de $y(t)$ vs $t$ (con leyenda)\n",
    "* si le gusta tomar café cuando está a más de 70 grados, ¿cuál es el tiempo máximo que puede esperar antes de beber el café (puede obtener índices usando `np.argwhere` para obtener un rango de temperatura más preciso)"
   ]
  },
  {
   "cell_type": "code",
   "execution_count": null,
   "id": "oA9RNaG0igZd",
   "metadata": {
    "colab": {
     "base_uri": "https://localhost:8080/",
     "height": 418
    },
    "id": "oA9RNaG0igZd",
    "outputId": "ae70e2b5-5808-4028-ecb1-c37acbaf1b2e"
   },
   "outputs": [
    {
     "name": "stdout",
     "output_type": "stream",
     "text": [
      "<class 'scipy.integrate._ivp.ivp.OdeResult'>\n",
      "[ 0.          0.1873426   2.06076861 18.62681167 34.24575906 51.285661\n",
      " 60.        ]\n",
      "[90.         89.27345489 82.44001316 46.28405153 33.34438301 28.00610608\n",
      " 26.7821102 ]\n",
      "excelente,la integracion termino con exito\n",
      "The solver successfully reached the end of the integration interval.\n"
     ]
    },
    {
     "data": {
      "text/plain": [
       "<matplotlib.legend.Legend at 0x7f146fa7a850>"
      ]
     },
     "execution_count": 68,
     "metadata": {},
     "output_type": "execute_result"
    },
    {
     "data": {
      "image/png": "[encoded data removed]",
      "text/plain": [
       "<Figure size 432x288 with 1 Axes>"
      ]
     },
     "metadata": {
      "needs_background": "light"
     },
     "output_type": "display_data"
    }
   ],
   "source": [
    "#Punto a)\n",
    "from scipy.integrate import solve_ivp\n",
    "import matplotlib.pyplot as plt\n",
    "import numpy as np\n",
    "\n",
    "#creamos nuestra funcion\n",
    "def newton(t,y):\n",
    "  return k*(y - T)\n",
    "\n",
    "#Definimos nuestras condiciones iniciales\n",
    "t_span = (0.0,60.0)\n",
    "y0 = [90.0]\n",
    "k = -0.06\n",
    "T = 25.0\n",
    "\n",
    "#solucionamos \n",
    "sol = solve_ivp(newton,t_span,y0)\n",
    "print(type(sol))\n",
    "print(sol.t)\n",
    "print(sol.y[0])\n",
    "if sol.success == True:\n",
    "  print('excelente,la integracion termino con exito')\n",
    "\n",
    "#Punto b)\n",
    "#Graficamos\n",
    "fig,ax = plt.subplots(1,1)\n",
    "print(sol.message)\n",
    "ax.plot(sol.t,sol.y[0],'--m',label = 'scipy.integrate.solve_ivp')\n",
    "ax.set_xlabel('t')\n",
    "ax.set_ylabel('y')\n",
    "ax.legend()"
   ]
  },
  {
   "cell_type": "markdown",
   "id": "growing-acceptance",
   "metadata": {
    "id": "growing-acceptance"
   },
   "source": [
    "## Ejercicio 3.  $\\color{red}{\\text{(3p)}}$ Equaciones diferenciales - problema de valor de limite (boundary value problem).\n",
    "\n",
    "Los organizadores de un espectáculo de fuegos artificiales quieren que los fuegos exploten a 40 metros sobre el suelo 5 segundos después del lanzamiento. Encuentra la velocidad inicial del cohete. \n",
    "\n",
    "a) usar ecuacion diferencial segunda orden:\n",
    "\n",
    "$$\\frac{d^2y}{dt^2}= −g $$\n",
    "\n",
    "donde $y$ es altitud de cohete y,   \n",
    "\n",
    "b) hacer plot $y(t)$ vs $t$\n"
   ]
  },
  {
   "cell_type": "code",
   "execution_count": null,
   "id": "lLaYyIJxiiWJ",
   "metadata": {
    "colab": {
     "base_uri": "https://localhost:8080/",
     "height": 453
    },
    "id": "lLaYyIJxiiWJ",
    "outputId": "46bd7a5c-57f1-41f0-c547-dad1bc26e4fa"
   },
   "outputs": [
    {
     "name": "stdout",
     "output_type": "stream",
     "text": [
      "(2, 100)\n",
      "1.0\n",
      "1.0\n",
      "1.0\n",
      "1.0000000298023224\n",
      "1.0\n",
      "1.0\n",
      "1.0\n",
      "-1.25\n",
      "1.0\n"
     ]
    },
    {
     "data": {
      "image/png": "[encoded data removed]",
      "text/plain": [
       "<Figure size 432x288 with 1 Axes>"
      ]
     },
     "metadata": {
      "needs_background": "light"
     },
     "output_type": "display_data"
    }
   ],
   "source": [
    "from scipy.integrate import solve_bvp\n",
    "import numpy as np\n",
    "import matplotlib.pyplot as plt\n",
    "\n",
    "#partimos de un sistema en reposo así que y(0) = 0, y nuestro otro yo es y(5) = 40 dado por el problema\n",
    "def derivs(t,y):\n",
    "    dydt=np.zeros((y.shape))\n",
    "    dydt[0]=y[0]\n",
    "    dydt[1]=-9.81\n",
    "    return dydt\n",
    "\n",
    "#decimos que ya y yb comienzan en 0\n",
    "def bc(ya,yb):\n",
    "    residuals=np.array([0.0,0.0])\n",
    "    residuals[0]=ya[0] - 0.0\n",
    "    residuals[1]=yb[0] - 40.0\n",
    "    print(ya[1])\n",
    "    return residuals\n",
    "\n",
    "#valor de nuestro intervalo para el eje x [0,5]\n",
    "t_steps = 100\n",
    "t = np.linspace(0,5,t_steps)\n",
    "y = np.zeros((2,t_steps))\n",
    "y = np.ones((2,t_steps))\n",
    "print(y.shape)\n",
    "sol = solve_bvp(derivs, bc, t, y)\n",
    "\n",
    "#Graficamos\n",
    "fig, ax=plt.subplots(1,1)\n",
    "ax.plot(sol.x, sol.y[0],'-r',label=' y vs t')\n",
    "ax.plot(5,40,'.b')\n",
    "ax.set_xlabel('t')\n",
    "ax.set_ylabel('y(t)')\n",
    "ax.legend()\n",
    "print(-5/4)\n",
    "print(sol.y[0][-1])"
   ]
  },
  {
   "cell_type": "markdown",
   "id": "insured-suspect",
   "metadata": {
    "id": "insured-suspect"
   },
   "source": [
    "## Ejercicio 4 Ecuaciones diferenciales acopladas - problema de valor inicial `scipy.integrate.solve_ivp` $\\color{red}{\\text{(10p)}}$ o `otros metodos`  $\\color{red}{\\text{(7p)}}$\n",
    "\n",
    "Las ecuaciones de Lotka-Volterra, también conocidas como ecuaciones depredador-presa, son un par de ecuaciones de primer orden, no lineales, ecuaciones diferenciales utilizadas con frecuencia para describir la dinámica de los sistemas biológicos en los que interactúan dos especies, uno como depredador y el otro como presa. Las poblaciones cambian a través del tiempo de acuerdo con el par de ecuaciones. "
   ]
  },
  {
   "cell_type": "markdown",
   "id": "interesting-luxury",
   "metadata": {
    "id": "interesting-luxury"
   },
   "source": [
    "$$\\frac{dx}{dt}=x(\\color{red}{\\alpha}-\\color{red}{\\beta} y)$$\n",
    "$$\\frac{dy}{dt}=-y(\\color{red}{\\gamma}-\\color{red}{\\delta} x)$$"
   ]
  },
  {
   "cell_type": "markdown",
   "id": "compliant-potato",
   "metadata": {
    "id": "compliant-potato"
   },
   "source": [
    "Esa ecuación describiría la evolución de la población de conejos y zorros (condiciones perfectas)\n",
    "\n",
    "* x - numbero de conejos  \n",
    "* y - numbero de zorros\n",
    "\n",
    "* $\\color{red}{\\alpha, \\beta, \\gamma, \\delta }$ son parámetros que describen la interacción de las dos especies\n",
    "\n",
    "* $\\frac{dx}{dt}, \\frac{dy}{dt}$ representan las tasas de crecimiento de las dos poblaciones a lo largo del tiempo\n",
    "\n",
    "* $t$ es tiempo"
   ]
  },
  {
   "cell_type": "markdown",
   "id": "auburn-charlotte",
   "metadata": {
    "id": "auburn-charlotte"
   },
   "source": [
    "![](https://raw.githubusercontent.com/mhemmg/ComputationalNumericalMethods/master/extras/additional_materials/examen_parcial_IV/rabbits_foxes.png)"
   ]
  },
  {
   "cell_type": "markdown",
   "id": "wrapped-edmonton",
   "metadata": {
    "id": "wrapped-edmonton"
   },
   "source": [
    "a) solucionar los ecuaciones diferenciales usando `scipy.integrate.solve_ivp` o `scipy.integrate.odeint`\n",
    "asumir: \n",
    "* $\\alpha, \\beta, \\gamma, \\delta = 1$\n",
    "* $x_{ini}=4$\n",
    "* $y_{ini}=2$\n",
    "* $t=0:30$ (unidades arbitrarias, asumir meses)\n",
    "\n",
    "b) hacer plot $x$ vs. $t$ , $y$ vs. $t$   \n",
    "c) hacer plot $x vs y$  \n",
    "d) comentar sobre los dos plots  "
   ]
  },
  {
   "cell_type": "code",
   "execution_count": null,
   "id": "R84I1bwPi1NT",
   "metadata": {
    "colab": {
     "base_uri": "https://localhost:8080/",
     "height": 661
    },
    "id": "R84I1bwPi1NT",
    "outputId": "c4860b3b-8641-4fa3-a8fc-0ae95c6a7479"
   },
   "outputs": [
    {
     "name": "stdout",
     "output_type": "stream",
     "text": [
      "<class 'scipy.integrate._ivp.ivp.OdeResult'>\n",
      "[ 0.          0.07260061  0.44779253  0.82298446  1.17678954  1.59119625\n",
      "  2.18594932  2.92129846  3.90198466  4.90526313  6.16223788  7.11194859\n",
      "  7.7934458   8.44289955  8.75334922  9.06379888  9.38309484  9.7023908\n",
      " 10.19895506 10.78281226 11.63125051 12.57421854 13.61997167 14.8637498\n",
      " 15.75288288 16.64201597 16.83104215 17.02006832 17.36405493 17.70804155\n",
      " 18.05851484 18.46269591 19.06324861 19.78321524 20.77186296 21.76765507\n",
      " 23.00190407 23.97640354 24.66102951 25.32148113 25.66544907 26.00941701\n",
      " 26.33181227 26.65420754 27.18464954 27.7748798  28.69069116 29.62648888\n",
      " 30.        ]\n",
      "[4.         3.65947802 1.3999562  0.3987012  0.16014209 0.08282845\n",
      " 0.05668028 0.06183896 0.11126911 0.25659437 0.82006631 2.00108068\n",
      " 3.60481599 4.03017575 2.16631169 0.77695455 0.28490895 0.1362371\n",
      " 0.07013991 0.05496179 0.06912184 0.13119563 0.32351989 1.03347299\n",
      " 2.36977609 4.41246039 4.24206032 3.38461732 1.30455916 0.41066988\n",
      " 0.16364526 0.08422794 0.0561345  0.06010597 0.10739854 0.24513434\n",
      " 0.76586293 1.91633885 3.49180017 4.17592317 2.17460303 0.69298452\n",
      " 0.25665253 0.12547475 0.0654147  0.05407843 0.07390761 0.1447706\n",
      " 0.19847608]\n",
      "excelente,la integracion termino con exito\n",
      "The solver successfully reached the end of the integration interval.\n"
     ]
    },
    {
     "data": {
      "text/plain": [
       "<matplotlib.legend.Legend at 0x7f146f9717d0>"
      ]
     },
     "execution_count": 70,
     "metadata": {},
     "output_type": "execute_result"
    },
    {
     "data": {
      "image/png": "[encoded data removed]",
      "text/plain": [
       "<Figure size 432x288 with 1 Axes>"
      ]
     },
     "metadata": {
      "needs_background": "light"
     },
     "output_type": "display_data"
    }
   ],
   "source": [
    "import numpy as np\n",
    "from scipy.integrate import solve_ivp\n",
    "import matplotlib.pyplot as plt\n",
    "\n",
    "#Escribimos la funcion\n",
    "#creamos un vector dydx que contenga x,y\n",
    "def depredadorpresa(t,y):\n",
    "    dydx = np.array([0.0,\n",
    "                     0.0])\n",
    "    \n",
    "    dydx[0] = y[0]*(a - B*y[1])\n",
    "    dydx[1] = -y[1]*(r - d*y[0])\n",
    "    return dydx\n",
    "\n",
    "#Tenemos en cuenta las condiciones iniciales y x0 = 4, y0 = 2 contenidos en un nuevo y0\n",
    "a = 1.0\n",
    "B = 1.0\n",
    "r = 1.0\n",
    "d = 1.0\n",
    "\n",
    "t0 = 0.0\n",
    "y0 = np.array([4.0,\n",
    "               2.0])\n",
    "\n",
    "#t0 = 0.0 y tfinal = 30 dados por el problema\n",
    "t_span=(t0,30.0)\n",
    "\n",
    "#usamos solve_ivp\n",
    "soli = solve_ivp(depredadorpresa, t_span, y0)\n",
    "print(type(soli))\n",
    "print(soli.t)\n",
    "print(soli.y[0])\n",
    "if soli.success == True:\n",
    "  print('excelente,la integracion termino con exito')\n",
    "\n",
    "#punto b) plot x vs t\n",
    "#Graficamos\n",
    "fig,ax = plt.subplots(1,1)\n",
    "print(soli.message)\n",
    "ax.plot(soli.t,soli.y[0],'--m',label = 'scipy.integrate.solve_ivp')\n",
    "ax.set_xlabel('t')\n",
    "ax.set_ylabel('x')\n",
    "ax.legend()"
   ]
  },
  {
   "cell_type": "code",
   "execution_count": null,
   "id": "4YtaPD7hlmI6",
   "metadata": {
    "colab": {
     "base_uri": "https://localhost:8080/",
     "height": 314
    },
    "id": "4YtaPD7hlmI6",
    "outputId": "45eb11b5-6edc-4ef8-81a6-c0ecdabd1049"
   },
   "outputs": [
    {
     "name": "stdout",
     "output_type": "stream",
     "text": [
      "The solver successfully reached the end of the integration interval.\n"
     ]
    },
    {
     "data": {
      "text/plain": [
       "<matplotlib.legend.Legend at 0x7f146f8f8450>"
      ]
     },
     "execution_count": 71,
     "metadata": {},
     "output_type": "execute_result"
    },
    {
     "data": {
      "image/png": "[encoded data removed]",
      "text/plain": [
       "<Figure size 432x288 with 1 Axes>"
      ]
     },
     "metadata": {
      "needs_background": "light"
     },
     "output_type": "display_data"
    }
   ],
   "source": [
    "#punto b) plot y vs t\n",
    "#Graficamos\n",
    "fig,ax = plt.subplots(1,1)\n",
    "print(soli.message)\n",
    "ax.plot(soli.t,soli.y[1],'--b',label = 'scipy.integrate.solve_ivp')\n",
    "ax.set_xlabel('t')\n",
    "ax.set_ylabel('y')\n",
    "ax.legend()"
   ]
  },
  {
   "cell_type": "code",
   "execution_count": null,
   "id": "WpOZ3C-voiAe",
   "metadata": {
    "colab": {
     "base_uri": "https://localhost:8080/",
     "height": 312
    },
    "id": "WpOZ3C-voiAe",
    "outputId": "a98af6b9-d8ac-4aa6-99a7-6836536e504c"
   },
   "outputs": [
    {
     "data": {
      "text/plain": [
       "<matplotlib.legend.Legend at 0x7f146f8d2990>"
      ]
     },
     "execution_count": 72,
     "metadata": {},
     "output_type": "execute_result"
    },
    {
     "data": {
      "image/png": "[encoded data removed]",
      "text/plain": [
       "<Figure size 432x288 with 1 Axes>"
      ]
     },
     "metadata": {
      "needs_background": "light"
     },
     "output_type": "display_data"
    }
   ],
   "source": [
    "fig,ax = plt.subplots(1,1)\n",
    "ax.plot(soli.t,soli.y[0],'--m',label = 'scipy.integrate.solve_ivp')\n",
    "ax.plot(soli.t,soli.y[1],'--b',label = 'scipy.integrate.solve_ivp')\n",
    "ax.set_xlabel('Tiempo')\n",
    "ax.set_ylabel('magenta poblacion conejos, azul poblacion zorros')\n",
    "ax.legend()"
   ]
  },
  {
   "cell_type": "markdown",
   "id": "LNV5viqrozp3",
   "metadata": {
    "id": "LNV5viqrozp3"
   },
   "source": [
    "pundo d)\n",
    "\n",
    "Notamos que cuando la población de zorros es máxima, la población de conejos alcanza su mínimo. Y cuando la población de conejos es máxima la de zorros es mínima.\n",
    "\n",
    "Son Inversamente Proporcionales."
   ]
  },
  {
   "cell_type": "code",
   "execution_count": null,
   "id": "2qBsXkoanAaO",
   "metadata": {
    "colab": {
     "base_uri": "https://localhost:8080/",
     "height": 314
    },
    "id": "2qBsXkoanAaO",
    "outputId": "44930175-1fae-43f0-ff2e-c5e145cdd4e8"
   },
   "outputs": [
    {
     "name": "stdout",
     "output_type": "stream",
     "text": [
      "The solver successfully reached the end of the integration interval.\n"
     ]
    },
    {
     "data": {
      "text/plain": [
       "<matplotlib.legend.Legend at 0x7f146f900450>"
      ]
     },
     "execution_count": 73,
     "metadata": {},
     "output_type": "execute_result"
    },
    {
     "data": {
      "image/png": "[encoded data removed]",
      "text/plain": [
       "<Figure size 432x288 with 1 Axes>"
      ]
     },
     "metadata": {
      "needs_background": "light"
     },
     "output_type": "display_data"
    }
   ],
   "source": [
    "#punto c) plot x vs y\n",
    "#Graficamos\n",
    "fig,ax = plt.subplots(1,1)\n",
    "print(soli.message)\n",
    "ax.plot(soli.y[0],soli.y[1],'.k',label = 'scipy.integrate.solve_ivp')\n",
    "ax.set_xlabel('y')\n",
    "ax.set_ylabel('x')\n",
    "ax.legend()"
   ]
  },
  {
   "cell_type": "markdown",
   "id": "uM_bC3b0pk-d",
   "metadata": {
    "id": "uM_bC3b0pk-d"
   },
   "source": [
    "la grafica de conejos vs zorros tiene un comportamiento ciclico, ambas especies dependen una de la otra. "
   ]
  },
  {
   "cell_type": "markdown",
   "id": "0cd2d4e4",
   "metadata": {},
   "source": [
    "# Feedback:\n",
    "```\n",
    "Exercise 1.\n",
    "Solution + presentation of the results\t            (max 3.0p):\t0.0p\n",
    "- solucion identica con Maria Paula\n",
    "\n",
    "Exercise 2.\n",
    "Solution + presentation of the results\t            (max 4.0p):\t0.0p\n",
    "\n",
    "Exercise 3.\n",
    "Solution + presentation of the results\t            (max 3.0p):\t0.0p\n",
    "\n",
    "Exercise 4 ODEINT.\n",
    "Solution + presentation of the results\t            (max 7.0p):\t0.0p\n",
    "\n",
    "Exercise 4 IVP.\n",
    "Solution + presentation of the results\t            (max 10.0p):  10.0p\n",
    "\n",
    "\n",
    "\n",
    "- Total:                                              (max 10.0p):   10.0p\n",
    "```"
   ]
  },
  {
   "cell_type": "code",
   "execution_count": null,
   "id": "d5c0d852",
   "metadata": {},
   "outputs": [],
   "source": []
  }
 ],
 "metadata": {
  "colab": {
   "provenance": []
  },
  "kernelspec": {
   "display_name": "Python 3",
   "language": "python",
   "name": "python3"
  },
  "language_info": {
   "codemirror_mode": {
    "name": "ipython",
    "version": 3
   },
   "file_extension": ".py",
   "mimetype": "text/x-python",
   "name": "python",
   "nbconvert_exporter": "python",
   "pygments_lexer": "ipython3",
   "version": "3.7.2"
  }
 },
 "nbformat": 4,
 "nbformat_minor": 5
}
