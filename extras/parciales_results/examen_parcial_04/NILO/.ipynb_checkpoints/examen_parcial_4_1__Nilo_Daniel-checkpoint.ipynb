{
 "cells": [
  {
   "cell_type": "markdown",
   "id": "impossible-command",
   "metadata": {
    "id": "impossible-command"
   },
   "source": [
    "# Examen parcial 4  $\\color{red}{\\text{(10p max)}}$ (Equaciones diferenciales)\n",
    "* Antes de enviar el archivo, $\\textbf{reiniciar y ejecutar el kernel}$ y ver que el archivo se compila sin errores\n",
    "* enviar el archivo jupyter sin anexos antes de las 10.20am del 30.09.2022 a mi dirección de correo electrónico: michal.hemmerling@udea.edu.co "
   ]
  },
  {
   "cell_type": "markdown",
   "id": "focused-michigan",
   "metadata": {
    "id": "focused-michigan"
   },
   "source": [
    "## Ejercicio 1. $\\color{red}{\\text{(3p)}}$ Equaciones diferenciales - problema de valor de limite (boundary value problem).\n",
    "\n",
    "Transporte de calor en un objeto puede ser escrito usando segunda orden equacion diferencial:\n",
    "$$\\frac{d^2T}{dx^2}=0.01T-0.2$$\n",
    "a) Usando `scipy.integrate.solve_bvp` resolver este equacion diferencial cumpliendo siguientes condiciones de limite:\n",
    "\n",
    "T(x=0)=40  \n",
    "T(x=10)=200\n",
    "\n",
    "b) Hace grafico de T(x) vs x (con etiquietas y legend) "
   ]
  },
  {
   "cell_type": "code",
   "execution_count": 1,
   "id": "wlDLwtZ_qFfw",
   "metadata": {
    "id": "wlDLwtZ_qFfw"
   },
   "outputs": [],
   "source": [
    "import numpy as np\n",
    "from scipy.integrate import solve_bvp\n",
    "import matplotlib.pyplot as plt\n"
   ]
  },
  {
   "cell_type": "markdown",
   "id": "Zg7YfpJgj0b1",
   "metadata": {
    "id": "Zg7YfpJgj0b1"
   },
   "source": [
    "En primer lugar, la ecuación diferencial, al ser de segundo orden, debe ser reducida de tal manera que pueda tratarse como un sistema de ecuaciones de primer orden equivalente. \n",
    "Sea\n",
    "\n",
    "$\\frac{dT}{dx}=Z$\n",
    "\n",
    "$\\frac{dZ}{dx}=0.01T-0.2$\n",
    "\n",
    "Una vez establecido el sistema, requerimos expresarlo en una forma vectorial, sea\n",
    "\n",
    "$R_v=[dZ/dx,dT/dx]$\n",
    "\n",
    "y definimos entonces el lado derecho del sistema de ecuaciones diferenciales en forma vectorial, así como la función de residuales dada por la condición de frontera\n",
    "\n",
    "\n"
   ]
  },
  {
   "cell_type": "code",
   "execution_count": 2,
   "id": "x8rlm-syl-ZW",
   "metadata": {
    "id": "x8rlm-syl-ZW"
   },
   "outputs": [],
   "source": [
    "def dR_dx(x,R):\n",
    "  dR_dx=np.zeros((R.shape))\n",
    "  dR_dx[0]=R[1]\n",
    "  dR_dx[1]=0.01*R[0]-0.2\n",
    "  return dR_dx\n",
    "\n",
    "\n",
    "def boundaryc(ya,yb):\n",
    "    res=np.array([0.0,0.0])\n",
    "    res[0]=ya[0] - 40\n",
    "    res[1]=yb[0] - 200\n",
    "    return res"
   ]
  },
  {
   "cell_type": "code",
   "execution_count": 3,
   "id": "P9K1I9IKphg3",
   "metadata": {
    "id": "P9K1I9IKphg3"
   },
   "outputs": [],
   "source": [
    "#Defino ahora la rejilla de puntos en los cuales quiero trabajar\n",
    "n = 1000\n",
    "x = np.linspace(0,10,n) \n",
    "\n",
    "#Y a la matriz con los valores respectivos de las variables, o mejor dicho, el arreglo que almacena los vectores R\n",
    "\n",
    "R= np.zeros((2,n))"
   ]
  },
  {
   "cell_type": "code",
   "execution_count": 4,
   "id": "gyCteKHAq7K-",
   "metadata": {
    "id": "gyCteKHAq7K-"
   },
   "outputs": [],
   "source": [
    "#Y procedemos a resolver\n",
    "\n",
    "R_ajustado = solve_bvp(dR_dx, boundaryc, x, R)"
   ]
  },
  {
   "cell_type": "code",
   "execution_count": 5,
   "id": "lTPFoGYirZM2",
   "metadata": {
    "colab": {
     "base_uri": "https://localhost:8080/"
    },
    "id": "lTPFoGYirZM2",
    "outputId": "da7b5e55-825d-45ca-f1c3-b0fcd06a8d55"
   },
   "outputs": [
    {
     "data": {
      "text/plain": [
       "array([[ 40.        ,  40.12704163,  40.25410343, ..., 199.56126536,\n",
       "        199.78054261, 200.        ],\n",
       "       [ 12.69045582,  12.69246418,  12.69448526, ...,  21.89680663,\n",
       "         21.91479171,  21.93279874]])"
      ]
     },
     "execution_count": 5,
     "metadata": {},
     "output_type": "execute_result"
    }
   ],
   "source": [
    "R_ajustado.y"
   ]
  },
  {
   "cell_type": "code",
   "execution_count": 6,
   "id": "PQLbmUbEr0wW",
   "metadata": {
    "colab": {
     "base_uri": "https://localhost:8080/"
    },
    "id": "PQLbmUbEr0wW",
    "outputId": "bd6e711a-8955-4a1c-80b1-50a25065221e"
   },
   "outputs": [
    {
     "name": "stdout",
     "output_type": "stream",
     "text": [
      "1000\n",
      "1000\n"
     ]
    }
   ],
   "source": [
    "#Verificamos que la solución obtenida tenga el mismo tamaño que la rejilla\n",
    "print(len(R_ajustado.y[0]))\n",
    "print(len(x))"
   ]
  },
  {
   "cell_type": "code",
   "execution_count": 7,
   "id": "n47rK4F6sS7X",
   "metadata": {
    "colab": {
     "base_uri": "https://localhost:8080/",
     "height": 313
    },
    "id": "n47rK4F6sS7X",
    "outputId": "50ebd850-4eb8-47e4-94e8-393098508b42"
   },
   "outputs": [
    {
     "data": {
      "text/plain": [
       "Text(0, 0.5, 'Temperatura[T]')"
      ]
     },
     "execution_count": 7,
     "metadata": {},
     "output_type": "execute_result"
    },
    {
     "data": {
      "image/png": "[encoded data removed]",
      "text/plain": [
       "<Figure size 432x288 with 1 Axes>"
      ]
     },
     "metadata": {
      "needs_background": "light"
     },
     "output_type": "display_data"
    }
   ],
   "source": [
    "#Y obtenemos la gráfica.\n",
    "plt.plot(x,R_ajustado.y[0])\n",
    "plt.title(\"Temperatura contra Posición en fenómeno de transporte de calor\")\n",
    "plt.xlabel(\"Posición[x]\")\n",
    "plt.ylabel(\"Temperatura[T]\")"
   ]
  },
  {
   "cell_type": "markdown",
   "id": "ANUVJB-ds6m-",
   "metadata": {
    "id": "ANUVJB-ds6m-"
   },
   "source": [
    "Nótese en esta gráfica la manera en la que efectivamente la solución cruza (quizás aproximadamente) por los valores esperados en los dos puntos frontera. \n",
    "Esta gráfica es entonces la respuesta obtenida para el perfil de temperaturas asociado al transporte de calor en el objeto buscado. "
   ]
  },
  {
   "cell_type": "markdown",
   "id": "sized-liberty",
   "metadata": {
    "id": "sized-liberty"
   },
   "source": [
    "## Ejercicio 2.  $\\color{red}{\\text{(4p)}}$ Ecuaciones diferenciales - problema de valor inicial (initial value problem).\n",
    "\n",
    "La ley de Newton del enfriamiento tiene forma de ecuación diferencial\n",
    "\n",
    "$$\\frac{dy}{dt}=k(y-T_{amb}) $$\n",
    "\n",
    "\n",
    "donde:\n",
    "* y es la temperatura actual de un objeto\n",
    "* t es tiempo\n",
    "* k es un valor constante de enfriamiento\n",
    "* $T_{amb}$ es la temperatura del ambiente\n",
    "\n",
    "Digamos que una taza de café tiene una temperatura inicial de 90 centígrados y la temperatura ambiente es de 25 centígrados.\n",
    "\n",
    "a) usando `scipy.integrate.solve_ivp` resolver ecuación diferencial:\n",
    "\n",
    "* para el rango t: t=[0:60], [minutos] (use 100 puntos)\n",
    "* asumir k=-0.06\n",
    "\n",
    "b) Hace grafico de $y(t)$ vs $t$ (con leyenda)\n",
    "* si le gusta tomar café cuando está a más de 70 grados, ¿cuál es el tiempo máximo que puede esperar antes de beber el café (puede obtener índices usando `np.argwhere` para obtener un rango de temperatura más preciso)"
   ]
  },
  {
   "cell_type": "code",
   "execution_count": 8,
   "id": "njwT0l1Mvnd_",
   "metadata": {
    "id": "njwT0l1Mvnd_"
   },
   "outputs": [],
   "source": [
    "from scipy.integrate import solve_ivp"
   ]
  },
  {
   "cell_type": "code",
   "execution_count": 9,
   "id": "FSg1qLg9uO6f",
   "metadata": {
    "id": "FSg1qLg9uO6f"
   },
   "outputs": [],
   "source": [
    "#Este es mucho más sencillo así que omitiré detalles puesto que el tiempo apremia\n",
    "\n",
    "#  Sea y=T\n",
    "k=-0.06\n",
    "Tm=25\n",
    "T0=90\n",
    "\n",
    "#Aquí definimos el intervalo de ajuste\n",
    "a=0\n",
    "b=60\n",
    "\n",
    "def dR_dT(t,T):\n",
    "  dR=k*(T-Tm)\n",
    "  return dR\n",
    "\n",
    "n=100\n",
    "t=np.linspace(a,b,n) \n",
    "\n",
    "DT=(a,b)\n",
    "Tini=[T0]"
   ]
  },
  {
   "cell_type": "code",
   "execution_count": 10,
   "id": "PKKMnz6FvT2v",
   "metadata": {
    "id": "PKKMnz6FvT2v"
   },
   "outputs": [],
   "source": [
    "#Y resolvemos\n",
    "\n",
    "Temperature_Sol=solve_ivp(dR_dT,DT,Tini,t_eval=t)"
   ]
  },
  {
   "cell_type": "code",
   "execution_count": 11,
   "id": "DZFu-RfTwm5p",
   "metadata": {
    "colab": {
     "base_uri": "https://localhost:8080/"
    },
    "id": "DZFu-RfTwm5p",
    "outputId": "326bc692-e1dd-4cc6-96a9-4b57ae39cf9c"
   },
   "outputs": [
    {
     "name": "stdout",
     "output_type": "stream",
     "text": [
      "[90.         87.67882237 85.44053514 83.28217852 81.20046811 79.19116184\n",
      " 77.25200466 75.380975   73.5760753  71.83533194 70.1567953  68.53853974\n",
      " 66.97866357 65.47528911 64.02656263 62.6306544  61.28575864 59.99009356\n",
      " 58.74190136 57.5394482  56.38102422 55.26494353 54.18954423 53.15318839\n",
      " 52.15426206 51.19117525 50.26236198 49.36628022 48.50141192 47.66626301\n",
      " 46.85936339 46.07932657 45.32606611 44.59918713 43.89790605 43.22145028\n",
      " 42.56905824 41.93997931 41.3334739  40.7488134  40.18528019 39.64216766\n",
      " 39.11878018 38.61443312 38.12845284 37.66017669 37.20895303 36.77414121\n",
      " 36.35511156 35.95124543 35.56193513 35.18658399 34.82460633 34.47542746\n",
      " 34.1384837  33.81322232 33.49910165 33.19563008 32.90261066 32.61978414\n",
      " 32.3468631  32.08356316 31.829603   31.58470436 31.34859203 31.12099388\n",
      " 30.90164079 30.69026676 30.48660879 30.29040696 30.10140443 29.91934737\n",
      " 29.74398504 29.57506976 29.41235688 29.25560482 29.10457508 28.95903219\n",
      " 28.81874373 28.68348037 28.5530158  28.4271268  28.30559318 28.18819783\n",
      " 28.07472669 27.96499644 27.85910576 27.75699094 27.65852162 27.5635709\n",
      " 27.47201528 27.38373468 27.29861244 27.21653534 27.13739355 27.06108067\n",
      " 26.98749375 26.91653321 26.84810294 26.7821102 ]\n"
     ]
    }
   ],
   "source": [
    "#Prueba de escritorio\n",
    "print(Temperature_Sol.y[0])"
   ]
  },
  {
   "cell_type": "code",
   "execution_count": 12,
   "id": "fgK_zV71wvJP",
   "metadata": {
    "colab": {
     "base_uri": "https://localhost:8080/",
     "height": 312
    },
    "id": "fgK_zV71wvJP",
    "outputId": "843f372e-194d-4fa6-b5ae-05e67eba7f2e"
   },
   "outputs": [
    {
     "data": {
      "text/plain": [
       "Text(0, 0.5, 'Temperatura[°C]')"
      ]
     },
     "execution_count": 12,
     "metadata": {},
     "output_type": "execute_result"
    },
    {
     "data": {
      "image/png": "[encoded data removed]",
      "text/plain": [
       "<Figure size 432x288 with 1 Axes>"
      ]
     },
     "metadata": {
      "needs_background": "light"
     },
     "output_type": "display_data"
    }
   ],
   "source": [
    "plt.plot(t,Temperature_Sol.y[0])\n",
    "plt.title(\"Temperatura contra Tiempo.Enfriamiento del café\")\n",
    "plt.xlabel(\"Tiempo[min]\")\n",
    "plt.ylabel(\"Temperatura[°C]\")\n"
   ]
  },
  {
   "cell_type": "markdown",
   "id": "nTtt8Txexr5I",
   "metadata": {
    "id": "nTtt8Txexr5I"
   },
   "source": [
    "Adicionalmente buscamos el tiempo mínimo antes de que la temperatura descienda de los 70°C"
   ]
  },
  {
   "cell_type": "code",
   "execution_count": 13,
   "id": "SI3fHlbsxw-_",
   "metadata": {
    "colab": {
     "base_uri": "https://localhost:8080/",
     "height": 312
    },
    "id": "SI3fHlbsxw-_",
    "outputId": "88bc1227-3c1c-42b8-b345-573f135f3240"
   },
   "outputs": [
    {
     "data": {
      "text/plain": [
       "<matplotlib.lines.Line2D at 0x7fb2306082e8>"
      ]
     },
     "execution_count": 13,
     "metadata": {},
     "output_type": "execute_result"
    },
    {
     "data": {
      "image/png": "[encoded data removed]",
      "text/plain": [
       "<Figure size 432x288 with 1 Axes>"
      ]
     },
     "metadata": {
      "needs_background": "light"
     },
     "output_type": "display_data"
    }
   ],
   "source": [
    "plt.plot(t,Temperature_Sol.y[0])\n",
    "plt.title(\"Temperatura contra Tiempo.Enfriamiento del café\")\n",
    "plt.xlabel(\"Tiempo[min]\")\n",
    "plt.ylabel(\"Temperatura[°C]\")\n",
    "plt.axhline(y=70, xmin=0, xmax=60,color=\"red\")"
   ]
  },
  {
   "cell_type": "code",
   "execution_count": 14,
   "id": "d-dS1btmyTOR",
   "metadata": {
    "colab": {
     "base_uri": "https://localhost:8080/",
     "height": 312
    },
    "id": "d-dS1btmyTOR",
    "outputId": "213ff2eb-3465-4d3c-c97d-98d2a7029897"
   },
   "outputs": [
    {
     "data": {
      "text/plain": [
       "<matplotlib.lines.Line2D at 0x7fb230583898>"
      ]
     },
     "execution_count": 14,
     "metadata": {},
     "output_type": "execute_result"
    },
    {
     "data": {
      "image/png": "[encoded data removed]",
      "text/plain": [
       "<Figure size 432x288 with 1 Axes>"
      ]
     },
     "metadata": {
      "needs_background": "light"
     },
     "output_type": "display_data"
    }
   ],
   "source": [
    "plt.plot(t[0:20],Temperature_Sol.y[0][0:20])\n",
    "plt.title(\"Temperatura contra Tiempo.Enfriamiento del café\")\n",
    "plt.xlabel(\"Tiempo[min]\")\n",
    "plt.ylabel(\"Temperatura[°C]\")\n",
    "plt.axhline(y=70, xmin=0, xmax=10,color=\"red\")"
   ]
  },
  {
   "cell_type": "markdown",
   "id": "DD1Fz8gxyAyh",
   "metadata": {
    "id": "DD1Fz8gxyAyh"
   },
   "source": [
    "Gráficamente es claro que es algo menos de diez minutos. Con el zoom que le hice, podríamos hacer una estimación muy precisa a ojímetro. \n",
    "El tiempo máximo de espera para consumir el café estando aún por encima de la temperatura deseada es de 6 minutos. \n",
    "\n",
    "Sin embargo, es posible  usar los métodos de Python para obtener una estimación mejor. Elegir el argumento es una opción razonable..."
   ]
  },
  {
   "cell_type": "markdown",
   "id": "bZMWPYof3pt6",
   "metadata": {
    "id": "bZMWPYof3pt6"
   },
   "source": [
    "Para esto, solo deben restarse los valores de la solución con el valor esperado, y aquellos que estén por debajo de un rango son los únicos que se seleccionarán para graficar, claramente, en el proceso, habrá que eliminar los valores que estén suficiente cerca de la temperatura deseada pero por debajo de ella. De manera más precisa, la condición múltiple\n",
    "\n",
    "$ T(k)-70 < tol, T(k)-70>0 $\n",
    "Definen a los puntos suficiente cercanos para considerarse buenos candidatos. Yo además de esto, seleccionaré al mínimo de ellos. "
   ]
  },
  {
   "cell_type": "code",
   "execution_count": 15,
   "id": "SgsnSZiN6U1K",
   "metadata": {
    "colab": {
     "base_uri": "https://localhost:8080/"
    },
    "id": "SgsnSZiN6U1K",
    "outputId": "56c29a32-00c6-485a-90aa-876f9697aebd"
   },
   "outputs": [
    {
     "name": "stdout",
     "output_type": "stream",
     "text": [
      "10\n",
      "6.0606060606060606\n",
      "70.15679530181957\n",
      "68.53853973682047\n",
      "En mi rejilla, el valor de tiempo más cercano al tiempo mínimo en el que puede beberse el cafe es: 6.0606060606060606\n"
     ]
    }
   ],
   "source": [
    "from numpy import abs\n",
    "\n",
    "Tdeseada=70*np.ones(Temperature_Sol.y[0].shape)\n",
    "\n",
    "Tk=Temperature_Sol.y[0]-Tdeseada\n",
    "\n",
    "#Reacomodamos las negativas. \n",
    "for i in range(0,len(Tk),1):\n",
    "  if ( (Temperature_Sol.y[0][i]-70)<0 ):\n",
    "    Tk[i]=-(Temperature_Sol.y[0][i]-70)+70\n",
    "\n",
    "indice=np.argmin(Tk)\n",
    "print(indice)\n",
    "print(t[10])\n",
    "print(Temperature_Sol.y[0][10])\n",
    "print(Temperature_Sol.y[0][11])\n",
    "print(\"En mi rejilla, el valor de tiempo más cercano al tiempo mínimo en el que puede beberse el cafe es:\", t[indice])"
   ]
  },
  {
   "cell_type": "markdown",
   "id": "growing-acceptance",
   "metadata": {
    "id": "growing-acceptance"
   },
   "source": [
    "## Ejercicio 3.  $\\color{red}{\\text{(3p)}}$ Equaciones diferenciales - problema de valor de limite (boundary value problem).\n",
    "\n",
    "Los organizadores de un espectáculo de fuegos artificiales quieren que los fuegos exploten a 40 metros sobre el suelo 5 segundos después del lanzamiento. Encuentra la velocidad inicial del cohete. \n",
    "\n",
    "a) usar ecuacion diferencial segunda orden:\n",
    "\n",
    "$$\\frac{d^2y}{dt^2}= −g $$\n",
    "\n",
    "donde $y$ es altitud de cohete y,   \n",
    "\n",
    "b) hacer plot $y(t)$ vs $t$\n"
   ]
  },
  {
   "cell_type": "markdown",
   "id": "j46CD72FzgdK",
   "metadata": {
    "id": "j46CD72FzgdK"
   },
   "source": [
    "Este problema es idéntico en planteamiento al punto 1 de este examen por lo que omitiré explicaciones adicionales y me limitaré a usar nuevamente el código que ya había hecho para ese problema. El tiempo apremia. \n",
    "\n",
    "\n",
    "Sea $v=dy/dx$\n",
    "Y el sistema a resolver\n",
    "\n",
    "$dv/dt=-g$\n",
    "\n",
    "$dy/dt=v$\n",
    "\n",
    "y sea r un vector que almacena la posición y la velocidad respectivamente"
   ]
  },
  {
   "cell_type": "code",
   "execution_count": 16,
   "id": "OEWohQdCzHoB",
   "metadata": {
    "id": "OEWohQdCzHoB"
   },
   "outputs": [],
   "source": [
    "# Aquí estamos despreciando efectos aerodinámicos y considerando que el cohete está únicamente sujeto a la acción de la gravedad una vez este es lanzado \n",
    "\n",
    "a=0\n",
    "b=5\n",
    "h0=0\n",
    "h5=40\n",
    "g=-9.80665\n"
   ]
  },
  {
   "cell_type": "code",
   "execution_count": 17,
   "id": "bzkvnnyEzwrx",
   "metadata": {
    "id": "bzkvnnyEzwrx"
   },
   "outputs": [],
   "source": [
    "def dr_dt(x,r):\n",
    "  dr_dt=np.zeros((r.shape))\n",
    "  dr_dt[0]=r[1]\n",
    "  dr_dt[1]=-g\n",
    "  return dr_dt\n",
    "\n",
    "\n",
    "def boundc(ya,yb):\n",
    "    res=np.array([0.0,0.0])\n",
    "    res[0]=ya[0] - h0\n",
    "    res[1]=yb[0] - h5\n",
    "    return res"
   ]
  },
  {
   "cell_type": "code",
   "execution_count": 18,
   "id": "HqTViSxhzx84",
   "metadata": {
    "id": "HqTViSxhzx84"
   },
   "outputs": [],
   "source": [
    "#Defino ahora la rejilla de puntos en los cuales quiero trabajar\n",
    "n = 1000\n",
    "t = np.linspace(a,b,n) \n",
    "#Y a la matriz con los valores respectivos de las variables, o mejor dicho, el arreglo que almacena los vectores R\n",
    "r= np.zeros((2,n))"
   ]
  },
  {
   "cell_type": "code",
   "execution_count": 19,
   "id": "Jqwtt4sEz3FR",
   "metadata": {
    "id": "Jqwtt4sEz3FR"
   },
   "outputs": [],
   "source": [
    "#Y procedemos a resolver\n",
    "r_solution = solve_bvp(dr_dt, boundc, t, r)"
   ]
  },
  {
   "cell_type": "code",
   "execution_count": 20,
   "id": "jum683GGz8-Y",
   "metadata": {
    "colab": {
     "base_uri": "https://localhost:8080/",
     "height": 312
    },
    "id": "jum683GGz8-Y",
    "outputId": "f07580f2-8534-4d5a-fd18-ea976384a3c8"
   },
   "outputs": [
    {
     "data": {
      "text/plain": [
       "Text(0, 0.5, 'Altura[m]')"
      ]
     },
     "execution_count": 20,
     "metadata": {},
     "output_type": "execute_result"
    },
    {
     "data": {
      "image/png": "[encoded data removed]",
      "text/plain": [
       "<Figure size 432x288 with 1 Axes>"
      ]
     },
     "metadata": {
      "needs_background": "light"
     },
     "output_type": "display_data"
    }
   ],
   "source": [
    "#Y obtenemos la gráfica. Note en ella que \n",
    "plt.plot(t,r_solution.y[0])\n",
    "plt.title(\"Altura del cohete\")\n",
    "plt.xlabel(\"Tiempo[s]\")\n",
    "plt.ylabel(\"Altura[m]\")"
   ]
  },
  {
   "cell_type": "markdown",
   "id": "mD5zxRv02Va7",
   "metadata": {
    "id": "mD5zxRv02Va7"
   },
   "source": [
    "Desconozco la situación física a detalle. Sin embargo, los valores de la función son consistentes con los valores de frontera impuestos. "
   ]
  },
  {
   "cell_type": "markdown",
   "id": "insured-suspect",
   "metadata": {
    "id": "insured-suspect"
   },
   "source": [
    "## Ejercicio 4 Ecuaciones diferenciales acopladas - problema de valor inicial `scipy.integrate.solve_ivp` $\\color{red}{\\text{(10p)}}$ o `otros metodos`  $\\color{red}{\\text{(7p)}}$\n",
    "\n",
    "Las ecuaciones de Lotka-Volterra, también conocidas como ecuaciones depredador-presa, son un par de ecuaciones de primer orden, no lineales, ecuaciones diferenciales utilizadas con frecuencia para describir la dinámica de los sistemas biológicos en los que interactúan dos especies, uno como depredador y el otro como presa. Las poblaciones cambian a través del tiempo de acuerdo con el par de ecuaciones. "
   ]
  },
  {
   "cell_type": "markdown",
   "id": "interesting-luxury",
   "metadata": {
    "id": "interesting-luxury"
   },
   "source": [
    "$$\\frac{dx}{dt}=x(\\color{red}{\\alpha}-\\color{red}{\\beta} y)$$\n",
    "$$\\frac{dy}{dt}=-y(\\color{red}{\\gamma}-\\color{red}{\\delta} x)$$"
   ]
  },
  {
   "cell_type": "markdown",
   "id": "compliant-potato",
   "metadata": {
    "id": "compliant-potato"
   },
   "source": [
    "Esa ecuación describiría la evolución de la población de conejos y zorros (condiciones perfectas)\n",
    "\n",
    "* x - numbero de conejos  \n",
    "* y - numbero de zorros\n",
    "\n",
    "* $\\color{red}{\\alpha, \\beta, \\gamma, \\delta }$ son parámetros que describen la interacción de las dos especies\n",
    "\n",
    "* $\\frac{dx}{dt}, \\frac{dy}{dt}$ representan las tasas de crecimiento de las dos poblaciones a lo largo del tiempo\n",
    "\n",
    "* $t$ es tiempo"
   ]
  },
  {
   "cell_type": "markdown",
   "id": "auburn-charlotte",
   "metadata": {
    "id": "auburn-charlotte"
   },
   "source": [
    "![](https://raw.githubusercontent.com/mhemmg/ComputationalNumericalMethods/master/extras/additional_materials/examen_parcial_IV/rabbits_foxes.png)"
   ]
  },
  {
   "cell_type": "markdown",
   "id": "wrapped-edmonton",
   "metadata": {
    "id": "wrapped-edmonton"
   },
   "source": [
    "a) solucionar los ecuaciones diferenciales usando `scipy.integrate.solve_ivp` o `scipy.integrate.odeint`\n",
    "asumir: \n",
    "* $\\alpha, \\beta, \\gamma, \\delta = 1$\n",
    "* $x_{ini}=4$\n",
    "* $y_{ini}=2$\n",
    "* $t=0:30$ (unidades arbitrarias, asumir meses)\n",
    "\n",
    "b) hacer plot $x$ vs. $t$ , $y$ vs. $t$   \n",
    "c) hacer plot $x vs y$  \n",
    "d) comentar sobre los dos plots  "
   ]
  },
  {
   "cell_type": "code",
   "execution_count": 21,
   "id": "Zg9M3Iu9_FoL",
   "metadata": {
    "id": "Zg9M3Iu9_FoL"
   },
   "outputs": [],
   "source": [
    "x0=4\n",
    "y0=2\n",
    "t0=0\n",
    "tf=30\n",
    "\n",
    "R0=[x0,y0]"
   ]
  },
  {
   "cell_type": "code",
   "execution_count": 22,
   "id": "q6swZZ6K-fok",
   "metadata": {
    "id": "q6swZZ6K-fok"
   },
   "outputs": [],
   "source": [
    "def dR_dt(t,R):\n",
    "  dR_dt=np.zeros((R.shape))\n",
    "  dR_dt[0]=R[0]*(1-R[1])\n",
    "  dR_dt[1]=-R[1]*(R[1]-R[0])\n",
    "  return dR_dt\n",
    "\n"
   ]
  },
  {
   "cell_type": "code",
   "execution_count": 23,
   "id": "8l7YZhAx_XHE",
   "metadata": {
    "id": "8l7YZhAx_XHE"
   },
   "outputs": [],
   "source": [
    "n=100\n",
    "t=np.linspace(t0,tf,n) \n",
    "\n",
    "Dt=(t0,tf)\n",
    "Rini=[R0]"
   ]
  },
  {
   "cell_type": "code",
   "execution_count": 24,
   "id": "xSIz69Lg_X0t",
   "metadata": {
    "colab": {
     "base_uri": "https://localhost:8080/",
     "height": 328
    },
    "id": "xSIz69Lg_X0t",
    "outputId": "41c9d99c-be0b-40bc-a77a-471cf1f2b1bb"
   },
   "outputs": [],
   "source": [
    "R_Sol=solve_ivp(dR_dt,Dt,R0,t_eval=t)\n",
    "\n"
   ]
  },
  {
   "cell_type": "code",
   "execution_count": 25,
   "id": "YYh5Zn3b_gQD",
   "metadata": {
    "id": "YYh5Zn3b_gQD"
   },
   "outputs": [],
   "source": [
    "#Pero no estoy muy seguro de porque este método no funciona. Lo siento profe, este punto lo quedo debiendo para la próxima vez. \n",
    "# Me encanta la biología, y en este problema espero poderlo profundizar algún estudio posterior."
   ]
  },
  {
   "cell_type": "markdown",
   "id": "27041b6b",
   "metadata": {},
   "source": [
    "# Feedback:\n",
    "```\n",
    "Exercise 1.\n",
    "Solution + presentation of the results\t            (max 3.0p):\t3.0p\n",
    "\n",
    "Exercise 2.\n",
    "Solution + presentation of the results\t            (max 4.0p):\t4.0p\n",
    "\n",
    "Exercise 3.\n",
    "Solution + presentation of the results\t            (max 3.0p):\t1.0p\n",
    "\n",
    "Exercise 4 ODEINT.\n",
    "Solution + presentation of the results\t            (max 7.0p):\t0.0p\n",
    "\n",
    "Exercise 4 IVP.\n",
    "Solution + presentation of the results\t            (max 10.0p):  0.0p\n",
    "\n",
    "\n",
    "\n",
    "- Total:                                              (max 10.0p):   8.0p\n",
    "```"
   ]
  },
  {
   "cell_type": "code",
   "execution_count": null,
   "id": "35ca7d9e",
   "metadata": {},
   "outputs": [],
   "source": []
  }
 ],
 "metadata": {
  "colab": {
   "collapsed_sections": [],
   "provenance": []
  },
  "kernelspec": {
   "display_name": "Python 3",
   "language": "python",
   "name": "python3"
  },
  "language_info": {
   "codemirror_mode": {
    "name": "ipython",
    "version": 3
   },
   "file_extension": ".py",
   "mimetype": "text/x-python",
   "name": "python",
   "nbconvert_exporter": "python",
   "pygments_lexer": "ipython3",
   "version": "3.7.2"
  }
 },
 "nbformat": 4,
 "nbformat_minor": 5
}
